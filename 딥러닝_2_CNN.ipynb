{
  "nbformat": 4,
  "nbformat_minor": 0,
  "metadata": {
    "colab": {
      "name": "딥러닝 #2 CNN.ipynb",
      "provenance": [],
      "collapsed_sections": [],
      "include_colab_link": true
    },
    "kernelspec": {
      "name": "python3",
      "display_name": "Python 3"
    },
    "language_info": {
      "name": "python"
    },
    "accelerator": "GPU"
  },
  "cells": [
    {
      "cell_type": "markdown",
      "metadata": {
        "id": "view-in-github",
        "colab_type": "text"
      },
      "source": [
        "<a href=\"https://colab.research.google.com/github/soleme/web-ai-hub/blob/main/%EB%94%A5%EB%9F%AC%EB%8B%9D_2_CNN.ipynb\" target=\"_parent\"><img src=\"https://colab.research.google.com/assets/colab-badge.svg\" alt=\"Open In Colab\"/></a>"
      ]
    },
    {
      "cell_type": "markdown",
      "metadata": {
        "id": "B2t2_kdGDute"
      },
      "source": [
        "# 딥러닝 #2 CNN"
      ]
    },
    {
      "cell_type": "markdown",
      "metadata": {
        "id": "YvddzvShFuL5"
      },
      "source": [
        "## 사용할 이미지 구경\n",
        "- MNIST\n",
        "- CIFAR10"
      ]
    },
    {
      "cell_type": "code",
      "metadata": {
        "colab": {
          "base_uri": "https://localhost:8080/"
        },
        "id": "t0dulDVUDrzA",
        "outputId": "d0e845db-d2bf-486a-98ee-ef453217dbd1"
      },
      "source": [
        "import tensorflow as tf\n",
        "\n",
        "(x_train, y_train), (x_test, y_test) = tf.keras.datasets.mnist.load_data()\n",
        "print(x_train.shape, y_train.shape)\n",
        "print(x_test.shape, y_test.shape)\n",
        "\n",
        "(x_train, y_train), (x_test, y_test) = tf.keras.datasets.cifar10.load_data()\n",
        "print(x_train.shape, y_train.shape)\n",
        "print(x_test.shape, y_test.shape)"
      ],
      "execution_count": null,
      "outputs": [
        {
          "output_type": "stream",
          "name": "stdout",
          "text": [
            "Downloading data from https://storage.googleapis.com/tensorflow/tf-keras-datasets/mnist.npz\n",
            "11493376/11490434 [==============================] - 0s 0us/step\n",
            "11501568/11490434 [==============================] - 0s 0us/step\n",
            "(60000, 28, 28) (60000,)\n",
            "(10000, 28, 28) (10000,)\n",
            "Downloading data from https://www.cs.toronto.edu/~kriz/cifar-10-python.tar.gz\n",
            "170500096/170498071 [==============================] - 8s 0us/step\n",
            "170508288/170498071 [==============================] - 8s 0us/step\n",
            "(50000, 32, 32, 3) (50000, 1)\n",
            "(10000, 32, 32, 3) (10000, 1)\n"
          ]
        }
      ]
    },
    {
      "cell_type": "code",
      "metadata": {
        "id": "qFr50-UAEdXh"
      },
      "source": [
        "help(tf.keras.datasets.mnist.load_data)"
      ],
      "execution_count": null,
      "outputs": []
    },
    {
      "cell_type": "code",
      "metadata": {
        "colab": {
          "base_uri": "https://localhost:8080/"
        },
        "id": "jDhziet7FK5x",
        "outputId": "c8be4d0f-b6bf-4177-c8a9-ab4cdffc34b2"
      },
      "source": [
        "import numpy as np\n",
        "\n",
        "numbers = np.array([1, 2, 3, 4, 5, 6, 7, 8, 9, 10, 11, 12])\n",
        "print(numbers)\n",
        "print(numbers.shape, type(numbers))\n",
        "\n",
        "numbers = numbers.reshape(12, 1)\n",
        "print(numbers)\n",
        "print(numbers.shape)\n",
        "\n",
        "numbers = numbers.reshape(1, 12)\n",
        "print(numbers)\n",
        "print(numbers.shape)\n",
        "\n",
        "numbers = numbers.reshape(3, 2, 2)\n",
        "print(numbers)\n",
        "print(numbers.shape)"
      ],
      "execution_count": null,
      "outputs": [
        {
          "output_type": "stream",
          "name": "stdout",
          "text": [
            "[ 1  2  3  4  5  6  7  8  9 10 11 12]\n",
            "(12,) <class 'numpy.ndarray'>\n",
            "[[ 1]\n",
            " [ 2]\n",
            " [ 3]\n",
            " [ 4]\n",
            " [ 5]\n",
            " [ 6]\n",
            " [ 7]\n",
            " [ 8]\n",
            " [ 9]\n",
            " [10]\n",
            " [11]\n",
            " [12]]\n",
            "(12, 1)\n",
            "[[ 1  2  3  4  5  6  7  8  9 10 11 12]]\n",
            "(1, 12)\n",
            "[[[ 1  2]\n",
            "  [ 3  4]]\n",
            "\n",
            " [[ 5  6]\n",
            "  [ 7  8]]\n",
            "\n",
            " [[ 9 10]\n",
            "  [11 12]]]\n",
            "(3, 2, 2)\n"
          ]
        }
      ]
    },
    {
      "cell_type": "code",
      "metadata": {
        "colab": {
          "base_uri": "https://localhost:8080/"
        },
        "id": "oUhOHPFGGEP_",
        "outputId": "13b046bd-456a-4422-afcd-4278b742d417"
      },
      "source": [
        "import tensorflow as tf\n",
        "\n",
        "(x_train, y_train), (x_test, y_test) = tf.keras.datasets.mnist.load_data()\n",
        "print(x_train.shape, y_train.shape)\n",
        "print(x_test.shape, y_test.shape)"
      ],
      "execution_count": null,
      "outputs": [
        {
          "output_type": "stream",
          "name": "stdout",
          "text": [
            "(60000, 28, 28) (60000,)\n",
            "(10000, 28, 28) (10000,)\n"
          ]
        }
      ]
    },
    {
      "cell_type": "code",
      "metadata": {
        "colab": {
          "base_uri": "https://localhost:8080/",
          "height": 302
        },
        "id": "MT0WbBLSH2an",
        "outputId": "59e254da-4c0e-47b2-a277-322128dad2ce"
      },
      "source": [
        "import matplotlib.pyplot as plt\n",
        "\n",
        "print(y_train[245])\n",
        "plt.imshow(x_train[245], cmap='gray')"
      ],
      "execution_count": null,
      "outputs": [
        {
          "output_type": "stream",
          "name": "stdout",
          "text": [
            "8\n"
          ]
        },
        {
          "output_type": "execute_result",
          "data": {
            "text/plain": [
              "<matplotlib.image.AxesImage at 0x7f02db880790>"
            ]
          },
          "metadata": {},
          "execution_count": 34
        },
        {
          "output_type": "display_data",
          "data": {
            "image/png": "[encoded data removed]",
            "text/plain": [
              "<Figure size 432x288 with 1 Axes>"
            ]
          },
          "metadata": {
            "needs_background": "light"
          }
        }
      ]
    },
    {
      "cell_type": "code",
      "metadata": {
        "colab": {
          "base_uri": "https://localhost:8080/",
          "height": 947
        },
        "id": "Ee9QUeSyIPIP",
        "outputId": "03b0dd86-12ba-4d13-e43c-a6232ec18260"
      },
      "source": [
        "import pandas as pd\n",
        "pd.DataFrame(x_train[-1])"
      ],
      "execution_count": null,
      "outputs": [
        {
          "output_type": "execute_result",
          "data": {
            "text/html": [
              "<div>\n",
              "<style scoped>\n",
              "    .dataframe tbody tr th:only-of-type {\n",
              "        vertical-align: middle;\n",
              "    }\n",
              "\n",
              "    .dataframe tbody tr th {\n",
              "        vertical-align: top;\n",
              "    }\n",
              "\n",
              "    .dataframe thead th {\n",
              "        text-align: right;\n",
              "    }\n",
              "</style>\n",
              "<table border=\"1\" class=\"dataframe\">\n",
              "  <thead>\n",
              "    <tr style=\"text-align: right;\">\n",
              "      <th></th>\n",
              "      <th>0</th>\n",
              "      <th>1</th>\n",
              "      <th>2</th>\n",
              "      <th>3</th>\n",
              "      <th>4</th>\n",
              "      <th>5</th>\n",
              "      <th>6</th>\n",
              "      <th>7</th>\n",
              "      <th>8</th>\n",
              "      <th>9</th>\n",
              "      <th>10</th>\n",
              "      <th>11</th>\n",
              "      <th>12</th>\n",
              "      <th>13</th>\n",
              "      <th>14</th>\n",
              "      <th>15</th>\n",
              "      <th>16</th>\n",
              "      <th>17</th>\n",
              "      <th>18</th>\n",
              "      <th>19</th>\n",
              "      <th>20</th>\n",
              "      <th>21</th>\n",
              "      <th>22</th>\n",
              "      <th>23</th>\n",
              "      <th>24</th>\n",
              "      <th>25</th>\n",
              "      <th>26</th>\n",
              "      <th>27</th>\n",
              "    </tr>\n",
              "  </thead>\n",
              "  <tbody>\n",
              "    <tr>\n",
              "      <th>0</th>\n",
              "      <td>0</td>\n",
              "      <td>0</td>\n",
              "      <td>0</td>\n",
              "      <td>0</td>\n",
              "      <td>0</td>\n",
              "      <td>0</td>\n",
              "      <td>0</td>\n",
              "      <td>0</td>\n",
              "      <td>0</td>\n",
              "      <td>0</td>\n",
              "      <td>0</td>\n",
              "      <td>0</td>\n",
              "      <td>0</td>\n",
              "      <td>0</td>\n",
              "      <td>0</td>\n",
              "      <td>0</td>\n",
              "      <td>0</td>\n",
              "      <td>0</td>\n",
              "      <td>0</td>\n",
              "      <td>0</td>\n",
              "      <td>0</td>\n",
              "      <td>0</td>\n",
              "      <td>0</td>\n",
              "      <td>0</td>\n",
              "      <td>0</td>\n",
              "      <td>0</td>\n",
              "      <td>0</td>\n",
              "      <td>0</td>\n",
              "    </tr>\n",
              "    <tr>\n",
              "      <th>1</th>\n",
              "      <td>0</td>\n",
              "      <td>0</td>\n",
              "      <td>0</td>\n",
              "      <td>0</td>\n",
              "      <td>0</td>\n",
              "      <td>0</td>\n",
              "      <td>0</td>\n",
              "      <td>0</td>\n",
              "      <td>0</td>\n",
              "      <td>0</td>\n",
              "      <td>0</td>\n",
              "      <td>0</td>\n",
              "      <td>0</td>\n",
              "      <td>0</td>\n",
              "      <td>0</td>\n",
              "      <td>0</td>\n",
              "      <td>0</td>\n",
              "      <td>0</td>\n",
              "      <td>0</td>\n",
              "      <td>0</td>\n",
              "      <td>0</td>\n",
              "      <td>0</td>\n",
              "      <td>0</td>\n",
              "      <td>0</td>\n",
              "      <td>0</td>\n",
              "      <td>0</td>\n",
              "      <td>0</td>\n",
              "      <td>0</td>\n",
              "    </tr>\n",
              "    <tr>\n",
              "      <th>2</th>\n",
              "      <td>0</td>\n",
              "      <td>0</td>\n",
              "      <td>0</td>\n",
              "      <td>0</td>\n",
              "      <td>0</td>\n",
              "      <td>0</td>\n",
              "      <td>0</td>\n",
              "      <td>0</td>\n",
              "      <td>0</td>\n",
              "      <td>0</td>\n",
              "      <td>0</td>\n",
              "      <td>0</td>\n",
              "      <td>0</td>\n",
              "      <td>0</td>\n",
              "      <td>0</td>\n",
              "      <td>0</td>\n",
              "      <td>0</td>\n",
              "      <td>0</td>\n",
              "      <td>0</td>\n",
              "      <td>0</td>\n",
              "      <td>0</td>\n",
              "      <td>0</td>\n",
              "      <td>0</td>\n",
              "      <td>0</td>\n",
              "      <td>0</td>\n",
              "      <td>0</td>\n",
              "      <td>0</td>\n",
              "      <td>0</td>\n",
              "    </tr>\n",
              "    <tr>\n",
              "      <th>3</th>\n",
              "      <td>0</td>\n",
              "      <td>0</td>\n",
              "      <td>0</td>\n",
              "      <td>0</td>\n",
              "      <td>0</td>\n",
              "      <td>0</td>\n",
              "      <td>0</td>\n",
              "      <td>0</td>\n",
              "      <td>0</td>\n",
              "      <td>0</td>\n",
              "      <td>0</td>\n",
              "      <td>0</td>\n",
              "      <td>0</td>\n",
              "      <td>0</td>\n",
              "      <td>0</td>\n",
              "      <td>0</td>\n",
              "      <td>0</td>\n",
              "      <td>0</td>\n",
              "      <td>0</td>\n",
              "      <td>0</td>\n",
              "      <td>0</td>\n",
              "      <td>0</td>\n",
              "      <td>0</td>\n",
              "      <td>0</td>\n",
              "      <td>0</td>\n",
              "      <td>0</td>\n",
              "      <td>0</td>\n",
              "      <td>0</td>\n",
              "    </tr>\n",
              "    <tr>\n",
              "      <th>4</th>\n",
              "      <td>0</td>\n",
              "      <td>0</td>\n",
              "      <td>0</td>\n",
              "      <td>0</td>\n",
              "      <td>0</td>\n",
              "      <td>0</td>\n",
              "      <td>0</td>\n",
              "      <td>0</td>\n",
              "      <td>0</td>\n",
              "      <td>0</td>\n",
              "      <td>0</td>\n",
              "      <td>0</td>\n",
              "      <td>0</td>\n",
              "      <td>0</td>\n",
              "      <td>0</td>\n",
              "      <td>0</td>\n",
              "      <td>0</td>\n",
              "      <td>0</td>\n",
              "      <td>0</td>\n",
              "      <td>0</td>\n",
              "      <td>0</td>\n",
              "      <td>0</td>\n",
              "      <td>0</td>\n",
              "      <td>0</td>\n",
              "      <td>0</td>\n",
              "      <td>0</td>\n",
              "      <td>0</td>\n",
              "      <td>0</td>\n",
              "    </tr>\n",
              "    <tr>\n",
              "      <th>5</th>\n",
              "      <td>0</td>\n",
              "      <td>0</td>\n",
              "      <td>0</td>\n",
              "      <td>0</td>\n",
              "      <td>0</td>\n",
              "      <td>0</td>\n",
              "      <td>0</td>\n",
              "      <td>0</td>\n",
              "      <td>0</td>\n",
              "      <td>0</td>\n",
              "      <td>0</td>\n",
              "      <td>0</td>\n",
              "      <td>0</td>\n",
              "      <td>0</td>\n",
              "      <td>0</td>\n",
              "      <td>0</td>\n",
              "      <td>0</td>\n",
              "      <td>0</td>\n",
              "      <td>0</td>\n",
              "      <td>0</td>\n",
              "      <td>0</td>\n",
              "      <td>0</td>\n",
              "      <td>0</td>\n",
              "      <td>0</td>\n",
              "      <td>0</td>\n",
              "      <td>0</td>\n",
              "      <td>0</td>\n",
              "      <td>0</td>\n",
              "    </tr>\n",
              "    <tr>\n",
              "      <th>6</th>\n",
              "      <td>0</td>\n",
              "      <td>0</td>\n",
              "      <td>0</td>\n",
              "      <td>0</td>\n",
              "      <td>0</td>\n",
              "      <td>0</td>\n",
              "      <td>0</td>\n",
              "      <td>0</td>\n",
              "      <td>0</td>\n",
              "      <td>0</td>\n",
              "      <td>0</td>\n",
              "      <td>0</td>\n",
              "      <td>0</td>\n",
              "      <td>0</td>\n",
              "      <td>0</td>\n",
              "      <td>0</td>\n",
              "      <td>38</td>\n",
              "      <td>48</td>\n",
              "      <td>48</td>\n",
              "      <td>22</td>\n",
              "      <td>0</td>\n",
              "      <td>0</td>\n",
              "      <td>0</td>\n",
              "      <td>0</td>\n",
              "      <td>0</td>\n",
              "      <td>0</td>\n",
              "      <td>0</td>\n",
              "      <td>0</td>\n",
              "    </tr>\n",
              "    <tr>\n",
              "      <th>7</th>\n",
              "      <td>0</td>\n",
              "      <td>0</td>\n",
              "      <td>0</td>\n",
              "      <td>0</td>\n",
              "      <td>0</td>\n",
              "      <td>0</td>\n",
              "      <td>0</td>\n",
              "      <td>0</td>\n",
              "      <td>0</td>\n",
              "      <td>0</td>\n",
              "      <td>0</td>\n",
              "      <td>0</td>\n",
              "      <td>0</td>\n",
              "      <td>62</td>\n",
              "      <td>97</td>\n",
              "      <td>198</td>\n",
              "      <td>243</td>\n",
              "      <td>254</td>\n",
              "      <td>254</td>\n",
              "      <td>212</td>\n",
              "      <td>27</td>\n",
              "      <td>0</td>\n",
              "      <td>0</td>\n",
              "      <td>0</td>\n",
              "      <td>0</td>\n",
              "      <td>0</td>\n",
              "      <td>0</td>\n",
              "      <td>0</td>\n",
              "    </tr>\n",
              "    <tr>\n",
              "      <th>8</th>\n",
              "      <td>0</td>\n",
              "      <td>0</td>\n",
              "      <td>0</td>\n",
              "      <td>0</td>\n",
              "      <td>0</td>\n",
              "      <td>0</td>\n",
              "      <td>0</td>\n",
              "      <td>0</td>\n",
              "      <td>0</td>\n",
              "      <td>0</td>\n",
              "      <td>0</td>\n",
              "      <td>0</td>\n",
              "      <td>67</td>\n",
              "      <td>172</td>\n",
              "      <td>254</td>\n",
              "      <td>254</td>\n",
              "      <td>225</td>\n",
              "      <td>218</td>\n",
              "      <td>218</td>\n",
              "      <td>237</td>\n",
              "      <td>248</td>\n",
              "      <td>40</td>\n",
              "      <td>0</td>\n",
              "      <td>21</td>\n",
              "      <td>164</td>\n",
              "      <td>187</td>\n",
              "      <td>0</td>\n",
              "      <td>0</td>\n",
              "    </tr>\n",
              "    <tr>\n",
              "      <th>9</th>\n",
              "      <td>0</td>\n",
              "      <td>0</td>\n",
              "      <td>0</td>\n",
              "      <td>0</td>\n",
              "      <td>0</td>\n",
              "      <td>0</td>\n",
              "      <td>0</td>\n",
              "      <td>0</td>\n",
              "      <td>0</td>\n",
              "      <td>0</td>\n",
              "      <td>0</td>\n",
              "      <td>89</td>\n",
              "      <td>219</td>\n",
              "      <td>254</td>\n",
              "      <td>97</td>\n",
              "      <td>67</td>\n",
              "      <td>14</td>\n",
              "      <td>0</td>\n",
              "      <td>0</td>\n",
              "      <td>92</td>\n",
              "      <td>231</td>\n",
              "      <td>122</td>\n",
              "      <td>23</td>\n",
              "      <td>203</td>\n",
              "      <td>236</td>\n",
              "      <td>59</td>\n",
              "      <td>0</td>\n",
              "      <td>0</td>\n",
              "    </tr>\n",
              "    <tr>\n",
              "      <th>10</th>\n",
              "      <td>0</td>\n",
              "      <td>0</td>\n",
              "      <td>0</td>\n",
              "      <td>0</td>\n",
              "      <td>0</td>\n",
              "      <td>0</td>\n",
              "      <td>0</td>\n",
              "      <td>0</td>\n",
              "      <td>0</td>\n",
              "      <td>0</td>\n",
              "      <td>25</td>\n",
              "      <td>217</td>\n",
              "      <td>242</td>\n",
              "      <td>92</td>\n",
              "      <td>4</td>\n",
              "      <td>0</td>\n",
              "      <td>0</td>\n",
              "      <td>0</td>\n",
              "      <td>0</td>\n",
              "      <td>4</td>\n",
              "      <td>147</td>\n",
              "      <td>253</td>\n",
              "      <td>240</td>\n",
              "      <td>232</td>\n",
              "      <td>92</td>\n",
              "      <td>0</td>\n",
              "      <td>0</td>\n",
              "      <td>0</td>\n",
              "    </tr>\n",
              "    <tr>\n",
              "      <th>11</th>\n",
              "      <td>0</td>\n",
              "      <td>0</td>\n",
              "      <td>0</td>\n",
              "      <td>0</td>\n",
              "      <td>0</td>\n",
              "      <td>0</td>\n",
              "      <td>0</td>\n",
              "      <td>0</td>\n",
              "      <td>0</td>\n",
              "      <td>0</td>\n",
              "      <td>101</td>\n",
              "      <td>255</td>\n",
              "      <td>92</td>\n",
              "      <td>0</td>\n",
              "      <td>0</td>\n",
              "      <td>0</td>\n",
              "      <td>0</td>\n",
              "      <td>0</td>\n",
              "      <td>0</td>\n",
              "      <td>105</td>\n",
              "      <td>254</td>\n",
              "      <td>254</td>\n",
              "      <td>177</td>\n",
              "      <td>11</td>\n",
              "      <td>0</td>\n",
              "      <td>0</td>\n",
              "      <td>0</td>\n",
              "      <td>0</td>\n",
              "    </tr>\n",
              "    <tr>\n",
              "      <th>12</th>\n",
              "      <td>0</td>\n",
              "      <td>0</td>\n",
              "      <td>0</td>\n",
              "      <td>0</td>\n",
              "      <td>0</td>\n",
              "      <td>0</td>\n",
              "      <td>0</td>\n",
              "      <td>0</td>\n",
              "      <td>0</td>\n",
              "      <td>0</td>\n",
              "      <td>167</td>\n",
              "      <td>244</td>\n",
              "      <td>41</td>\n",
              "      <td>0</td>\n",
              "      <td>0</td>\n",
              "      <td>0</td>\n",
              "      <td>7</td>\n",
              "      <td>76</td>\n",
              "      <td>199</td>\n",
              "      <td>238</td>\n",
              "      <td>239</td>\n",
              "      <td>94</td>\n",
              "      <td>10</td>\n",
              "      <td>0</td>\n",
              "      <td>0</td>\n",
              "      <td>0</td>\n",
              "      <td>0</td>\n",
              "      <td>0</td>\n",
              "    </tr>\n",
              "    <tr>\n",
              "      <th>13</th>\n",
              "      <td>0</td>\n",
              "      <td>0</td>\n",
              "      <td>0</td>\n",
              "      <td>0</td>\n",
              "      <td>0</td>\n",
              "      <td>0</td>\n",
              "      <td>0</td>\n",
              "      <td>0</td>\n",
              "      <td>0</td>\n",
              "      <td>0</td>\n",
              "      <td>192</td>\n",
              "      <td>121</td>\n",
              "      <td>0</td>\n",
              "      <td>0</td>\n",
              "      <td>2</td>\n",
              "      <td>63</td>\n",
              "      <td>180</td>\n",
              "      <td>254</td>\n",
              "      <td>233</td>\n",
              "      <td>126</td>\n",
              "      <td>0</td>\n",
              "      <td>0</td>\n",
              "      <td>0</td>\n",
              "      <td>0</td>\n",
              "      <td>0</td>\n",
              "      <td>0</td>\n",
              "      <td>0</td>\n",
              "      <td>0</td>\n",
              "    </tr>\n",
              "    <tr>\n",
              "      <th>14</th>\n",
              "      <td>0</td>\n",
              "      <td>0</td>\n",
              "      <td>0</td>\n",
              "      <td>0</td>\n",
              "      <td>0</td>\n",
              "      <td>0</td>\n",
              "      <td>0</td>\n",
              "      <td>0</td>\n",
              "      <td>0</td>\n",
              "      <td>0</td>\n",
              "      <td>190</td>\n",
              "      <td>196</td>\n",
              "      <td>14</td>\n",
              "      <td>2</td>\n",
              "      <td>97</td>\n",
              "      <td>254</td>\n",
              "      <td>252</td>\n",
              "      <td>146</td>\n",
              "      <td>52</td>\n",
              "      <td>0</td>\n",
              "      <td>0</td>\n",
              "      <td>0</td>\n",
              "      <td>0</td>\n",
              "      <td>0</td>\n",
              "      <td>0</td>\n",
              "      <td>0</td>\n",
              "      <td>0</td>\n",
              "      <td>0</td>\n",
              "    </tr>\n",
              "    <tr>\n",
              "      <th>15</th>\n",
              "      <td>0</td>\n",
              "      <td>0</td>\n",
              "      <td>0</td>\n",
              "      <td>0</td>\n",
              "      <td>0</td>\n",
              "      <td>0</td>\n",
              "      <td>0</td>\n",
              "      <td>0</td>\n",
              "      <td>0</td>\n",
              "      <td>0</td>\n",
              "      <td>130</td>\n",
              "      <td>225</td>\n",
              "      <td>71</td>\n",
              "      <td>180</td>\n",
              "      <td>232</td>\n",
              "      <td>181</td>\n",
              "      <td>60</td>\n",
              "      <td>0</td>\n",
              "      <td>0</td>\n",
              "      <td>0</td>\n",
              "      <td>0</td>\n",
              "      <td>0</td>\n",
              "      <td>0</td>\n",
              "      <td>0</td>\n",
              "      <td>0</td>\n",
              "      <td>0</td>\n",
              "      <td>0</td>\n",
              "      <td>0</td>\n",
              "    </tr>\n",
              "    <tr>\n",
              "      <th>16</th>\n",
              "      <td>0</td>\n",
              "      <td>0</td>\n",
              "      <td>0</td>\n",
              "      <td>0</td>\n",
              "      <td>0</td>\n",
              "      <td>0</td>\n",
              "      <td>0</td>\n",
              "      <td>0</td>\n",
              "      <td>0</td>\n",
              "      <td>0</td>\n",
              "      <td>130</td>\n",
              "      <td>254</td>\n",
              "      <td>254</td>\n",
              "      <td>230</td>\n",
              "      <td>46</td>\n",
              "      <td>0</td>\n",
              "      <td>0</td>\n",
              "      <td>0</td>\n",
              "      <td>0</td>\n",
              "      <td>0</td>\n",
              "      <td>0</td>\n",
              "      <td>0</td>\n",
              "      <td>0</td>\n",
              "      <td>0</td>\n",
              "      <td>0</td>\n",
              "      <td>0</td>\n",
              "      <td>0</td>\n",
              "      <td>0</td>\n",
              "    </tr>\n",
              "    <tr>\n",
              "      <th>17</th>\n",
              "      <td>0</td>\n",
              "      <td>0</td>\n",
              "      <td>0</td>\n",
              "      <td>0</td>\n",
              "      <td>0</td>\n",
              "      <td>0</td>\n",
              "      <td>0</td>\n",
              "      <td>0</td>\n",
              "      <td>6</td>\n",
              "      <td>77</td>\n",
              "      <td>244</td>\n",
              "      <td>254</td>\n",
              "      <td>162</td>\n",
              "      <td>4</td>\n",
              "      <td>0</td>\n",
              "      <td>0</td>\n",
              "      <td>0</td>\n",
              "      <td>0</td>\n",
              "      <td>0</td>\n",
              "      <td>0</td>\n",
              "      <td>0</td>\n",
              "      <td>0</td>\n",
              "      <td>0</td>\n",
              "      <td>0</td>\n",
              "      <td>0</td>\n",
              "      <td>0</td>\n",
              "      <td>0</td>\n",
              "      <td>0</td>\n",
              "    </tr>\n",
              "    <tr>\n",
              "      <th>18</th>\n",
              "      <td>0</td>\n",
              "      <td>0</td>\n",
              "      <td>0</td>\n",
              "      <td>0</td>\n",
              "      <td>0</td>\n",
              "      <td>0</td>\n",
              "      <td>0</td>\n",
              "      <td>0</td>\n",
              "      <td>110</td>\n",
              "      <td>254</td>\n",
              "      <td>218</td>\n",
              "      <td>254</td>\n",
              "      <td>116</td>\n",
              "      <td>0</td>\n",
              "      <td>0</td>\n",
              "      <td>0</td>\n",
              "      <td>0</td>\n",
              "      <td>0</td>\n",
              "      <td>0</td>\n",
              "      <td>0</td>\n",
              "      <td>0</td>\n",
              "      <td>0</td>\n",
              "      <td>0</td>\n",
              "      <td>0</td>\n",
              "      <td>0</td>\n",
              "      <td>0</td>\n",
              "      <td>0</td>\n",
              "      <td>0</td>\n",
              "    </tr>\n",
              "    <tr>\n",
              "      <th>19</th>\n",
              "      <td>0</td>\n",
              "      <td>0</td>\n",
              "      <td>0</td>\n",
              "      <td>0</td>\n",
              "      <td>0</td>\n",
              "      <td>0</td>\n",
              "      <td>0</td>\n",
              "      <td>131</td>\n",
              "      <td>254</td>\n",
              "      <td>154</td>\n",
              "      <td>28</td>\n",
              "      <td>213</td>\n",
              "      <td>86</td>\n",
              "      <td>0</td>\n",
              "      <td>0</td>\n",
              "      <td>0</td>\n",
              "      <td>0</td>\n",
              "      <td>0</td>\n",
              "      <td>0</td>\n",
              "      <td>0</td>\n",
              "      <td>0</td>\n",
              "      <td>0</td>\n",
              "      <td>0</td>\n",
              "      <td>0</td>\n",
              "      <td>0</td>\n",
              "      <td>0</td>\n",
              "      <td>0</td>\n",
              "      <td>0</td>\n",
              "    </tr>\n",
              "    <tr>\n",
              "      <th>20</th>\n",
              "      <td>0</td>\n",
              "      <td>0</td>\n",
              "      <td>0</td>\n",
              "      <td>0</td>\n",
              "      <td>0</td>\n",
              "      <td>0</td>\n",
              "      <td>66</td>\n",
              "      <td>209</td>\n",
              "      <td>153</td>\n",
              "      <td>19</td>\n",
              "      <td>19</td>\n",
              "      <td>233</td>\n",
              "      <td>60</td>\n",
              "      <td>0</td>\n",
              "      <td>0</td>\n",
              "      <td>0</td>\n",
              "      <td>0</td>\n",
              "      <td>0</td>\n",
              "      <td>0</td>\n",
              "      <td>0</td>\n",
              "      <td>0</td>\n",
              "      <td>0</td>\n",
              "      <td>0</td>\n",
              "      <td>0</td>\n",
              "      <td>0</td>\n",
              "      <td>0</td>\n",
              "      <td>0</td>\n",
              "      <td>0</td>\n",
              "    </tr>\n",
              "    <tr>\n",
              "      <th>21</th>\n",
              "      <td>0</td>\n",
              "      <td>0</td>\n",
              "      <td>0</td>\n",
              "      <td>0</td>\n",
              "      <td>0</td>\n",
              "      <td>0</td>\n",
              "      <td>142</td>\n",
              "      <td>254</td>\n",
              "      <td>165</td>\n",
              "      <td>0</td>\n",
              "      <td>14</td>\n",
              "      <td>216</td>\n",
              "      <td>167</td>\n",
              "      <td>0</td>\n",
              "      <td>0</td>\n",
              "      <td>0</td>\n",
              "      <td>0</td>\n",
              "      <td>0</td>\n",
              "      <td>0</td>\n",
              "      <td>0</td>\n",
              "      <td>0</td>\n",
              "      <td>0</td>\n",
              "      <td>0</td>\n",
              "      <td>0</td>\n",
              "      <td>0</td>\n",
              "      <td>0</td>\n",
              "      <td>0</td>\n",
              "      <td>0</td>\n",
              "    </tr>\n",
              "    <tr>\n",
              "      <th>22</th>\n",
              "      <td>0</td>\n",
              "      <td>0</td>\n",
              "      <td>0</td>\n",
              "      <td>0</td>\n",
              "      <td>0</td>\n",
              "      <td>0</td>\n",
              "      <td>90</td>\n",
              "      <td>254</td>\n",
              "      <td>175</td>\n",
              "      <td>0</td>\n",
              "      <td>18</td>\n",
              "      <td>229</td>\n",
              "      <td>92</td>\n",
              "      <td>0</td>\n",
              "      <td>0</td>\n",
              "      <td>0</td>\n",
              "      <td>0</td>\n",
              "      <td>0</td>\n",
              "      <td>0</td>\n",
              "      <td>0</td>\n",
              "      <td>0</td>\n",
              "      <td>0</td>\n",
              "      <td>0</td>\n",
              "      <td>0</td>\n",
              "      <td>0</td>\n",
              "      <td>0</td>\n",
              "      <td>0</td>\n",
              "      <td>0</td>\n",
              "    </tr>\n",
              "    <tr>\n",
              "      <th>23</th>\n",
              "      <td>0</td>\n",
              "      <td>0</td>\n",
              "      <td>0</td>\n",
              "      <td>0</td>\n",
              "      <td>0</td>\n",
              "      <td>0</td>\n",
              "      <td>26</td>\n",
              "      <td>229</td>\n",
              "      <td>249</td>\n",
              "      <td>176</td>\n",
              "      <td>222</td>\n",
              "      <td>244</td>\n",
              "      <td>44</td>\n",
              "      <td>0</td>\n",
              "      <td>0</td>\n",
              "      <td>0</td>\n",
              "      <td>0</td>\n",
              "      <td>0</td>\n",
              "      <td>0</td>\n",
              "      <td>0</td>\n",
              "      <td>0</td>\n",
              "      <td>0</td>\n",
              "      <td>0</td>\n",
              "      <td>0</td>\n",
              "      <td>0</td>\n",
              "      <td>0</td>\n",
              "      <td>0</td>\n",
              "      <td>0</td>\n",
              "    </tr>\n",
              "    <tr>\n",
              "      <th>24</th>\n",
              "      <td>0</td>\n",
              "      <td>0</td>\n",
              "      <td>0</td>\n",
              "      <td>0</td>\n",
              "      <td>0</td>\n",
              "      <td>0</td>\n",
              "      <td>0</td>\n",
              "      <td>73</td>\n",
              "      <td>193</td>\n",
              "      <td>197</td>\n",
              "      <td>134</td>\n",
              "      <td>0</td>\n",
              "      <td>0</td>\n",
              "      <td>0</td>\n",
              "      <td>0</td>\n",
              "      <td>0</td>\n",
              "      <td>0</td>\n",
              "      <td>0</td>\n",
              "      <td>0</td>\n",
              "      <td>0</td>\n",
              "      <td>0</td>\n",
              "      <td>0</td>\n",
              "      <td>0</td>\n",
              "      <td>0</td>\n",
              "      <td>0</td>\n",
              "      <td>0</td>\n",
              "      <td>0</td>\n",
              "      <td>0</td>\n",
              "    </tr>\n",
              "    <tr>\n",
              "      <th>25</th>\n",
              "      <td>0</td>\n",
              "      <td>0</td>\n",
              "      <td>0</td>\n",
              "      <td>0</td>\n",
              "      <td>0</td>\n",
              "      <td>0</td>\n",
              "      <td>0</td>\n",
              "      <td>0</td>\n",
              "      <td>0</td>\n",
              "      <td>0</td>\n",
              "      <td>0</td>\n",
              "      <td>0</td>\n",
              "      <td>0</td>\n",
              "      <td>0</td>\n",
              "      <td>0</td>\n",
              "      <td>0</td>\n",
              "      <td>0</td>\n",
              "      <td>0</td>\n",
              "      <td>0</td>\n",
              "      <td>0</td>\n",
              "      <td>0</td>\n",
              "      <td>0</td>\n",
              "      <td>0</td>\n",
              "      <td>0</td>\n",
              "      <td>0</td>\n",
              "      <td>0</td>\n",
              "      <td>0</td>\n",
              "      <td>0</td>\n",
              "    </tr>\n",
              "    <tr>\n",
              "      <th>26</th>\n",
              "      <td>0</td>\n",
              "      <td>0</td>\n",
              "      <td>0</td>\n",
              "      <td>0</td>\n",
              "      <td>0</td>\n",
              "      <td>0</td>\n",
              "      <td>0</td>\n",
              "      <td>0</td>\n",
              "      <td>0</td>\n",
              "      <td>0</td>\n",
              "      <td>0</td>\n",
              "      <td>0</td>\n",
              "      <td>0</td>\n",
              "      <td>0</td>\n",
              "      <td>0</td>\n",
              "      <td>0</td>\n",
              "      <td>0</td>\n",
              "      <td>0</td>\n",
              "      <td>0</td>\n",
              "      <td>0</td>\n",
              "      <td>0</td>\n",
              "      <td>0</td>\n",
              "      <td>0</td>\n",
              "      <td>0</td>\n",
              "      <td>0</td>\n",
              "      <td>0</td>\n",
              "      <td>0</td>\n",
              "      <td>0</td>\n",
              "    </tr>\n",
              "    <tr>\n",
              "      <th>27</th>\n",
              "      <td>0</td>\n",
              "      <td>0</td>\n",
              "      <td>0</td>\n",
              "      <td>0</td>\n",
              "      <td>0</td>\n",
              "      <td>0</td>\n",
              "      <td>0</td>\n",
              "      <td>0</td>\n",
              "      <td>0</td>\n",
              "      <td>0</td>\n",
              "      <td>0</td>\n",
              "      <td>0</td>\n",
              "      <td>0</td>\n",
              "      <td>0</td>\n",
              "      <td>0</td>\n",
              "      <td>0</td>\n",
              "      <td>0</td>\n",
              "      <td>0</td>\n",
              "      <td>0</td>\n",
              "      <td>0</td>\n",
              "      <td>0</td>\n",
              "      <td>0</td>\n",
              "      <td>0</td>\n",
              "      <td>0</td>\n",
              "      <td>0</td>\n",
              "      <td>0</td>\n",
              "      <td>0</td>\n",
              "      <td>0</td>\n",
              "    </tr>\n",
              "  </tbody>\n",
              "</table>\n",
              "</div>"
            ],
            "text/plain": [
              "    0   1   2   3   4   5    6    7   ...   20   21   22   23   24   25  26  27\n",
              "0    0   0   0   0   0   0    0    0  ...    0    0    0    0    0    0   0   0\n",
              "1    0   0   0   0   0   0    0    0  ...    0    0    0    0    0    0   0   0\n",
              "2    0   0   0   0   0   0    0    0  ...    0    0    0    0    0    0   0   0\n",
              "3    0   0   0   0   0   0    0    0  ...    0    0    0    0    0    0   0   0\n",
              "4    0   0   0   0   0   0    0    0  ...    0    0    0    0    0    0   0   0\n",
              "5    0   0   0   0   0   0    0    0  ...    0    0    0    0    0    0   0   0\n",
              "6    0   0   0   0   0   0    0    0  ...    0    0    0    0    0    0   0   0\n",
              "7    0   0   0   0   0   0    0    0  ...   27    0    0    0    0    0   0   0\n",
              "8    0   0   0   0   0   0    0    0  ...  248   40    0   21  164  187   0   0\n",
              "9    0   0   0   0   0   0    0    0  ...  231  122   23  203  236   59   0   0\n",
              "10   0   0   0   0   0   0    0    0  ...  147  253  240  232   92    0   0   0\n",
              "11   0   0   0   0   0   0    0    0  ...  254  254  177   11    0    0   0   0\n",
              "12   0   0   0   0   0   0    0    0  ...  239   94   10    0    0    0   0   0\n",
              "13   0   0   0   0   0   0    0    0  ...    0    0    0    0    0    0   0   0\n",
              "14   0   0   0   0   0   0    0    0  ...    0    0    0    0    0    0   0   0\n",
              "15   0   0   0   0   0   0    0    0  ...    0    0    0    0    0    0   0   0\n",
              "16   0   0   0   0   0   0    0    0  ...    0    0    0    0    0    0   0   0\n",
              "17   0   0   0   0   0   0    0    0  ...    0    0    0    0    0    0   0   0\n",
              "18   0   0   0   0   0   0    0    0  ...    0    0    0    0    0    0   0   0\n",
              "19   0   0   0   0   0   0    0  131  ...    0    0    0    0    0    0   0   0\n",
              "20   0   0   0   0   0   0   66  209  ...    0    0    0    0    0    0   0   0\n",
              "21   0   0   0   0   0   0  142  254  ...    0    0    0    0    0    0   0   0\n",
              "22   0   0   0   0   0   0   90  254  ...    0    0    0    0    0    0   0   0\n",
              "23   0   0   0   0   0   0   26  229  ...    0    0    0    0    0    0   0   0\n",
              "24   0   0   0   0   0   0    0   73  ...    0    0    0    0    0    0   0   0\n",
              "25   0   0   0   0   0   0    0    0  ...    0    0    0    0    0    0   0   0\n",
              "26   0   0   0   0   0   0    0    0  ...    0    0    0    0    0    0   0   0\n",
              "27   0   0   0   0   0   0    0    0  ...    0    0    0    0    0    0   0   0\n",
              "\n",
              "[28 rows x 28 columns]"
            ]
          },
          "metadata": {},
          "execution_count": 25
        }
      ]
    },
    {
      "cell_type": "code",
      "metadata": {
        "colab": {
          "base_uri": "https://localhost:8080/"
        },
        "id": "zRtmpI65Hpt6",
        "outputId": "e802b175-03ed-4d39-de1f-a069e3855433"
      },
      "source": [
        "import tensorflow as tf\n",
        "\n",
        "(x_train, y_train), (x_test, y_test) = tf.keras.datasets.cifar10.load_data()\n",
        "print(x_train.shape, y_train.shape)\n",
        "print(x_test.shape, y_test.shape)"
      ],
      "execution_count": null,
      "outputs": [
        {
          "output_type": "stream",
          "name": "stdout",
          "text": [
            "(50000, 32, 32, 3) (50000, 1)\n",
            "(10000, 32, 32, 3) (10000, 1)\n"
          ]
        }
      ]
    },
    {
      "cell_type": "code",
      "metadata": {
        "colab": {
          "base_uri": "https://localhost:8080/",
          "height": 303
        },
        "id": "iQ9RKA5QHscQ",
        "outputId": "797c341f-f0a8-4233-b8ae-0faf4588b14d"
      },
      "source": [
        "import matplotlib.pyplot as plt\n",
        "\n",
        "print(y_train[9])\n",
        "plt.imshow(x_train[9])"
      ],
      "execution_count": null,
      "outputs": [
        {
          "output_type": "stream",
          "name": "stdout",
          "text": [
            "[3]\n"
          ]
        },
        {
          "output_type": "execute_result",
          "data": {
            "text/plain": [
              "<matplotlib.image.AxesImage at 0x7f02db73fe10>"
            ]
          },
          "metadata": {},
          "execution_count": 38
        },
        {
          "output_type": "display_data",
          "data": {
            "image/png": "[encoded data removed]",
            "text/plain": [
              "<Figure size 432x288 with 1 Axes>"
            ]
          },
          "metadata": {
            "needs_background": "light"
          }
        }
      ]
    },
    {
      "cell_type": "markdown",
      "metadata": {
        "id": "tTQJXaAkPmvu"
      },
      "source": [
        "## Flatten Layer"
      ]
    },
    {
      "cell_type": "code",
      "metadata": {
        "colab": {
          "base_uri": "https://localhost:8080/"
        },
        "id": "g1pSjS_wIucX",
        "outputId": "7795d959-ea6e-40c9-bb15-449401be6ba9"
      },
      "source": [
        "# 데이터를 준비합니다. \n",
        "import tensorflow as tf\n",
        "\n",
        "(x_train, y_train), (x_test, y_test) = tf.keras.datasets.mnist.load_data()\n",
        "\n",
        "print(x_train.shape, y_train.shape)\n",
        "print(x_test.shape, y_test.shape)"
      ],
      "execution_count": null,
      "outputs": [
        {
          "output_type": "stream",
          "name": "stdout",
          "text": [
            "(60000, 28, 28) (60000,)\n",
            "(10000, 28, 28) (10000,)\n"
          ]
        }
      ]
    },
    {
      "cell_type": "code",
      "metadata": {
        "colab": {
          "base_uri": "https://localhost:8080/",
          "height": 283
        },
        "id": "uJqdCJvCELK9",
        "outputId": "d07564a5-d0c8-42f5-95ae-04a9cc1251cb"
      },
      "source": [
        "import matplotlib.pyplot as plt\n",
        "plt.imshow(x_train[700], cmap='gray') "
      ],
      "execution_count": null,
      "outputs": [
        {
          "output_type": "execute_result",
          "data": {
            "text/plain": [
              "<matplotlib.image.AxesImage at 0x7f199983df50>"
            ]
          },
          "metadata": {},
          "execution_count": 3
        },
        {
          "output_type": "display_data",
          "data": {
            "image/png": "[encoded data removed]",
            "text/plain": [
              "<Figure size 432x288 with 1 Axes>"
            ]
          },
          "metadata": {
            "needs_background": "light"
          }
        }
      ]
    },
    {
      "cell_type": "code",
      "metadata": {
        "colab": {
          "base_uri": "https://localhost:8080/"
        },
        "id": "59bxFkhnRrud",
        "outputId": "eeb66879-40db-4bcc-f803-f62c37aba4b6"
      },
      "source": [
        "print(y_train[:10])"
      ],
      "execution_count": null,
      "outputs": [
        {
          "output_type": "stream",
          "name": "stdout",
          "text": [
            "[5 0 4 1 9 2 1 3 1 4]\n"
          ]
        }
      ]
    },
    {
      "cell_type": "code",
      "metadata": {
        "colab": {
          "base_uri": "https://localhost:8080/"
        },
        "id": "UEM_WaTaPrpb",
        "outputId": "ee38978f-f0a0-45b0-9ad6-658c519bdf8f"
      },
      "source": [
        "# 모델을 생성합니다. \n",
        "X = tf.keras.Input(shape=[28, 28])\n",
        "H = tf.keras.layers.Flatten()(X)\n",
        "H = tf.keras.layers.Dense(84, activation='swish')(H)\n",
        "Y = tf.keras.layers.Dense(10, activation='softmax')(H)\n",
        "model = tf.keras.Model(X, Y)\n",
        "model.compile(loss=tf.keras.losses.sparse_categorical_crossentropy,\n",
        "              metrics='accuracy')\n",
        "\n",
        "model.summary()"
      ],
      "execution_count": null,
      "outputs": [
        {
          "output_type": "stream",
          "name": "stdout",
          "text": [
            "Model: \"model_2\"\n",
            "_________________________________________________________________\n",
            " Layer (type)                Output Shape              Param #   \n",
            "=================================================================\n",
            " input_3 (InputLayer)        [(None, 28, 28)]          0         \n",
            "                                                                 \n",
            " flatten_2 (Flatten)         (None, 784)               0         \n",
            "                                                                 \n",
            " dense_4 (Dense)             (None, 84)                65940     \n",
            "                                                                 \n",
            " dense_5 (Dense)             (None, 10)                850       \n",
            "                                                                 \n",
            "=================================================================\n",
            "Total params: 66,790\n",
            "Trainable params: 66,790\n",
            "Non-trainable params: 0\n",
            "_________________________________________________________________\n"
          ]
        }
      ]
    },
    {
      "cell_type": "code",
      "metadata": {
        "colab": {
          "base_uri": "https://localhost:8080/"
        },
        "id": "MPfuyZMpPs2x",
        "outputId": "308ad11b-5bc8-4ac1-96a5-47ddbc59525e"
      },
      "source": [
        "# 모델을 데이터로 학습합니다. \n",
        "model.fit(x_train, y_train, batch_size=100, epochs=10, validation_split=0.2)"
      ],
      "execution_count": null,
      "outputs": [
        {
          "output_type": "stream",
          "name": "stdout",
          "text": [
            "Epoch 1/10\n",
            "480/480 [==============================] - 2s 3ms/step - loss: 4.3688 - accuracy: 0.8143 - val_loss: 0.7595 - val_accuracy: 0.8798\n",
            "Epoch 2/10\n",
            "480/480 [==============================] - 1s 3ms/step - loss: 0.5667 - accuracy: 0.9012 - val_loss: 0.4716 - val_accuracy: 0.9172\n",
            "Epoch 3/10\n",
            "480/480 [==============================] - 1s 3ms/step - loss: 0.4009 - accuracy: 0.9286 - val_loss: 0.4474 - val_accuracy: 0.9270\n",
            "Epoch 4/10\n",
            "480/480 [==============================] - 1s 2ms/step - loss: 0.3177 - accuracy: 0.9428 - val_loss: 0.4396 - val_accuracy: 0.9414\n",
            "Epoch 5/10\n",
            "480/480 [==============================] - 1s 2ms/step - loss: 0.2767 - accuracy: 0.9494 - val_loss: 0.4719 - val_accuracy: 0.9409\n",
            "Epoch 6/10\n",
            "480/480 [==============================] - 1s 2ms/step - loss: 0.2474 - accuracy: 0.9549 - val_loss: 0.4201 - val_accuracy: 0.9423\n",
            "Epoch 7/10\n",
            "480/480 [==============================] - 1s 2ms/step - loss: 0.2254 - accuracy: 0.9584 - val_loss: 0.3772 - val_accuracy: 0.9494\n",
            "Epoch 8/10\n",
            "480/480 [==============================] - 1s 3ms/step - loss: 0.1970 - accuracy: 0.9628 - val_loss: 0.4069 - val_accuracy: 0.9464\n",
            "Epoch 9/10\n",
            "480/480 [==============================] - 1s 3ms/step - loss: 0.1795 - accuracy: 0.9651 - val_loss: 0.4126 - val_accuracy: 0.9546\n",
            "Epoch 10/10\n",
            "480/480 [==============================] - 1s 3ms/step - loss: 0.1769 - accuracy: 0.9687 - val_loss: 0.4612 - val_accuracy: 0.9532\n"
          ]
        },
        {
          "output_type": "execute_result",
          "data": {
            "text/plain": [
              "<keras.callbacks.History at 0x7f025e3c5610>"
            ]
          },
          "metadata": {},
          "execution_count": 48
        }
      ]
    },
    {
      "cell_type": "code",
      "metadata": {
        "colab": {
          "base_uri": "https://localhost:8080/"
        },
        "id": "utB8I387Pu9Z",
        "outputId": "cae7f47c-1045-4eb8-9a73-f879a1cc0f7b"
      },
      "source": [
        "# 모델을 이용합니다. \n",
        "model.evaluate(x_test, y_test)"
      ],
      "execution_count": null,
      "outputs": [
        {
          "output_type": "stream",
          "name": "stdout",
          "text": [
            "313/313 [==============================] - 1s 2ms/step - loss: 0.4526 - accuracy: 0.9510\n"
          ]
        },
        {
          "output_type": "execute_result",
          "data": {
            "text/plain": [
              "[0.4525837302207947, 0.9509999752044678]"
            ]
          },
          "metadata": {},
          "execution_count": 49
        }
      ]
    },
    {
      "cell_type": "code",
      "metadata": {
        "colab": {
          "base_uri": "https://localhost:8080/"
        },
        "id": "7k23-NwlUMni",
        "outputId": "d81153ca-84e5-4a5c-b46d-c80c941165a1"
      },
      "source": [
        "model.predict(x_test[:5])"
      ],
      "execution_count": null,
      "outputs": [
        {
          "output_type": "execute_result",
          "data": {
            "text/plain": [
              "array([[0.00000000e+00, 0.00000000e+00, 0.00000000e+00, 0.00000000e+00,\n",
              "        0.00000000e+00, 0.00000000e+00, 0.00000000e+00, 1.00000000e+00,\n",
              "        0.00000000e+00, 9.90918061e-36],\n",
              "       [0.00000000e+00, 1.09806671e-16, 1.00000000e+00, 7.63470167e-29,\n",
              "        0.00000000e+00, 0.00000000e+00, 0.00000000e+00, 0.00000000e+00,\n",
              "        9.95730313e-36, 0.00000000e+00],\n",
              "       [0.00000000e+00, 1.00000000e+00, 2.71090751e-16, 1.23265959e-17,\n",
              "        1.85939652e-20, 0.00000000e+00, 1.57714222e-33, 7.03056272e-17,\n",
              "        4.30640332e-13, 3.56096382e-22],\n",
              "       [1.00000000e+00, 1.08733810e-30, 1.41129157e-15, 2.11300261e-26,\n",
              "        1.37545398e-13, 1.21618834e-13, 7.94845231e-11, 1.74038505e-25,\n",
              "        1.33506385e-14, 1.09696877e-18],\n",
              "       [1.52320231e-22, 0.00000000e+00, 1.85718386e-36, 0.00000000e+00,\n",
              "        1.00000000e+00, 0.00000000e+00, 9.68699989e-33, 8.25437964e-31,\n",
              "        1.18594497e-30, 8.94140843e-22]], dtype=float32)"
            ]
          },
          "metadata": {},
          "execution_count": 50
        }
      ]
    },
    {
      "cell_type": "code",
      "metadata": {
        "colab": {
          "base_uri": "https://localhost:8080/"
        },
        "id": "pCxjaHb-UTD7",
        "outputId": "9b13b46c-d5bb-4f97-e219-d32a3988e8d7"
      },
      "source": [
        "y_test[:5]"
      ],
      "execution_count": null,
      "outputs": [
        {
          "output_type": "execute_result",
          "data": {
            "text/plain": [
              "array([7, 2, 1, 0, 4], dtype=uint8)"
            ]
          },
          "metadata": {},
          "execution_count": 51
        }
      ]
    },
    {
      "cell_type": "code",
      "metadata": {
        "colab": {
          "base_uri": "https://localhost:8080/",
          "height": 283
        },
        "id": "dKj9i5pUUhLp",
        "outputId": "78bf4b32-65f3-4a8a-e292-c81fd66be058"
      },
      "source": [
        "plt.imshow(x_test[4], cmap='gray')"
      ],
      "execution_count": null,
      "outputs": [
        {
          "output_type": "execute_result",
          "data": {
            "text/plain": [
              "<matplotlib.image.AxesImage at 0x7f02487dec90>"
            ]
          },
          "metadata": {},
          "execution_count": 56
        },
        {
          "output_type": "display_data",
          "data": {
            "image/png": "[encoded data removed]",
            "text/plain": [
              "<Figure size 432x288 with 1 Axes>"
            ]
          },
          "metadata": {
            "needs_background": "light"
          }
        }
      ]
    },
    {
      "cell_type": "markdown",
      "metadata": {
        "id": "iyU8HJaRSiuK"
      },
      "source": [
        "## Convolution Layer"
      ]
    },
    {
      "cell_type": "code",
      "metadata": {
        "id": "0Dk3zPQFUmTx",
        "colab": {
          "base_uri": "https://localhost:8080/"
        },
        "outputId": "83723d8e-6f96-478b-e8f3-2eb9418e9e73"
      },
      "source": [
        "import tensorflow as tf\n",
        "\n",
        "# 데이터를 준비합니다. \n",
        "(x_train, y_train), (x_test, y_test) = tf.keras.datasets.mnist.load_data()\n",
        "\n",
        "x_train = x_train.reshape(60000, 28, 28, 1)\n",
        "x_test = x_test.reshape(10000, 28, 28, 1)\n",
        "\n",
        "print(x_train.shape, y_train.shape)\n",
        "print(x_test.shape, y_test.shape)"
      ],
      "execution_count": null,
      "outputs": [
        {
          "output_type": "stream",
          "name": "stdout",
          "text": [
            "(60000, 28, 28, 1) (60000,)\n",
            "(10000, 28, 28, 1) (10000,)\n"
          ]
        }
      ]
    },
    {
      "cell_type": "code",
      "metadata": {
        "colab": {
          "base_uri": "https://localhost:8080/"
        },
        "id": "PaKQzYu1Sy03",
        "outputId": "0a5c3df1-5b30-4446-980a-c97b4fb6fe0a"
      },
      "source": [
        "# 모델 만들기\n",
        "X = tf.keras.Input(shape=[28, 28, 1])\n",
        "H = tf.keras.layers.Conv2D(3, kernel_size=5, activation='swish')(X) # filter (3, 5, 5, 1)\n",
        "H = tf.keras.layers.Conv2D(6, kernel_size=5, activation='swish')(H) # filter (6, 5, 5, 3)\n",
        "H = tf.keras.layers.Flatten()(H)\n",
        "H = tf.keras.layers.Dense(84, activation='swish')(H)\n",
        "Y = tf.keras.layers.Dense(10, activation='softmax')(H)\n",
        "\n",
        "model = tf.keras.Model(X, Y)\n",
        "model.compile(loss='sparse_categorical_crossentropy', metrics='accuracy')\n",
        "\n",
        "model.summary()"
      ],
      "execution_count": null,
      "outputs": [
        {
          "output_type": "stream",
          "name": "stdout",
          "text": [
            "Model: \"model_3\"\n",
            "_________________________________________________________________\n",
            " Layer (type)                Output Shape              Param #   \n",
            "=================================================================\n",
            " input_4 (InputLayer)        [(None, 28, 28, 1)]       0         \n",
            "                                                                 \n",
            " conv2d_6 (Conv2D)           (None, 24, 24, 3)         78        \n",
            "                                                                 \n",
            " conv2d_7 (Conv2D)           (None, 20, 20, 6)         456       \n",
            "                                                                 \n",
            " flatten_3 (Flatten)         (None, 2400)              0         \n",
            "                                                                 \n",
            " dense_6 (Dense)             (None, 84)                201684    \n",
            "                                                                 \n",
            " dense_7 (Dense)             (None, 10)                850       \n",
            "                                                                 \n",
            "=================================================================\n",
            "Total params: 203,068\n",
            "Trainable params: 203,068\n",
            "Non-trainable params: 0\n",
            "_________________________________________________________________\n"
          ]
        }
      ]
    },
    {
      "cell_type": "code",
      "metadata": {
        "colab": {
          "base_uri": "https://localhost:8080/"
        },
        "id": "z8HWO8EkYhc7",
        "outputId": "94044b1b-b991-496e-9a5e-55d29b925149"
      },
      "source": [
        "# 첫번째 dense 레이어의 가중치 수 계산\n",
        "2400 * 84 + 84"
      ],
      "execution_count": null,
      "outputs": [
        {
          "output_type": "execute_result",
          "data": {
            "text/plain": [
              "201684"
            ]
          },
          "metadata": {},
          "execution_count": 12
        }
      ]
    },
    {
      "cell_type": "code",
      "metadata": {
        "colab": {
          "base_uri": "https://localhost:8080/"
        },
        "id": "PX-BCUUUULhX",
        "outputId": "6d115b1f-1ebf-43d3-fd8e-5de20180672e"
      },
      "source": [
        "model.fit(x_train, y_train, batch_size=128, epochs=10, validation_split=0.2)"
      ],
      "execution_count": null,
      "outputs": [
        {
          "output_type": "stream",
          "name": "stdout",
          "text": [
            "Epoch 1/10\n",
            "375/375 [==============================] - 2s 5ms/step - loss: 0.9096 - accuracy: 0.8858 - val_loss: 0.1569 - val_accuracy: 0.9604\n",
            "Epoch 2/10\n",
            "375/375 [==============================] - 2s 4ms/step - loss: 0.0810 - accuracy: 0.9759 - val_loss: 0.0981 - val_accuracy: 0.9733\n",
            "Epoch 3/10\n",
            "375/375 [==============================] - 1s 4ms/step - loss: 0.0377 - accuracy: 0.9887 - val_loss: 0.0970 - val_accuracy: 0.9755\n",
            "Epoch 4/10\n",
            "375/375 [==============================] - 1s 4ms/step - loss: 0.0196 - accuracy: 0.9937 - val_loss: 0.1162 - val_accuracy: 0.9744\n",
            "Epoch 5/10\n",
            "375/375 [==============================] - 1s 4ms/step - loss: 0.0122 - accuracy: 0.9962 - val_loss: 0.1252 - val_accuracy: 0.9753\n",
            "Epoch 6/10\n",
            "375/375 [==============================] - 2s 4ms/step - loss: 0.0096 - accuracy: 0.9969 - val_loss: 0.1465 - val_accuracy: 0.9766\n",
            "Epoch 7/10\n",
            "375/375 [==============================] - 2s 4ms/step - loss: 0.0089 - accuracy: 0.9972 - val_loss: 0.1416 - val_accuracy: 0.9777\n",
            "Epoch 8/10\n",
            "375/375 [==============================] - 1s 4ms/step - loss: 0.0061 - accuracy: 0.9980 - val_loss: 0.1969 - val_accuracy: 0.9730\n",
            "Epoch 9/10\n",
            "375/375 [==============================] - 1s 4ms/step - loss: 0.0064 - accuracy: 0.9978 - val_loss: 0.2134 - val_accuracy: 0.9744\n",
            "Epoch 10/10\n",
            "375/375 [==============================] - 2s 4ms/step - loss: 0.0048 - accuracy: 0.9986 - val_loss: 0.1951 - val_accuracy: 0.9764\n"
          ]
        },
        {
          "output_type": "execute_result",
          "data": {
            "text/plain": [
              "<keras.callbacks.History at 0x7f191c0f82d0>"
            ]
          },
          "metadata": {},
          "execution_count": 17
        }
      ]
    },
    {
      "cell_type": "markdown",
      "metadata": {
        "id": "idMWHDacVpMX"
      },
      "source": [
        "Q.ConV모델에 식에 대해서 입니다.\n",
        "- image shape: (28, 28, 1)\n",
        "  - filter size: (5, 5)\n",
        "  - stride: 1\n",
        "  - output size: (24, 24, ?) \n",
        "\n",
        "- image shape: (10, 10, 1)\n",
        "  - filter size: (3, 3)\n",
        "  - stride: 1\n",
        "  - output size: (8, 8)\n",
        "\n",
        "- image shape: (10, 10, 1)\n",
        "  - filter size: (3, 3)\n",
        "  - stride: 2\n",
        "  - output size: (4, 4)\n"
      ]
    },
    {
      "cell_type": "markdown",
      "metadata": {
        "id": "hptPddtxbapA"
      },
      "source": [
        "## Pooling Layer"
      ]
    },
    {
      "cell_type": "code",
      "metadata": {
        "colab": {
          "base_uri": "https://localhost:8080/"
        },
        "id": "OEUEe5t7VA_g",
        "outputId": "23ec64d3-f670-4c10-bab7-551e3916b76c"
      },
      "source": [
        "import tensorflow as tf\n",
        "\n",
        "# 데이터를 준비합니다. \n",
        "(x_train, y_train), (x_test, y_test) = tf.keras.datasets.mnist.load_data()\n",
        "\n",
        "x_train = x_train.reshape(60000, 28, 28, 1)\n",
        "x_test = x_test.reshape(10000, 28, 28, 1)\n",
        "\n",
        "print(x_train.shape, y_train.shape)\n",
        "print(x_test.shape, y_test.shape)"
      ],
      "execution_count": null,
      "outputs": [
        {
          "output_type": "stream",
          "name": "stdout",
          "text": [
            "(60000, 28, 28, 1) (60000,)\n",
            "(10000, 28, 28, 1) (10000,)\n"
          ]
        }
      ]
    },
    {
      "cell_type": "code",
      "metadata": {
        "colab": {
          "base_uri": "https://localhost:8080/"
        },
        "id": "w11zXIJBbgQp",
        "outputId": "5b855fdc-5352-4b98-a922-b93b4d0e4851"
      },
      "source": [
        "# 모델 만들기\n",
        "X = tf.keras.Input(shape=[28, 28, 1])\n",
        "H = tf.keras.layers.Conv2D(3, kernel_size=5, activation='swish')(X) # filter (3, 5, 5, 1)\n",
        "H = tf.keras.layers.MaxPool2D()(H)\n",
        "H = tf.keras.layers.Conv2D(6, kernel_size=5, activation='swish')(H) # filter (6, 5, 5, 3)\n",
        "H = tf.keras.layers.MaxPool2D()(H)\n",
        "H = tf.keras.layers.Flatten()(H)\n",
        "H = tf.keras.layers.Dense(84, activation='swish')(H)\n",
        "Y = tf.keras.layers.Dense(10, activation='softmax')(H)\n",
        "\n",
        "model = tf.keras.Model(X, Y)\n",
        "model.compile(loss='sparse_categorical_crossentropy', metrics='accuracy')\n",
        "\n",
        "model.summary()"
      ],
      "execution_count": null,
      "outputs": [
        {
          "output_type": "stream",
          "name": "stdout",
          "text": [
            "Model: \"model_2\"\n",
            "_________________________________________________________________\n",
            " Layer (type)                Output Shape              Param #   \n",
            "=================================================================\n",
            " input_3 (InputLayer)        [(None, 28, 28, 1)]       0         \n",
            "                                                                 \n",
            " conv2d_4 (Conv2D)           (None, 24, 24, 3)         78        \n",
            "                                                                 \n",
            " max_pooling2d (MaxPooling2D  (None, 12, 12, 3)        0         \n",
            " )                                                               \n",
            "                                                                 \n",
            " conv2d_5 (Conv2D)           (None, 8, 8, 6)           456       \n",
            "                                                                 \n",
            " max_pooling2d_1 (MaxPooling  (None, 4, 4, 6)          0         \n",
            " 2D)                                                             \n",
            "                                                                 \n",
            " flatten_2 (Flatten)         (None, 96)                0         \n",
            "                                                                 \n",
            " dense_4 (Dense)             (None, 84)                8148      \n",
            "                                                                 \n",
            " dense_5 (Dense)             (None, 10)                850       \n",
            "                                                                 \n",
            "=================================================================\n",
            "Total params: 9,532\n",
            "Trainable params: 9,532\n",
            "Non-trainable params: 0\n",
            "_________________________________________________________________\n"
          ]
        }
      ]
    },
    {
      "cell_type": "code",
      "metadata": {
        "colab": {
          "base_uri": "https://localhost:8080/"
        },
        "id": "81EKd5x4brPZ",
        "outputId": "1c2b27e4-aef7-4daa-a202-c5e440fdd7e6"
      },
      "source": [
        "model.fit(x_train, y_train, batch_size=128, epochs=10, validation_split=0.2)"
      ],
      "execution_count": null,
      "outputs": [
        {
          "output_type": "stream",
          "name": "stdout",
          "text": [
            "Epoch 1/10\n",
            "375/375 [==============================] - 2s 4ms/step - loss: 1.8264 - accuracy: 0.7956 - val_loss: 0.2084 - val_accuracy: 0.9390\n",
            "Epoch 2/10\n",
            "375/375 [==============================] - 2s 4ms/step - loss: 0.1699 - accuracy: 0.9494 - val_loss: 0.1324 - val_accuracy: 0.9600\n",
            "Epoch 3/10\n",
            "375/375 [==============================] - 2s 4ms/step - loss: 0.1142 - accuracy: 0.9655 - val_loss: 0.1173 - val_accuracy: 0.9653\n",
            "Epoch 4/10\n",
            "375/375 [==============================] - 2s 4ms/step - loss: 0.0907 - accuracy: 0.9719 - val_loss: 0.1073 - val_accuracy: 0.9686\n",
            "Epoch 5/10\n",
            "375/375 [==============================] - 1s 4ms/step - loss: 0.0779 - accuracy: 0.9755 - val_loss: 0.0970 - val_accuracy: 0.9719\n",
            "Epoch 6/10\n",
            "375/375 [==============================] - 1s 4ms/step - loss: 0.0674 - accuracy: 0.9779 - val_loss: 0.0907 - val_accuracy: 0.9754\n",
            "Epoch 7/10\n",
            "375/375 [==============================] - 2s 4ms/step - loss: 0.0606 - accuracy: 0.9808 - val_loss: 0.0841 - val_accuracy: 0.9769\n",
            "Epoch 8/10\n",
            "375/375 [==============================] - 2s 4ms/step - loss: 0.0542 - accuracy: 0.9825 - val_loss: 0.0928 - val_accuracy: 0.9766\n",
            "Epoch 9/10\n",
            "375/375 [==============================] - 1s 4ms/step - loss: 0.0494 - accuracy: 0.9847 - val_loss: 0.0918 - val_accuracy: 0.9755\n",
            "Epoch 10/10\n",
            "375/375 [==============================] - 2s 4ms/step - loss: 0.0455 - accuracy: 0.9848 - val_loss: 0.0910 - val_accuracy: 0.9768\n"
          ]
        },
        {
          "output_type": "execute_result",
          "data": {
            "text/plain": [
              "<keras.callbacks.History at 0x7f191c318250>"
            ]
          },
          "metadata": {},
          "execution_count": 15
        }
      ]
    },
    {
      "cell_type": "markdown",
      "metadata": {
        "id": "0npUzYR2iTH5"
      },
      "source": [
        "## Lenet"
      ]
    },
    {
      "cell_type": "code",
      "metadata": {
        "colab": {
          "base_uri": "https://localhost:8080/"
        },
        "id": "6Ei0soGnbzfA",
        "outputId": "a077f37c-f7bc-4ae5-f0da-0d18965f43f8"
      },
      "source": [
        "import tensorflow as tf\n",
        "\n",
        "# 데이터를 준비합니다. \n",
        "(x_train, y_train), (x_test, y_test) = tf.keras.datasets.mnist.load_data()\n",
        "\n",
        "x_train = x_train.reshape(60000, 28, 28, 1)\n",
        "x_test = x_test.reshape(10000, 28, 28, 1)\n",
        "\n",
        "print(x_train.shape, y_train.shape)\n",
        "print(x_test.shape, y_test.shape)"
      ],
      "execution_count": null,
      "outputs": [
        {
          "output_type": "stream",
          "name": "stdout",
          "text": [
            "(60000, 28, 28, 1) (60000,)\n",
            "(10000, 28, 28, 1) (10000,)\n"
          ]
        }
      ]
    },
    {
      "cell_type": "code",
      "metadata": {
        "colab": {
          "base_uri": "https://localhost:8080/"
        },
        "id": "055N0KJ2iWty",
        "outputId": "8b58080c-c505-4c68-cef5-52ee9d20b733"
      },
      "source": [
        "X = tf.keras.Input(shape=[28, 28, 1])\n",
        "H = tf.keras.layers.Conv2D(6, kernel_size=5, padding='same', activation='swish')(X)\n",
        "H = tf.keras.layers.MaxPool2D()(H)\n",
        "H = tf.keras.layers.Conv2D(16, kernel_size=5, activation='swish')(H)\n",
        "H = tf.keras.layers.MaxPool2D()(H)\n",
        "H = tf.keras.layers.Flatten()(H)\n",
        "H = tf.keras.layers.Dense(120, activation='swish')(H)\n",
        "H = tf.keras.layers.Dense(84, activation='swish')(H)\n",
        "Y = tf.keras.layers.Dense(10, activation='softmax')(H)\n",
        "\n",
        "model = tf.keras.Model(X, Y)\n",
        "model.compile(loss=tf.keras.losses.sparse_categorical_crossentropy, metrics='accuracy')\n",
        "model.summary()"
      ],
      "execution_count": null,
      "outputs": [
        {
          "output_type": "stream",
          "name": "stdout",
          "text": [
            "Model: \"model_4\"\n",
            "_________________________________________________________________\n",
            " Layer (type)                Output Shape              Param #   \n",
            "=================================================================\n",
            " input_5 (InputLayer)        [(None, 28, 28, 1)]       0         \n",
            "                                                                 \n",
            " conv2d_8 (Conv2D)           (None, 28, 28, 6)         156       \n",
            "                                                                 \n",
            " max_pooling2d_2 (MaxPooling  (None, 14, 14, 6)        0         \n",
            " 2D)                                                             \n",
            "                                                                 \n",
            " conv2d_9 (Conv2D)           (None, 10, 10, 16)        2416      \n",
            "                                                                 \n",
            " max_pooling2d_3 (MaxPooling  (None, 5, 5, 16)         0         \n",
            " 2D)                                                             \n",
            "                                                                 \n",
            " flatten_4 (Flatten)         (None, 400)               0         \n",
            "                                                                 \n",
            " dense_8 (Dense)             (None, 120)               48120     \n",
            "                                                                 \n",
            " dense_9 (Dense)             (None, 84)                10164     \n",
            "                                                                 \n",
            " dense_10 (Dense)            (None, 10)                850       \n",
            "                                                                 \n",
            "=================================================================\n",
            "Total params: 61,706\n",
            "Trainable params: 61,706\n",
            "Non-trainable params: 0\n",
            "_________________________________________________________________\n"
          ]
        }
      ]
    },
    {
      "cell_type": "code",
      "metadata": {
        "colab": {
          "base_uri": "https://localhost:8080/"
        },
        "id": "Y3LyA_1qi7EK",
        "outputId": "942bbcf6-88c7-4448-8ee4-b0864acb013b"
      },
      "source": [
        "model.fit(x_train, y_train, batch_size=128, epochs=10, validation_split=0.2)"
      ],
      "execution_count": null,
      "outputs": [
        {
          "output_type": "stream",
          "name": "stdout",
          "text": [
            "Epoch 1/10\n",
            "375/375 [==============================] - 2s 5ms/step - loss: 1.0590 - accuracy: 0.8865 - val_loss: 0.1344 - val_accuracy: 0.9654\n",
            "Epoch 2/10\n",
            "375/375 [==============================] - 2s 4ms/step - loss: 0.0920 - accuracy: 0.9733 - val_loss: 0.0856 - val_accuracy: 0.9749\n",
            "Epoch 3/10\n",
            "375/375 [==============================] - 2s 5ms/step - loss: 0.0624 - accuracy: 0.9814 - val_loss: 0.0805 - val_accuracy: 0.9766\n",
            "Epoch 4/10\n",
            "375/375 [==============================] - 2s 4ms/step - loss: 0.0463 - accuracy: 0.9860 - val_loss: 0.0743 - val_accuracy: 0.9822\n",
            "Epoch 5/10\n",
            "375/375 [==============================] - 2s 4ms/step - loss: 0.0375 - accuracy: 0.9886 - val_loss: 0.0768 - val_accuracy: 0.9823\n",
            "Epoch 6/10\n",
            "375/375 [==============================] - 2s 4ms/step - loss: 0.0300 - accuracy: 0.9911 - val_loss: 0.0851 - val_accuracy: 0.9826\n",
            "Epoch 7/10\n",
            "375/375 [==============================] - 2s 4ms/step - loss: 0.0270 - accuracy: 0.9920 - val_loss: 0.0948 - val_accuracy: 0.9812\n",
            "Epoch 8/10\n",
            "375/375 [==============================] - 1s 4ms/step - loss: 0.0230 - accuracy: 0.9933 - val_loss: 0.0871 - val_accuracy: 0.9818\n",
            "Epoch 9/10\n",
            "375/375 [==============================] - 2s 4ms/step - loss: 0.0215 - accuracy: 0.9934 - val_loss: 0.1076 - val_accuracy: 0.9826\n",
            "Epoch 10/10\n",
            "375/375 [==============================] - 1s 4ms/step - loss: 0.0182 - accuracy: 0.9946 - val_loss: 0.0864 - val_accuracy: 0.9829\n"
          ]
        },
        {
          "output_type": "execute_result",
          "data": {
            "text/plain": [
              "<keras.callbacks.History at 0x7f19900db190>"
            ]
          },
          "metadata": {},
          "execution_count": 20
        }
      ]
    },
    {
      "cell_type": "code",
      "metadata": {
        "id": "ql_p8hisjCUh"
      },
      "source": [
        "import matplotlib.pyplot as plt \n",
        "plt.imshow()"
      ],
      "execution_count": null,
      "outputs": []
    },
    {
      "cell_type": "markdown",
      "metadata": {
        "id": "qZaC4o4tvFZk"
      },
      "source": [
        "## Lenet + Fashion MNIST"
      ]
    },
    {
      "cell_type": "code",
      "metadata": {
        "id": "lG1xemoKvB-l"
      },
      "source": [
        "import tensorflow as tf\n",
        "\n",
        "# 데이터를 준비합니다. \n",
        "(x_train, y_train), (x_test, y_test) = tf.keras.datasets.fashion_mnist.load_data()\n",
        "\n",
        "x_train = x_train.reshape(60000, 28, 28, 1)\n",
        "x_test = x_test.reshape(10000, 28, 28, 1)\n",
        "\n",
        "print(x_train.shape, y_train.shape)\n",
        "print(x_test.shape, y_test.shape)"
      ],
      "execution_count": null,
      "outputs": []
    },
    {
      "cell_type": "code",
      "metadata": {
        "colab": {
          "base_uri": "https://localhost:8080/",
          "height": 283
        },
        "id": "hwNAz8hgvJej",
        "outputId": "23c84230-5e11-44f2-ecd7-a8cedd794934"
      },
      "source": [
        "import matplotlib.pyplot as plt\n",
        "plt.imshow(x_train[2].reshape(28, 28), cmap='gray')"
      ],
      "execution_count": null,
      "outputs": [
        {
          "output_type": "execute_result",
          "data": {
            "text/plain": [
              "<matplotlib.image.AxesImage at 0x7f19041ef5d0>"
            ]
          },
          "metadata": {},
          "execution_count": 27
        },
        {
          "output_type": "display_data",
          "data": {
            "image/png": "[encoded data removed]",
            "text/plain": [
              "<Figure size 432x288 with 1 Axes>"
            ]
          },
          "metadata": {
            "needs_background": "light"
          }
        }
      ]
    },
    {
      "cell_type": "code",
      "metadata": {
        "colab": {
          "base_uri": "https://localhost:8080/"
        },
        "id": "sfXsdjM5vRzy",
        "outputId": "ec8cfc3f-5fd4-4e88-813a-f9d8e87139f5"
      },
      "source": [
        "X = tf.keras.Input(shape=[28, 28, 1])\n",
        "H = tf.keras.layers.Conv2D(6, kernel_size=5, padding='same')(X)\n",
        "H = tf.keras.layers.BatchNormalization()(H)\n",
        "H = tf.keras.layers.Activation('swish')(H)\n",
        "H = tf.keras.layers.MaxPool2D()(H)\n",
        "\n",
        "H = tf.keras.layers.Dropout(0.6)(H)\n",
        "H = tf.keras.layers.Conv2D(16, kernel_size=5)(H)\n",
        "H = tf.keras.layers.BatchNormalization()(H)\n",
        "H = tf.keras.layers.Activation('swish')(H)\n",
        "H = tf.keras.layers.MaxPool2D()(H)\n",
        "H = tf.keras.layers.Flatten()(H)\n",
        "\n",
        "H = tf.keras.layers.Dropout(0.6)(H)\n",
        "H = tf.keras.layers.Dense(120)(H)\n",
        "H = tf.keras.layers.BatchNormalization()(H)\n",
        "H = tf.keras.layers.Activation('swish')(H)\n",
        "\n",
        "H = tf.keras.layers.Dense(84)(H)\n",
        "H = tf.keras.layers.BatchNormalization()(H)\n",
        "H = tf.keras.layers.Activation('swish')(H)\n",
        "Y = tf.keras.layers.Dense(10, activation='softmax')(H)\n",
        "\n",
        "model = tf.keras.Model(X, Y)\n",
        "model.compile(loss=tf.keras.losses.sparse_categorical_crossentropy, metrics='accuracy')\n",
        "model.summary()"
      ],
      "execution_count": null,
      "outputs": [
        {
          "output_type": "stream",
          "name": "stdout",
          "text": [
            "Model: \"model_8\"\n",
            "_________________________________________________________________\n",
            " Layer (type)                Output Shape              Param #   \n",
            "=================================================================\n",
            " input_10 (InputLayer)       [(None, 28, 28, 1)]       0         \n",
            "                                                                 \n",
            " conv2d_17 (Conv2D)          (None, 28, 28, 6)         156       \n",
            "                                                                 \n",
            " batch_normalization (BatchN  (None, 28, 28, 6)        24        \n",
            " ormalization)                                                   \n",
            "                                                                 \n",
            " activation (Activation)     (None, 28, 28, 6)         0         \n",
            "                                                                 \n",
            " max_pooling2d_10 (MaxPoolin  (None, 14, 14, 6)        0         \n",
            " g2D)                                                            \n",
            "                                                                 \n",
            " dropout_4 (Dropout)         (None, 14, 14, 6)         0         \n",
            "                                                                 \n",
            " conv2d_18 (Conv2D)          (None, 10, 10, 16)        2416      \n",
            "                                                                 \n",
            " batch_normalization_1 (Batc  (None, 10, 10, 16)       64        \n",
            " hNormalization)                                                 \n",
            "                                                                 \n",
            " activation_1 (Activation)   (None, 10, 10, 16)        0         \n",
            "                                                                 \n",
            " max_pooling2d_11 (MaxPoolin  (None, 5, 5, 16)         0         \n",
            " g2D)                                                            \n",
            "                                                                 \n",
            " flatten_8 (Flatten)         (None, 400)               0         \n",
            "                                                                 \n",
            " dropout_5 (Dropout)         (None, 400)               0         \n",
            "                                                                 \n",
            " dense_20 (Dense)            (None, 120)               48120     \n",
            "                                                                 \n",
            " batch_normalization_2 (Batc  (None, 120)              480       \n",
            " hNormalization)                                                 \n",
            "                                                                 \n",
            " activation_2 (Activation)   (None, 120)               0         \n",
            "                                                                 \n",
            " dense_21 (Dense)            (None, 84)                10164     \n",
            "                                                                 \n",
            " batch_normalization_3 (Batc  (None, 84)               336       \n",
            " hNormalization)                                                 \n",
            "                                                                 \n",
            " activation_3 (Activation)   (None, 84)                0         \n",
            "                                                                 \n",
            " dense_22 (Dense)            (None, 10)                850       \n",
            "                                                                 \n",
            "=================================================================\n",
            "Total params: 62,610\n",
            "Trainable params: 62,158\n",
            "Non-trainable params: 452\n",
            "_________________________________________________________________\n"
          ]
        }
      ]
    },
    {
      "cell_type": "code",
      "metadata": {
        "colab": {
          "base_uri": "https://localhost:8080/"
        },
        "id": "uY5Qpsu2wAys",
        "outputId": "d2e4b495-81ee-4e24-eaca-28cdcafcf810"
      },
      "source": [
        "model.fit(x_train, y_train, batch_size=128, epochs=20, validation_split=0.2)"
      ],
      "execution_count": null,
      "outputs": [
        {
          "output_type": "stream",
          "name": "stdout",
          "text": [
            "Epoch 1/20\n",
            "375/375 [==============================] - 2s 6ms/step - loss: 0.4016 - accuracy: 0.8479 - val_loss: 0.3602 - val_accuracy: 0.8588\n",
            "Epoch 2/20\n",
            "375/375 [==============================] - 2s 6ms/step - loss: 0.3991 - accuracy: 0.8508 - val_loss: 0.3126 - val_accuracy: 0.8800\n",
            "Epoch 3/20\n",
            "375/375 [==============================] - 2s 6ms/step - loss: 0.3933 - accuracy: 0.8516 - val_loss: 0.3128 - val_accuracy: 0.8807\n",
            "Epoch 4/20\n",
            "375/375 [==============================] - 2s 6ms/step - loss: 0.3952 - accuracy: 0.8520 - val_loss: 0.3101 - val_accuracy: 0.8818\n",
            "Epoch 5/20\n",
            "375/375 [==============================] - 2s 6ms/step - loss: 0.3911 - accuracy: 0.8519 - val_loss: 0.3126 - val_accuracy: 0.8811\n",
            "Epoch 6/20\n",
            "375/375 [==============================] - 2s 6ms/step - loss: 0.3897 - accuracy: 0.8524 - val_loss: 0.3122 - val_accuracy: 0.8802\n",
            "Epoch 7/20\n",
            "375/375 [==============================] - 2s 6ms/step - loss: 0.3890 - accuracy: 0.8551 - val_loss: 0.3127 - val_accuracy: 0.8793\n",
            "Epoch 8/20\n",
            "375/375 [==============================] - 2s 6ms/step - loss: 0.3882 - accuracy: 0.8543 - val_loss: 0.3157 - val_accuracy: 0.8792\n",
            "Epoch 9/20\n",
            "375/375 [==============================] - 2s 6ms/step - loss: 0.3843 - accuracy: 0.8575 - val_loss: 0.3260 - val_accuracy: 0.8726\n",
            "Epoch 10/20\n",
            "375/375 [==============================] - 2s 6ms/step - loss: 0.3823 - accuracy: 0.8566 - val_loss: 0.2984 - val_accuracy: 0.8857\n",
            "Epoch 11/20\n",
            "375/375 [==============================] - 2s 6ms/step - loss: 0.3817 - accuracy: 0.8553 - val_loss: 0.3403 - val_accuracy: 0.8698\n",
            "Epoch 12/20\n",
            "375/375 [==============================] - 2s 6ms/step - loss: 0.3794 - accuracy: 0.8583 - val_loss: 0.3293 - val_accuracy: 0.8733\n",
            "Epoch 13/20\n",
            "375/375 [==============================] - 2s 6ms/step - loss: 0.3789 - accuracy: 0.8577 - val_loss: 0.3264 - val_accuracy: 0.8741\n",
            "Epoch 14/20\n",
            "375/375 [==============================] - 2s 6ms/step - loss: 0.3780 - accuracy: 0.8600 - val_loss: 0.3005 - val_accuracy: 0.8865\n",
            "Epoch 15/20\n",
            "375/375 [==============================] - 2s 6ms/step - loss: 0.3787 - accuracy: 0.8565 - val_loss: 0.3036 - val_accuracy: 0.8828\n",
            "Epoch 16/20\n",
            "375/375 [==============================] - 2s 6ms/step - loss: 0.3737 - accuracy: 0.8592 - val_loss: 0.3237 - val_accuracy: 0.8763\n",
            "Epoch 17/20\n",
            "375/375 [==============================] - 2s 6ms/step - loss: 0.3759 - accuracy: 0.8592 - val_loss: 0.2951 - val_accuracy: 0.8883\n",
            "Epoch 18/20\n",
            "375/375 [==============================] - 2s 6ms/step - loss: 0.3741 - accuracy: 0.8604 - val_loss: 0.2940 - val_accuracy: 0.8881\n",
            "Epoch 19/20\n",
            "375/375 [==============================] - 2s 6ms/step - loss: 0.3722 - accuracy: 0.8621 - val_loss: 0.2942 - val_accuracy: 0.8876\n",
            "Epoch 20/20\n",
            "375/375 [==============================] - 2s 6ms/step - loss: 0.3702 - accuracy: 0.8601 - val_loss: 0.3324 - val_accuracy: 0.8707\n"
          ]
        },
        {
          "output_type": "execute_result",
          "data": {
            "text/plain": [
              "<keras.callbacks.History at 0x7f19900ea450>"
            ]
          },
          "metadata": {},
          "execution_count": 40
        }
      ]
    },
    {
      "cell_type": "code",
      "metadata": {
        "colab": {
          "base_uri": "https://localhost:8080/"
        },
        "id": "n78anze7wDNM",
        "outputId": "b721ba77-b171-415c-9743-f1911256fb60"
      },
      "source": [
        "# (256x256) * 10000\n",
        "# 256 => 224\n",
        "32 * 32 * 10000 * 2"
      ],
      "execution_count": null,
      "outputs": [
        {
          "output_type": "execute_result",
          "data": {
            "text/plain": [
              "20480000"
            ]
          },
          "metadata": {},
          "execution_count": 45
        }
      ]
    },
    {
      "cell_type": "markdown",
      "metadata": {
        "id": "lAMrxHjbMUxu"
      },
      "source": [
        "## 복습용 실습문제. \n",
        "\n",
        "- fashion mnist 학습 cnn 모델 만들기\n",
        "- conv layer 4개 이상 쓰기\n",
        "- 학습 가중치 (parameter 개수)는 5만개 미만으로 사용하기\n",
        "\n",
        "1. 학습 데이터에 대해서는 100% fitting에 가깝게 해보기 \n",
        "1. overfitting 발생하는 것 확인하기"
      ]
    },
    {
      "cell_type": "code",
      "metadata": {
        "id": "y-AnNh_L2snm",
        "colab": {
          "base_uri": "https://localhost:8080/"
        },
        "outputId": "ab719546-be6b-4c30-8fbb-f8f789451b62"
      },
      "source": [
        "# 데이터 준비하기 \n",
        "import tensorflow as tf\n",
        "\n",
        "(x_train, y_train), (x_test, y_test) = tf.keras.datasets.fashion_mnist.load_data()\n",
        "\n",
        "x_train = x_train.reshape(-1, 28, 28, 1) / 255\n",
        "x_test = x_test.reshape(-1, 28, 28, 1) / 255\n",
        "\n",
        "x_train, x_val = x_train[:50000], x_train[50000:]\n",
        "y_train, y_val = y_train[:50000], y_train[50000:]\n",
        "\n",
        "print(x_train.shape, y_train.shape)\n",
        "print(x_val.shape, y_val.shape)\n",
        "print(x_test.shape, y_test.shape)"
      ],
      "execution_count": null,
      "outputs": [
        {
          "output_type": "stream",
          "name": "stdout",
          "text": [
            "(50000, 28, 28, 1) (50000,)\n",
            "(10000, 28, 28, 1) (10000,)\n",
            "(10000, 28, 28, 1) (10000,)\n"
          ]
        }
      ]
    },
    {
      "cell_type": "code",
      "metadata": {
        "colab": {
          "base_uri": "https://localhost:8080/"
        },
        "id": "FGLnI6B_SOMZ",
        "outputId": "6c92ac22-8c17-41d7-9910-f0b811f44e15"
      },
      "source": [
        "X = tf.keras.Input(shape=[28, 28, 1])\n",
        "\n",
        "H1 = tf.keras.layers.Conv2D(8, kernel_size=3, padding='same', activation='swish')(X) # filter shape (3, 3, 1) # H shape: (28, 28, 8) \n",
        "H2 = tf.keras.layers.Conv2D(8, kernel_size=3, padding='same', activation='swish')(H1) # filter shape (3, 3, 8) # H shape: (28, 28, 8) \n",
        "M1 = tf.keras.layers.MaxPool2D()(H2) # H shape: (14, 14, 8) \n",
        "\n",
        "H3 = tf.keras.layers.Conv2D(16, kernel_size=3, padding='same', activation='swish')(M1) # filter shape (3, 3, 8) # H shape: (14, 14, 16) \n",
        "H4 = tf.keras.layers.Conv2D(16, kernel_size=3, padding='same', activation='swish')(H3) # filter shape (3, 3, 16) # H shape: (14, 14, 16) \n",
        "M2 = tf.keras.layers.MaxPool2D()(H4) # H shape: (7, 7, 16) \n",
        "\n",
        "H = tf.keras.layers.Flatten()(M2)\n",
        "H = tf.keras.layers.Dense(48, activation='swish')(H)\n",
        "Y = tf.keras.layers.Dense(10, activation='softmax')(H)\n",
        "\n",
        "model = tf.keras.Model(X, Y)\n",
        "model.compile(loss=tf.keras.losses.sparse_categorical_crossentropy, metrics='accuracy')\n",
        "model.summary()\n",
        "\n",
        "history = {\n",
        "    'loss': [],\n",
        "    'val_loss': [],\n",
        "    'accuracy': [],\n",
        "    'val_accuracy': [],    \n",
        "}"
      ],
      "execution_count": null,
      "outputs": [
        {
          "output_type": "stream",
          "name": "stdout",
          "text": [
            "Model: \"model_13\"\n",
            "_________________________________________________________________\n",
            " Layer (type)                Output Shape              Param #   \n",
            "=================================================================\n",
            " input_14 (InputLayer)       [(None, 28, 28, 1)]       0         \n",
            "                                                                 \n",
            " conv2d_52 (Conv2D)          (None, 28, 28, 8)         80        \n",
            "                                                                 \n",
            " conv2d_53 (Conv2D)          (None, 28, 28, 8)         584       \n",
            "                                                                 \n",
            " max_pooling2d_41 (MaxPoolin  (None, 14, 14, 8)        0         \n",
            " g2D)                                                            \n",
            "                                                                 \n",
            " conv2d_54 (Conv2D)          (None, 14, 14, 16)        1168      \n",
            "                                                                 \n",
            " conv2d_55 (Conv2D)          (None, 14, 14, 16)        2320      \n",
            "                                                                 \n",
            " max_pooling2d_42 (MaxPoolin  (None, 7, 7, 16)         0         \n",
            " g2D)                                                            \n",
            "                                                                 \n",
            " flatten_13 (Flatten)        (None, 784)               0         \n",
            "                                                                 \n",
            " dense_26 (Dense)            (None, 48)                37680     \n",
            "                                                                 \n",
            " dense_27 (Dense)            (None, 10)                490       \n",
            "                                                                 \n",
            "=================================================================\n",
            "Total params: 42,322\n",
            "Trainable params: 42,322\n",
            "Non-trainable params: 0\n",
            "_________________________________________________________________\n"
          ]
        }
      ]
    },
    {
      "cell_type": "markdown",
      "metadata": {
        "id": "dkvsjYHccX35"
      },
      "source": [
        "### early stoping"
      ]
    },
    {
      "cell_type": "code",
      "metadata": {
        "colab": {
          "base_uri": "https://localhost:8080/"
        },
        "id": "BVNwwjbMTWh5",
        "outputId": "329cea2f-47e9-4289-c01e-d49cb11d850a"
      },
      "source": [
        "early = tf.keras.callbacks.EarlyStopping(\n",
        "    monitor='val_loss',\n",
        "    min_delta = 0, # 개선되고 있다고 판단하기 위한 최소 변화량\n",
        "    patience = 5, # 개선이 없는 상태를 얼마나 기다릴까?\n",
        "    restore_best_weights = True\n",
        ")\n",
        "\n",
        "result = model.fit(x_train, y_train, epochs=1000, batch_size=256, validation_split=0.2, callbacks=[early])"
      ],
      "execution_count": null,
      "outputs": [
        {
          "output_type": "stream",
          "name": "stdout",
          "text": [
            "Epoch 1/1000\n",
            "157/157 [==============================] - 2s 9ms/step - loss: 0.8359 - accuracy: 0.6954 - val_loss: 0.6141 - val_accuracy: 0.7474\n",
            "Epoch 2/1000\n",
            "157/157 [==============================] - 1s 7ms/step - loss: 0.4910 - accuracy: 0.8200 - val_loss: 0.5410 - val_accuracy: 0.7979\n",
            "Epoch 3/1000\n",
            "157/157 [==============================] - 1s 7ms/step - loss: 0.4120 - accuracy: 0.8515 - val_loss: 0.5196 - val_accuracy: 0.8012\n",
            "Epoch 4/1000\n",
            "157/157 [==============================] - 1s 7ms/step - loss: 0.3698 - accuracy: 0.8656 - val_loss: 0.3927 - val_accuracy: 0.8565\n",
            "Epoch 5/1000\n",
            "157/157 [==============================] - 1s 7ms/step - loss: 0.3369 - accuracy: 0.8763 - val_loss: 0.3332 - val_accuracy: 0.8772\n",
            "Epoch 6/1000\n",
            "157/157 [==============================] - 1s 7ms/step - loss: 0.3107 - accuracy: 0.8859 - val_loss: 0.3222 - val_accuracy: 0.8865\n",
            "Epoch 7/1000\n",
            "157/157 [==============================] - 1s 7ms/step - loss: 0.2922 - accuracy: 0.8919 - val_loss: 0.3088 - val_accuracy: 0.8921\n",
            "Epoch 8/1000\n",
            "157/157 [==============================] - 1s 7ms/step - loss: 0.2729 - accuracy: 0.8989 - val_loss: 0.3482 - val_accuracy: 0.8686\n",
            "Epoch 9/1000\n",
            "157/157 [==============================] - 1s 7ms/step - loss: 0.2594 - accuracy: 0.9036 - val_loss: 0.3011 - val_accuracy: 0.8931\n",
            "Epoch 10/1000\n",
            "157/157 [==============================] - 1s 7ms/step - loss: 0.2462 - accuracy: 0.9086 - val_loss: 0.3000 - val_accuracy: 0.8973\n",
            "Epoch 11/1000\n",
            "157/157 [==============================] - 1s 7ms/step - loss: 0.2337 - accuracy: 0.9137 - val_loss: 0.2975 - val_accuracy: 0.8942\n",
            "Epoch 12/1000\n",
            "157/157 [==============================] - 1s 7ms/step - loss: 0.2244 - accuracy: 0.9161 - val_loss: 0.2891 - val_accuracy: 0.8995\n",
            "Epoch 13/1000\n",
            "157/157 [==============================] - 1s 7ms/step - loss: 0.2147 - accuracy: 0.9209 - val_loss: 0.3068 - val_accuracy: 0.8962\n",
            "Epoch 14/1000\n",
            "157/157 [==============================] - 1s 7ms/step - loss: 0.2064 - accuracy: 0.9218 - val_loss: 0.3037 - val_accuracy: 0.8984\n",
            "Epoch 15/1000\n",
            "157/157 [==============================] - 1s 7ms/step - loss: 0.1976 - accuracy: 0.9253 - val_loss: 0.2897 - val_accuracy: 0.8999\n",
            "Epoch 16/1000\n",
            "157/157 [==============================] - 1s 7ms/step - loss: 0.1905 - accuracy: 0.9284 - val_loss: 0.3119 - val_accuracy: 0.8965\n",
            "Epoch 17/1000\n",
            "157/157 [==============================] - 1s 7ms/step - loss: 0.1824 - accuracy: 0.9308 - val_loss: 0.3009 - val_accuracy: 0.8974\n"
          ]
        }
      ]
    },
    {
      "cell_type": "code",
      "metadata": {
        "id": "pYcfpZ-nbItH"
      },
      "source": [
        "history['loss'] += result.history['loss']\n",
        "history['val_loss'] += result.history['val_loss']\n",
        "history['accuracy'] += result.history['accuracy']\n",
        "history['val_accuracy'] += result.history['val_accuracy']"
      ],
      "execution_count": null,
      "outputs": []
    },
    {
      "cell_type": "markdown",
      "metadata": {
        "id": "p9gfJutfaMje"
      },
      "source": [
        "### history plot\n",
        "- loss, val_loss\n",
        "- accuracy, val_accuracy"
      ]
    },
    {
      "cell_type": "code",
      "metadata": {
        "colab": {
          "base_uri": "https://localhost:8080/",
          "height": 286
        },
        "id": "Xn0sllcoZqvS",
        "outputId": "5dbce24f-1667-4c80-9a45-60fdde73d243"
      },
      "source": [
        "import matplotlib.pyplot as plt\n",
        "plt.plot(history['loss'])\n",
        "plt.plot(history['val_loss'])\n",
        "plt.legend(['loss', 'val_loss'])"
      ],
      "execution_count": null,
      "outputs": [
        {
          "output_type": "execute_result",
          "data": {
            "text/plain": [
              "<matplotlib.legend.Legend at 0x7f1ce4420750>"
            ]
          },
          "metadata": {},
          "execution_count": 45
        },
        {
          "output_type": "display_data",
          "data": {
            "image/png": "[encoded data removed]",
            "text/plain": [
              "<Figure size 432x288 with 1 Axes>"
            ]
          },
          "metadata": {
            "needs_background": "light"
          }
        }
      ]
    },
    {
      "cell_type": "code",
      "metadata": {
        "colab": {
          "base_uri": "https://localhost:8080/",
          "height": 285
        },
        "id": "2GByIafZZ9Z3",
        "outputId": "aa04ac57-ce26-4d3e-a405-04fc458bc57f"
      },
      "source": [
        "import matplotlib.pyplot as plt\n",
        "plt.plot(history['accuracy'])\n",
        "plt.plot(history['val_accuracy'])\n",
        "plt.legend(['accuracy', 'val_accuracy'])"
      ],
      "execution_count": null,
      "outputs": [
        {
          "output_type": "execute_result",
          "data": {
            "text/plain": [
              "<matplotlib.legend.Legend at 0x7f1ce445b810>"
            ]
          },
          "metadata": {},
          "execution_count": 46
        },
        {
          "output_type": "display_data",
          "data": {
            "image/png": "[encoded data removed]",
            "text/plain": [
              "<Figure size 432x288 with 1 Axes>"
            ]
          },
          "metadata": {
            "needs_background": "light"
          }
        }
      ]
    },
    {
      "cell_type": "code",
      "metadata": {
        "colab": {
          "base_uri": "https://localhost:8080/"
        },
        "id": "jCjlkrwVT7t3",
        "outputId": "77a3d57a-318b-4f56-9e34-6de2cdd11b98"
      },
      "source": [
        "model.evaluate(x_test, y_test)"
      ],
      "execution_count": null,
      "outputs": [
        {
          "output_type": "stream",
          "name": "stdout",
          "text": [
            "313/313 [==============================] - 1s 3ms/step - loss: 0.3003 - accuracy: 0.9027\n"
          ]
        },
        {
          "output_type": "execute_result",
          "data": {
            "text/plain": [
              "[0.30026116967201233, 0.9027000069618225]"
            ]
          },
          "metadata": {},
          "execution_count": 50
        }
      ]
    },
    {
      "cell_type": "markdown",
      "metadata": {
        "id": "RxfODbdTgTeN"
      },
      "source": [
        "### data augmentation"
      ]
    },
    {
      "cell_type": "code",
      "metadata": {
        "id": "kRytmT_hUfUw"
      },
      "source": [
        "datagen = tf.keras.preprocessing.image.ImageDataGenerator(\n",
        "    width_shift_range=0.1,\n",
        "    height_shift_range=0.1,\n",
        "    horizontal_flip=True\n",
        ")\n",
        "\n",
        "train_gen = datagen.flow(x_train, y_train, batch_size=256)"
      ],
      "execution_count": null,
      "outputs": []
    },
    {
      "cell_type": "code",
      "metadata": {
        "colab": {
          "base_uri": "https://localhost:8080/",
          "height": 302
        },
        "id": "04sBv90lgr0C",
        "outputId": "d6c6bf3e-4638-499b-a536-92128901e91e"
      },
      "source": [
        "print(train_gen[0][0].shape, train_gen[0][1].shape)\n",
        "\n",
        "import matplotlib.pyplot as plt\n",
        "plt.imshow(train_gen[0][0][1].reshape(28, 28))"
      ],
      "execution_count": null,
      "outputs": [
        {
          "output_type": "stream",
          "name": "stdout",
          "text": [
            "(256, 28, 28, 1) (256,)\n"
          ]
        },
        {
          "output_type": "execute_result",
          "data": {
            "text/plain": [
              "<matplotlib.image.AxesImage at 0x7f1c9df72910>"
            ]
          },
          "metadata": {},
          "execution_count": 72
        },
        {
          "output_type": "display_data",
          "data": {
            "image/png": "[encoded data removed]",
            "text/plain": [
              "<Figure size 432x288 with 1 Axes>"
            ]
          },
          "metadata": {
            "needs_background": "light"
          }
        }
      ]
    },
    {
      "cell_type": "code",
      "metadata": {
        "colab": {
          "base_uri": "https://localhost:8080/"
        },
        "id": "CikDTMg-hLBZ",
        "outputId": "bd31ebfc-016c-45df-d28e-aef138938c3b"
      },
      "source": [
        "early = tf.keras.callbacks.EarlyStopping(\n",
        "    monitor='val_loss',\n",
        "    min_delta = 0, # 개선되고 있다고 판단하기 위한 최소 변화량\n",
        "    patience = 5, # 개선이 없는 상태를 얼마나 기다릴까?\n",
        "    restore_best_weights = True\n",
        ")\n",
        "\n",
        "model.fit(train_gen, epochs=10000, validation_data=(x_val, y_val), callbacks=[early])"
      ],
      "execution_count": null,
      "outputs": [
        {
          "output_type": "stream",
          "name": "stdout",
          "text": [
            "Epoch 1/10000\n",
            "196/196 [==============================] - 11s 54ms/step - loss: 0.2676 - accuracy: 0.8988 - val_loss: 0.2587 - val_accuracy: 0.9036\n",
            "Epoch 2/10000\n",
            "196/196 [==============================] - 10s 50ms/step - loss: 0.2662 - accuracy: 0.9023 - val_loss: 0.2560 - val_accuracy: 0.9054\n",
            "Epoch 3/10000\n",
            "196/196 [==============================] - 10s 50ms/step - loss: 0.2615 - accuracy: 0.9041 - val_loss: 0.2838 - val_accuracy: 0.8918\n",
            "Epoch 4/10000\n",
            "196/196 [==============================] - 10s 50ms/step - loss: 0.2626 - accuracy: 0.9022 - val_loss: 0.2426 - val_accuracy: 0.9100\n",
            "Epoch 5/10000\n",
            "196/196 [==============================] - 10s 49ms/step - loss: 0.2614 - accuracy: 0.9037 - val_loss: 0.2454 - val_accuracy: 0.9090\n",
            "Epoch 6/10000\n",
            "196/196 [==============================] - 10s 50ms/step - loss: 0.2592 - accuracy: 0.9042 - val_loss: 0.2539 - val_accuracy: 0.9041\n",
            "Epoch 7/10000\n",
            "196/196 [==============================] - 10s 53ms/step - loss: 0.2586 - accuracy: 0.9045 - val_loss: 0.2428 - val_accuracy: 0.9101\n",
            "Epoch 8/10000\n",
            "196/196 [==============================] - 10s 53ms/step - loss: 0.2587 - accuracy: 0.9037 - val_loss: 0.2432 - val_accuracy: 0.9103\n",
            "Epoch 9/10000\n",
            "196/196 [==============================] - 11s 54ms/step - loss: 0.2540 - accuracy: 0.9054 - val_loss: 0.2401 - val_accuracy: 0.9126\n",
            "Epoch 10/10000\n",
            "196/196 [==============================] - 10s 50ms/step - loss: 0.2548 - accuracy: 0.9052 - val_loss: 0.2412 - val_accuracy: 0.9125\n",
            "Epoch 11/10000\n",
            "196/196 [==============================] - 10s 50ms/step - loss: 0.2549 - accuracy: 0.9061 - val_loss: 0.2465 - val_accuracy: 0.9119\n",
            "Epoch 12/10000\n",
            "196/196 [==============================] - 10s 50ms/step - loss: 0.2521 - accuracy: 0.9068 - val_loss: 0.2460 - val_accuracy: 0.9122\n",
            "Epoch 13/10000\n",
            "196/196 [==============================] - 10s 53ms/step - loss: 0.2506 - accuracy: 0.9073 - val_loss: 0.2662 - val_accuracy: 0.9018\n",
            "Epoch 14/10000\n",
            "196/196 [==============================] - 10s 51ms/step - loss: 0.2497 - accuracy: 0.9072 - val_loss: 0.2343 - val_accuracy: 0.9145\n",
            "Epoch 15/10000\n",
            "196/196 [==============================] - 10s 50ms/step - loss: 0.2483 - accuracy: 0.9081 - val_loss: 0.2443 - val_accuracy: 0.9106\n",
            "Epoch 16/10000\n",
            "196/196 [==============================] - 11s 54ms/step - loss: 0.2453 - accuracy: 0.9090 - val_loss: 0.2399 - val_accuracy: 0.9146\n",
            "Epoch 17/10000\n",
            "196/196 [==============================] - 11s 55ms/step - loss: 0.2456 - accuracy: 0.9096 - val_loss: 0.2374 - val_accuracy: 0.9140\n",
            "Epoch 18/10000\n",
            "196/196 [==============================] - 10s 50ms/step - loss: 0.2446 - accuracy: 0.9088 - val_loss: 0.2422 - val_accuracy: 0.9126\n",
            "Epoch 19/10000\n",
            "196/196 [==============================] - 11s 54ms/step - loss: 0.2436 - accuracy: 0.9097 - val_loss: 0.2392 - val_accuracy: 0.9139\n"
          ]
        },
        {
          "output_type": "execute_result",
          "data": {
            "text/plain": [
              "<keras.callbacks.History at 0x7f1c9deeaa90>"
            ]
          },
          "metadata": {},
          "execution_count": 74
        }
      ]
    },
    {
      "cell_type": "code",
      "metadata": {
        "colab": {
          "base_uri": "https://localhost:8080/"
        },
        "id": "hxvrjV9-h4Ky",
        "outputId": "7360837b-0d94-47a3-bc20-093fab2b04d3"
      },
      "source": [
        "model.evaluate(x_test, y_test)"
      ],
      "execution_count": null,
      "outputs": [
        {
          "output_type": "stream",
          "name": "stdout",
          "text": [
            "313/313 [==============================] - 1s 3ms/step - loss: 0.2536 - accuracy: 0.9109\n"
          ]
        },
        {
          "output_type": "execute_result",
          "data": {
            "text/plain": [
              "[0.2535853981971741, 0.9108999967575073]"
            ]
          },
          "metadata": {},
          "execution_count": 76
        }
      ]
    },
    {
      "cell_type": "markdown",
      "metadata": {
        "id": "ZKn90kgwohCd"
      },
      "source": [
        "### 필터와 특징맵 출력해보기"
      ]
    },
    {
      "cell_type": "code",
      "metadata": {
        "id": "7aisOlv-iT1L",
        "colab": {
          "base_uri": "https://localhost:8080/"
        },
        "outputId": "8c12eb27-a65d-44de-a452-5780830c0f0e"
      },
      "source": [
        "weights = model.get_weights()\n",
        "print(len(weights))\n",
        "print(weights[0].shape, weights[1].shape)\n",
        "print(weights[2].shape, weights[3].shape)\n",
        "print(weights[4].shape, weights[5].shape)\n",
        "print(weights[6].shape, weights[7].shape)\n",
        "print(weights[8].shape, weights[9].shape)\n",
        "print(weights[10].shape, weights[11].shape)"
      ],
      "execution_count": null,
      "outputs": [
        {
          "output_type": "stream",
          "name": "stdout",
          "text": [
            "12\n",
            "(3, 3, 1, 8) (8,)\n",
            "(3, 3, 8, 8) (8,)\n",
            "(3, 3, 8, 16) (16,)\n",
            "(3, 3, 16, 16) (16,)\n",
            "(784, 48) (48,)\n",
            "(48, 10) (10,)\n"
          ]
        }
      ]
    },
    {
      "cell_type": "code",
      "metadata": {
        "id": "kktJXXpGl9df",
        "colab": {
          "base_uri": "https://localhost:8080/",
          "height": 490
        },
        "outputId": "a1cf7791-a320-41c7-af54-71b77d3a3892"
      },
      "source": [
        "import matplotlib.pyplot as plt\n",
        "print(weights[0][:, :, :, 0])\n",
        "plt.imshow(weights[0][:, :, :, 0].reshape(3, 3), cmap='gray')"
      ],
      "execution_count": null,
      "outputs": [
        {
          "output_type": "stream",
          "name": "stdout",
          "text": [
            "[[[-0.03376568]\n",
            "  [ 0.08468196]\n",
            "  [ 0.20308165]]\n",
            "\n",
            " [[ 0.3274141 ]\n",
            "  [ 0.34391224]\n",
            "  [ 0.28807506]]\n",
            "\n",
            " [[-0.07028558]\n",
            "  [ 0.30433157]\n",
            "  [-0.0455517 ]]]\n"
          ]
        },
        {
          "output_type": "execute_result",
          "data": {
            "text/plain": [
              "<matplotlib.image.AxesImage at 0x7f1c9d82f7d0>"
            ]
          },
          "metadata": {},
          "execution_count": 105
        },
        {
          "output_type": "display_data",
          "data": {
            "image/png": "[encoded data removed]",
            "text/plain": [
              "<Figure size 432x288 with 1 Axes>"
            ]
          },
          "metadata": {
            "needs_background": "light"
          }
        }
      ]
    },
    {
      "cell_type": "code",
      "metadata": {
        "id": "qSCnCZMwoCBO"
      },
      "source": [
        "output1 = tf.keras.Model(X, [H1, H2, H3, H4])\n",
        "output2 = tf.keras.Model(X, [M1, M2])"
      ],
      "execution_count": null,
      "outputs": []
    },
    {
      "cell_type": "code",
      "metadata": {
        "colab": {
          "base_uri": "https://localhost:8080/"
        },
        "id": "BZYEYkt2rQnT",
        "outputId": "f1584651-9bf6-4dd1-d424-4dff2ae09403"
      },
      "source": [
        "h1, h2, h3, h4 = output1.predict(x_test[:1])\n",
        "print(h1.shape, h2.shape, h3.shape, h4.shape)\n",
        "m1, m2 = output2.predict(x_test[:1])\n",
        "print(m1.shape, m2.shape)"
      ],
      "execution_count": null,
      "outputs": [
        {
          "output_type": "stream",
          "name": "stdout",
          "text": [
            "(1, 28, 28, 8) (1, 28, 28, 8) (1, 14, 14, 16) (1, 14, 14, 16)\n",
            "(1, 14, 14, 8) (1, 7, 7, 16)\n"
          ]
        }
      ]
    },
    {
      "cell_type": "code",
      "metadata": {
        "colab": {
          "base_uri": "https://localhost:8080/",
          "height": 283
        },
        "id": "YrFp9PbHrchu",
        "outputId": "20af67e7-2060-484a-a086-7b0916cffd96"
      },
      "source": [
        "plt.imshow(m2[0, :, :, 3], cmap='gray')"
      ],
      "execution_count": null,
      "outputs": [
        {
          "output_type": "execute_result",
          "data": {
            "text/plain": [
              "<matplotlib.image.AxesImage at 0x7f1d54f7d310>"
            ]
          },
          "metadata": {},
          "execution_count": 135
        },
        {
          "output_type": "display_data",
          "data": {
            "image/png": "[encoded data removed]",
            "text/plain": [
              "<Figure size 432x288 with 1 Axes>"
            ]
          },
          "metadata": {
            "needs_background": "light"
          }
        }
      ]
    },
    {
      "cell_type": "markdown",
      "metadata": {
        "id": "KL_aN0kLvQMF"
      },
      "source": [
        "## VGGNet"
      ]
    },
    {
      "cell_type": "code",
      "metadata": {
        "colab": {
          "base_uri": "https://localhost:8080/"
        },
        "id": "vYAglhugsGKi",
        "outputId": "ea8a240c-98cc-4320-ca67-8d1434f5d719"
      },
      "source": [
        "import tensorflow as tf\n",
        "\n",
        "(x_train, y_train), (x_test, y_test) = tf.keras.datasets.cifar10.load_data()\n",
        "x_train = x_train / 255. # (x_train - 0) / (255 - 0)\n",
        "x_test =  x_test / 255. # (x_test - 0) / (255 - 0)\n",
        "print(x_train.shape, y_train.shape)\n",
        "print(x_test.shape, y_test.shape)"
      ],
      "execution_count": null,
      "outputs": [
        {
          "output_type": "stream",
          "name": "stdout",
          "text": [
            "(50000, 32, 32, 3) (50000, 1)\n",
            "(10000, 32, 32, 3) (10000, 1)\n"
          ]
        }
      ]
    },
    {
      "cell_type": "code",
      "metadata": {
        "id": "mTvOXer1yTJx"
      },
      "source": [
        "def vgg_block(numbers, x):\n",
        "    net = tf.keras.layers.Conv2D(numbers, kernel_size=3, padding=\"same\")(x)\n",
        "    net = tf.keras.layers.BatchNormalization()(net)\n",
        "    net = tf.keras.layers.Activation('swish')(net)\n",
        "    net = tf.keras.layers.Conv2D(numbers, kernel_size=3, padding=\"same\", activation='swish')(net)\n",
        "    net = tf.keras.layers.Activation('swish')(net)\n",
        "    net = tf.keras.layers.BatchNormalization()(net)\n",
        "    return net"
      ],
      "execution_count": null,
      "outputs": []
    },
    {
      "cell_type": "code",
      "metadata": {
        "colab": {
          "base_uri": "https://localhost:8080/"
        },
        "id": "sjHcjq53wKEE",
        "outputId": "1465ed64-ae14-4565-fc46-1538b11822e5"
      },
      "source": [
        "X = tf.keras.Input(shape=[32, 32, 3])\n",
        "\n",
        "H = vgg_block(64, X)\n",
        "H = tf.keras.layers.MaxPool2D()(H)\n",
        "\n",
        "H = vgg_block(128, H)\n",
        "H = tf.keras.layers.MaxPool2D()(H)\n",
        "\n",
        "H = vgg_block(256, H)\n",
        "H = tf.keras.layers.MaxPool2D()(H)\n",
        "\n",
        "H = vgg_block(512, H)\n",
        "H = tf.keras.layers.MaxPool2D()(H)\n",
        "\n",
        "H = tf.keras.layers.Flatten()(H)\n",
        "H = tf.keras.layers.Dense(4096, activation='swish')(H)\n",
        "H = tf.keras.layers.Dense(4096, activation='swish')(H)\n",
        "H = tf.keras.layers.Dense(1000, activation='swish')(H)\n",
        "Y = tf.keras.layers.Dense(10, activation='softmax')(H)\n",
        "\n",
        "model = tf.keras.Model(X, Y)\n",
        "model.compile(loss=tf.keras.losses.sparse_categorical_crossentropy, \n",
        "              metrics='accuracy', optimizer='adam')\n",
        "model.summary()"
      ],
      "execution_count": null,
      "outputs": [
        {
          "output_type": "stream",
          "name": "stdout",
          "text": [
            "Model: \"model_19\"\n",
            "_________________________________________________________________\n",
            " Layer (type)                Output Shape              Param #   \n",
            "=================================================================\n",
            " input_18 (InputLayer)       [(None, 32, 32, 3)]       0         \n",
            "                                                                 \n",
            " conv2d_80 (Conv2D)          (None, 32, 32, 64)        1792      \n",
            "                                                                 \n",
            " batch_normalization (BatchN  (None, 32, 32, 64)       256       \n",
            " ormalization)                                                   \n",
            "                                                                 \n",
            " activation (Activation)     (None, 32, 32, 64)        0         \n",
            "                                                                 \n",
            " conv2d_81 (Conv2D)          (None, 32, 32, 64)        36928     \n",
            "                                                                 \n",
            " activation_1 (Activation)   (None, 32, 32, 64)        0         \n",
            "                                                                 \n",
            " batch_normalization_1 (Batc  (None, 32, 32, 64)       256       \n",
            " hNormalization)                                                 \n",
            "                                                                 \n",
            " max_pooling2d_55 (MaxPoolin  (None, 16, 16, 64)       0         \n",
            " g2D)                                                            \n",
            "                                                                 \n",
            " conv2d_82 (Conv2D)          (None, 16, 16, 128)       73856     \n",
            "                                                                 \n",
            " batch_normalization_2 (Batc  (None, 16, 16, 128)      512       \n",
            " hNormalization)                                                 \n",
            "                                                                 \n",
            " activation_2 (Activation)   (None, 16, 16, 128)       0         \n",
            "                                                                 \n",
            " conv2d_83 (Conv2D)          (None, 16, 16, 128)       147584    \n",
            "                                                                 \n",
            " activation_3 (Activation)   (None, 16, 16, 128)       0         \n",
            "                                                                 \n",
            " batch_normalization_3 (Batc  (None, 16, 16, 128)      512       \n",
            " hNormalization)                                                 \n",
            "                                                                 \n",
            " max_pooling2d_56 (MaxPoolin  (None, 8, 8, 128)        0         \n",
            " g2D)                                                            \n",
            "                                                                 \n",
            " conv2d_84 (Conv2D)          (None, 8, 8, 256)         295168    \n",
            "                                                                 \n",
            " batch_normalization_4 (Batc  (None, 8, 8, 256)        1024      \n",
            " hNormalization)                                                 \n",
            "                                                                 \n",
            " activation_4 (Activation)   (None, 8, 8, 256)         0         \n",
            "                                                                 \n",
            " conv2d_85 (Conv2D)          (None, 8, 8, 256)         590080    \n",
            "                                                                 \n",
            " activation_5 (Activation)   (None, 8, 8, 256)         0         \n",
            "                                                                 \n",
            " batch_normalization_5 (Batc  (None, 8, 8, 256)        1024      \n",
            " hNormalization)                                                 \n",
            "                                                                 \n",
            " max_pooling2d_57 (MaxPoolin  (None, 4, 4, 256)        0         \n",
            " g2D)                                                            \n",
            "                                                                 \n",
            " conv2d_86 (Conv2D)          (None, 4, 4, 512)         1180160   \n",
            "                                                                 \n",
            " batch_normalization_6 (Batc  (None, 4, 4, 512)        2048      \n",
            " hNormalization)                                                 \n",
            "                                                                 \n",
            " activation_6 (Activation)   (None, 4, 4, 512)         0         \n",
            "                                                                 \n",
            " conv2d_87 (Conv2D)          (None, 4, 4, 512)         2359808   \n",
            "                                                                 \n",
            " activation_7 (Activation)   (None, 4, 4, 512)         0         \n",
            "                                                                 \n",
            " batch_normalization_7 (Batc  (None, 4, 4, 512)        2048      \n",
            " hNormalization)                                                 \n",
            "                                                                 \n",
            " max_pooling2d_58 (MaxPoolin  (None, 2, 2, 512)        0         \n",
            " g2D)                                                            \n",
            "                                                                 \n",
            " flatten_17 (Flatten)        (None, 2048)              0         \n",
            "                                                                 \n",
            " dense_40 (Dense)            (None, 4096)              8392704   \n",
            "                                                                 \n",
            " dense_41 (Dense)            (None, 4096)              16781312  \n",
            "                                                                 \n",
            " dense_42 (Dense)            (None, 1000)              4097000   \n",
            "                                                                 \n",
            " dense_43 (Dense)            (None, 10)                10010     \n",
            "                                                                 \n",
            "=================================================================\n",
            "Total params: 33,974,082\n",
            "Trainable params: 33,970,242\n",
            "Non-trainable params: 3,840\n",
            "_________________________________________________________________\n"
          ]
        }
      ]
    },
    {
      "cell_type": "code",
      "metadata": {
        "colab": {
          "base_uri": "https://localhost:8080/"
        },
        "id": "cTkmil0TxHiM",
        "outputId": "00fa8ba3-cb32-443b-da4c-e2fc7a0910ea"
      },
      "source": [
        "model.fit(x_train, y_train, epochs=10, batch_size=128, validation_split=0.2)"
      ],
      "execution_count": null,
      "outputs": [
        {
          "output_type": "stream",
          "name": "stdout",
          "text": [
            "Epoch 1/10\n",
            "313/313 [==============================] - 13s 38ms/step - loss: 1.7845 - accuracy: 0.3988 - val_loss: 1.5224 - val_accuracy: 0.4387\n",
            "Epoch 2/10\n",
            "313/313 [==============================] - 12s 37ms/step - loss: 1.0403 - accuracy: 0.6332 - val_loss: 1.1161 - val_accuracy: 0.6064\n",
            "Epoch 3/10\n",
            "313/313 [==============================] - 12s 37ms/step - loss: 0.7783 - accuracy: 0.7334 - val_loss: 0.7845 - val_accuracy: 0.7353\n",
            "Epoch 4/10\n",
            "313/313 [==============================] - 12s 37ms/step - loss: 0.6825 - accuracy: 0.7752 - val_loss: 0.7672 - val_accuracy: 0.7504\n",
            "Epoch 5/10\n",
            "313/313 [==============================] - 12s 37ms/step - loss: 0.5208 - accuracy: 0.8278 - val_loss: 0.6879 - val_accuracy: 0.7722\n",
            "Epoch 6/10\n",
            "313/313 [==============================] - 12s 37ms/step - loss: 0.4096 - accuracy: 0.8638 - val_loss: 0.8968 - val_accuracy: 0.7205\n",
            "Epoch 7/10\n",
            "313/313 [==============================] - 12s 37ms/step - loss: 0.5008 - accuracy: 0.8436 - val_loss: 0.8486 - val_accuracy: 0.7306\n",
            "Epoch 8/10\n",
            "313/313 [==============================] - 12s 37ms/step - loss: 0.3951 - accuracy: 0.8692 - val_loss: 0.9152 - val_accuracy: 0.7258\n",
            "Epoch 9/10\n",
            "313/313 [==============================] - 12s 37ms/step - loss: 0.4210 - accuracy: 0.8613 - val_loss: 0.7267 - val_accuracy: 0.7799\n",
            "Epoch 10/10\n",
            "313/313 [==============================] - 12s 37ms/step - loss: 0.2316 - accuracy: 0.9247 - val_loss: 0.6198 - val_accuracy: 0.8188\n"
          ]
        },
        {
          "output_type": "execute_result",
          "data": {
            "text/plain": [
              "<keras.callbacks.History at 0x7f1cd2074510>"
            ]
          },
          "metadata": {},
          "execution_count": 145
        }
      ]
    },
    {
      "cell_type": "markdown",
      "metadata": {
        "id": "0C-ApohG5Poh"
      },
      "source": [
        "## ResNet"
      ]
    },
    {
      "cell_type": "code",
      "metadata": {
        "id": "b7QkBLe0xQL8"
      },
      "source": [
        "def residual_block(f_in, f_out, x):\n",
        "    net = tf.keras.layers.Conv2D(f_out // 4, kernel_size=1, padding=\"same\")(x)\n",
        "    net = tf.keras.layers.BatchNormalization()(net)\n",
        "    net = tf.keras.layers.Activation('swish')(net)\n",
        "\n",
        "    net = tf.keras.layers.Conv2D(f_out // 4, kernel_size=3, padding=\"same\")(net)\n",
        "    net = tf.keras.layers.BatchNormalization()(net)\n",
        "    net = tf.keras.layers.Activation('swish')(net)\n",
        "\n",
        "    net = tf.keras.layers.Conv2D(f_out, kernel_size=1, padding=\"same\")(net)\n",
        "    net = tf.keras.layers.BatchNormalization()(net)\n",
        "    if f_in == f_out:\n",
        "        net = tf.keras.layers.Add()([x, net])\n",
        "    net = tf.keras.layers.Activation('swish')(net)\n",
        "\n",
        "    return net"
      ],
      "execution_count": null,
      "outputs": []
    },
    {
      "cell_type": "code",
      "metadata": {
        "id": "hSMRoi5d6rfV"
      },
      "source": [
        "X = tf.keras.Input(shape=[32, 32, 3])\n",
        "\n",
        "H = tf.keras.layers.Conv2D(64, kernel_size=7, padding='same')(X)\n",
        "H = tf.keras.layers.BatchNormalization()(H)\n",
        "H = tf.keras.layers.Activation('swish')(H)\n",
        "H = tf.keras.layers.MaxPool2D(pool_size=3)(H)\n",
        "\n",
        "# (64, 64, 256) * 3\n",
        "H = residual_block(64, 256, H)\n",
        "for i in range(2):\n",
        "    H = residual_block(256, 256, H)\n",
        "H = tf.keras.layers.MaxPool2D()(H)\n",
        "\n",
        "# (128, 128, 512) * 8\n",
        "H = residual_block(256, 512, H)\n",
        "for i in range(7):\n",
        "    H = residual_block(512, 512, H)\n",
        "H = tf.keras.layers.MaxPool2D()(H)\n",
        "\n",
        "# (256, 256, 1024) * 36\n",
        "H = residual_block(512, 1024, H)\n",
        "for i in range(35):\n",
        "    H = residual_block(1024, 1024, H)\n",
        "H = tf.keras.layers.MaxPool2D()(H)\n",
        "\n",
        "# (512, 512, 2048) * 3\n",
        "H = residual_block(1024, 2048, H)\n",
        "for i in range(2):\n",
        "    H = residual_block(2048, 2048, H)\n",
        "# H = tf.keras.layers.GlobalAveragePooling2D()(H)\n",
        "\n",
        "H = tf.keras.layers.Flatten()(H)\n",
        "H = tf.keras.layers.Dense(1000)(H)\n",
        "H = tf.keras.layers.BatchNormalization()(H)\n",
        "H = tf.keras.layers.Activation('swish')(H)\n",
        "Y = tf.keras.layers.Dense(10, activation='softmax')(H)\n",
        "\n",
        "model = tf.keras.Model(X, Y)\n",
        "model.compile(loss=tf.keras.losses.sparse_categorical_crossentropy, \n",
        "              metrics='accuracy', optimizer='adam')\n",
        "model.summary()"
      ],
      "execution_count": null,
      "outputs": []
    },
    {
      "cell_type": "code",
      "metadata": {
        "colab": {
          "base_uri": "https://localhost:8080/",
          "height": 623
        },
        "id": "ERolsejP97ne",
        "outputId": "32185b51-507d-4c5a-e2a2-ccd6ec8df63e"
      },
      "source": [
        "model.fit(x_train, y_train, epochs=10, batch_size=128, validation_split=0.2)"
      ],
      "execution_count": null,
      "outputs": [
        {
          "output_type": "stream",
          "name": "stdout",
          "text": [
            "Epoch 1/10\n",
            "313/313 [==============================] - 52s 167ms/step - loss: 1.8278 - accuracy: 0.3091 - val_loss: 1.9043 - val_accuracy: 0.2677\n",
            "Epoch 2/10\n",
            "313/313 [==============================] - 49s 156ms/step - loss: 1.8105 - accuracy: 0.3218 - val_loss: 1.8866 - val_accuracy: 0.2546\n",
            "Epoch 3/10\n",
            "313/313 [==============================] - 49s 158ms/step - loss: 1.7206 - accuracy: 0.3552 - val_loss: 2.2297 - val_accuracy: 0.2430\n",
            "Epoch 4/10\n",
            "313/313 [==============================] - 49s 156ms/step - loss: 1.6470 - accuracy: 0.3937 - val_loss: 3.7920 - val_accuracy: 0.1313\n",
            "Epoch 5/10\n",
            "313/313 [==============================] - 49s 156ms/step - loss: 1.5980 - accuracy: 0.4173 - val_loss: 1.9892 - val_accuracy: 0.3590\n",
            "Epoch 6/10\n",
            "313/313 [==============================] - 49s 158ms/step - loss: 1.5267 - accuracy: 0.4398 - val_loss: 1.7321 - val_accuracy: 0.4163\n",
            "Epoch 7/10\n",
            " 69/313 [=====>........................] - ETA: 34s - loss: 1.4609 - accuracy: 0.4648"
          ]
        },
        {
          "output_type": "error",
          "ename": "KeyboardInterrupt",
          "evalue": "ignored",
          "traceback": [
            "\u001b[0;31m---------------------------------------------------------------------------\u001b[0m",
            "\u001b[0;31mKeyboardInterrupt\u001b[0m                         Traceback (most recent call last)",
            "\u001b[0;32m<ipython-input-158-92b37657f5bf>\u001b[0m in \u001b[0;36m<module>\u001b[0;34m()\u001b[0m\n\u001b[0;32m----> 1\u001b[0;31m \u001b[0mmodel\u001b[0m\u001b[0;34m.\u001b[0m\u001b[0mfit\u001b[0m\u001b[0;34m(\u001b[0m\u001b[0mx_train\u001b[0m\u001b[0;34m,\u001b[0m \u001b[0my_train\u001b[0m\u001b[0;34m,\u001b[0m \u001b[0mepochs\u001b[0m\u001b[0;34m=\u001b[0m\u001b[0;36m10\u001b[0m\u001b[0;34m,\u001b[0m \u001b[0mbatch_size\u001b[0m\u001b[0;34m=\u001b[0m\u001b[0;36m128\u001b[0m\u001b[0;34m,\u001b[0m \u001b[0mvalidation_split\u001b[0m\u001b[0;34m=\u001b[0m\u001b[0;36m0.2\u001b[0m\u001b[0;34m)\u001b[0m\u001b[0;34m\u001b[0m\u001b[0;34m\u001b[0m\u001b[0m\n\u001b[0m",
            "\u001b[0;32m/usr/local/lib/python3.7/dist-packages/keras/utils/traceback_utils.py\u001b[0m in \u001b[0;36merror_handler\u001b[0;34m(*args, **kwargs)\u001b[0m\n\u001b[1;32m     62\u001b[0m     \u001b[0mfiltered_tb\u001b[0m \u001b[0;34m=\u001b[0m \u001b[0;32mNone\u001b[0m\u001b[0;34m\u001b[0m\u001b[0;34m\u001b[0m\u001b[0m\n\u001b[1;32m     63\u001b[0m     \u001b[0;32mtry\u001b[0m\u001b[0;34m:\u001b[0m\u001b[0;34m\u001b[0m\u001b[0;34m\u001b[0m\u001b[0m\n\u001b[0;32m---> 64\u001b[0;31m       \u001b[0;32mreturn\u001b[0m \u001b[0mfn\u001b[0m\u001b[0;34m(\u001b[0m\u001b[0;34m*\u001b[0m\u001b[0margs\u001b[0m\u001b[0;34m,\u001b[0m \u001b[0;34m**\u001b[0m\u001b[0mkwargs\u001b[0m\u001b[0;34m)\u001b[0m\u001b[0;34m\u001b[0m\u001b[0;34m\u001b[0m\u001b[0m\n\u001b[0m\u001b[1;32m     65\u001b[0m     \u001b[0;32mexcept\u001b[0m \u001b[0mException\u001b[0m \u001b[0;32mas\u001b[0m \u001b[0me\u001b[0m\u001b[0;34m:\u001b[0m  \u001b[0;31m# pylint: disable=broad-except\u001b[0m\u001b[0;34m\u001b[0m\u001b[0;34m\u001b[0m\u001b[0m\n\u001b[1;32m     66\u001b[0m       \u001b[0mfiltered_tb\u001b[0m \u001b[0;34m=\u001b[0m \u001b[0m_process_traceback_frames\u001b[0m\u001b[0;34m(\u001b[0m\u001b[0me\u001b[0m\u001b[0;34m.\u001b[0m\u001b[0m__traceback__\u001b[0m\u001b[0;34m)\u001b[0m\u001b[0;34m\u001b[0m\u001b[0;34m\u001b[0m\u001b[0m\n",
            "\u001b[0;32m/usr/local/lib/python3.7/dist-packages/keras/engine/training.py\u001b[0m in \u001b[0;36mfit\u001b[0;34m(self, x, y, batch_size, epochs, verbose, callbacks, validation_split, validation_data, shuffle, class_weight, sample_weight, initial_epoch, steps_per_epoch, validation_steps, validation_batch_size, validation_freq, max_queue_size, workers, use_multiprocessing)\u001b[0m\n\u001b[1;32m   1214\u001b[0m                 _r=1):\n\u001b[1;32m   1215\u001b[0m               \u001b[0mcallbacks\u001b[0m\u001b[0;34m.\u001b[0m\u001b[0mon_train_batch_begin\u001b[0m\u001b[0;34m(\u001b[0m\u001b[0mstep\u001b[0m\u001b[0;34m)\u001b[0m\u001b[0;34m\u001b[0m\u001b[0;34m\u001b[0m\u001b[0m\n\u001b[0;32m-> 1216\u001b[0;31m               \u001b[0mtmp_logs\u001b[0m \u001b[0;34m=\u001b[0m \u001b[0mself\u001b[0m\u001b[0;34m.\u001b[0m\u001b[0mtrain_function\u001b[0m\u001b[0;34m(\u001b[0m\u001b[0miterator\u001b[0m\u001b[0;34m)\u001b[0m\u001b[0;34m\u001b[0m\u001b[0;34m\u001b[0m\u001b[0m\n\u001b[0m\u001b[1;32m   1217\u001b[0m               \u001b[0;32mif\u001b[0m \u001b[0mdata_handler\u001b[0m\u001b[0;34m.\u001b[0m\u001b[0mshould_sync\u001b[0m\u001b[0;34m:\u001b[0m\u001b[0;34m\u001b[0m\u001b[0;34m\u001b[0m\u001b[0m\n\u001b[1;32m   1218\u001b[0m                 \u001b[0mcontext\u001b[0m\u001b[0;34m.\u001b[0m\u001b[0masync_wait\u001b[0m\u001b[0;34m(\u001b[0m\u001b[0;34m)\u001b[0m\u001b[0;34m\u001b[0m\u001b[0;34m\u001b[0m\u001b[0m\n",
            "\u001b[0;32m/usr/local/lib/python3.7/dist-packages/tensorflow/python/util/traceback_utils.py\u001b[0m in \u001b[0;36merror_handler\u001b[0;34m(*args, **kwargs)\u001b[0m\n\u001b[1;32m    148\u001b[0m     \u001b[0mfiltered_tb\u001b[0m \u001b[0;34m=\u001b[0m \u001b[0;32mNone\u001b[0m\u001b[0;34m\u001b[0m\u001b[0;34m\u001b[0m\u001b[0m\n\u001b[1;32m    149\u001b[0m     \u001b[0;32mtry\u001b[0m\u001b[0;34m:\u001b[0m\u001b[0;34m\u001b[0m\u001b[0;34m\u001b[0m\u001b[0m\n\u001b[0;32m--> 150\u001b[0;31m       \u001b[0;32mreturn\u001b[0m \u001b[0mfn\u001b[0m\u001b[0;34m(\u001b[0m\u001b[0;34m*\u001b[0m\u001b[0margs\u001b[0m\u001b[0;34m,\u001b[0m \u001b[0;34m**\u001b[0m\u001b[0mkwargs\u001b[0m\u001b[0;34m)\u001b[0m\u001b[0;34m\u001b[0m\u001b[0;34m\u001b[0m\u001b[0m\n\u001b[0m\u001b[1;32m    151\u001b[0m     \u001b[0;32mexcept\u001b[0m \u001b[0mException\u001b[0m \u001b[0;32mas\u001b[0m \u001b[0me\u001b[0m\u001b[0;34m:\u001b[0m\u001b[0;34m\u001b[0m\u001b[0;34m\u001b[0m\u001b[0m\n\u001b[1;32m    152\u001b[0m       \u001b[0mfiltered_tb\u001b[0m \u001b[0;34m=\u001b[0m \u001b[0m_process_traceback_frames\u001b[0m\u001b[0;34m(\u001b[0m\u001b[0me\u001b[0m\u001b[0;34m.\u001b[0m\u001b[0m__traceback__\u001b[0m\u001b[0;34m)\u001b[0m\u001b[0;34m\u001b[0m\u001b[0;34m\u001b[0m\u001b[0m\n",
            "\u001b[0;32m/usr/local/lib/python3.7/dist-packages/tensorflow/python/eager/def_function.py\u001b[0m in \u001b[0;36m__call__\u001b[0;34m(self, *args, **kwds)\u001b[0m\n\u001b[1;32m    908\u001b[0m \u001b[0;34m\u001b[0m\u001b[0m\n\u001b[1;32m    909\u001b[0m       \u001b[0;32mwith\u001b[0m \u001b[0mOptionalXlaContext\u001b[0m\u001b[0;34m(\u001b[0m\u001b[0mself\u001b[0m\u001b[0;34m.\u001b[0m\u001b[0m_jit_compile\u001b[0m\u001b[0;34m)\u001b[0m\u001b[0;34m:\u001b[0m\u001b[0;34m\u001b[0m\u001b[0;34m\u001b[0m\u001b[0m\n\u001b[0;32m--> 910\u001b[0;31m         \u001b[0mresult\u001b[0m \u001b[0;34m=\u001b[0m \u001b[0mself\u001b[0m\u001b[0;34m.\u001b[0m\u001b[0m_call\u001b[0m\u001b[0;34m(\u001b[0m\u001b[0;34m*\u001b[0m\u001b[0margs\u001b[0m\u001b[0;34m,\u001b[0m \u001b[0;34m**\u001b[0m\u001b[0mkwds\u001b[0m\u001b[0;34m)\u001b[0m\u001b[0;34m\u001b[0m\u001b[0;34m\u001b[0m\u001b[0m\n\u001b[0m\u001b[1;32m    911\u001b[0m \u001b[0;34m\u001b[0m\u001b[0m\n\u001b[1;32m    912\u001b[0m       \u001b[0mnew_tracing_count\u001b[0m \u001b[0;34m=\u001b[0m \u001b[0mself\u001b[0m\u001b[0;34m.\u001b[0m\u001b[0mexperimental_get_tracing_count\u001b[0m\u001b[0;34m(\u001b[0m\u001b[0;34m)\u001b[0m\u001b[0;34m\u001b[0m\u001b[0;34m\u001b[0m\u001b[0m\n",
            "\u001b[0;32m/usr/local/lib/python3.7/dist-packages/tensorflow/python/eager/def_function.py\u001b[0m in \u001b[0;36m_call\u001b[0;34m(self, *args, **kwds)\u001b[0m\n\u001b[1;32m    940\u001b[0m       \u001b[0;31m# In this case we have created variables on the first call, so we run the\u001b[0m\u001b[0;34m\u001b[0m\u001b[0;34m\u001b[0m\u001b[0;34m\u001b[0m\u001b[0m\n\u001b[1;32m    941\u001b[0m       \u001b[0;31m# defunned version which is guaranteed to never create variables.\u001b[0m\u001b[0;34m\u001b[0m\u001b[0;34m\u001b[0m\u001b[0;34m\u001b[0m\u001b[0m\n\u001b[0;32m--> 942\u001b[0;31m       \u001b[0;32mreturn\u001b[0m \u001b[0mself\u001b[0m\u001b[0;34m.\u001b[0m\u001b[0m_stateless_fn\u001b[0m\u001b[0;34m(\u001b[0m\u001b[0;34m*\u001b[0m\u001b[0margs\u001b[0m\u001b[0;34m,\u001b[0m \u001b[0;34m**\u001b[0m\u001b[0mkwds\u001b[0m\u001b[0;34m)\u001b[0m  \u001b[0;31m# pylint: disable=not-callable\u001b[0m\u001b[0;34m\u001b[0m\u001b[0;34m\u001b[0m\u001b[0m\n\u001b[0m\u001b[1;32m    943\u001b[0m     \u001b[0;32melif\u001b[0m \u001b[0mself\u001b[0m\u001b[0;34m.\u001b[0m\u001b[0m_stateful_fn\u001b[0m \u001b[0;32mis\u001b[0m \u001b[0;32mnot\u001b[0m \u001b[0;32mNone\u001b[0m\u001b[0;34m:\u001b[0m\u001b[0;34m\u001b[0m\u001b[0;34m\u001b[0m\u001b[0m\n\u001b[1;32m    944\u001b[0m       \u001b[0;31m# Release the lock early so that multiple threads can perform the call\u001b[0m\u001b[0;34m\u001b[0m\u001b[0;34m\u001b[0m\u001b[0;34m\u001b[0m\u001b[0m\n",
            "\u001b[0;32m/usr/local/lib/python3.7/dist-packages/tensorflow/python/eager/function.py\u001b[0m in \u001b[0;36m__call__\u001b[0;34m(self, *args, **kwargs)\u001b[0m\n\u001b[1;32m   3129\u001b[0m        filtered_flat_args) = self._maybe_define_function(args, kwargs)\n\u001b[1;32m   3130\u001b[0m     return graph_function._call_flat(\n\u001b[0;32m-> 3131\u001b[0;31m         filtered_flat_args, captured_inputs=graph_function.captured_inputs)  # pylint: disable=protected-access\n\u001b[0m\u001b[1;32m   3132\u001b[0m \u001b[0;34m\u001b[0m\u001b[0m\n\u001b[1;32m   3133\u001b[0m   \u001b[0;34m@\u001b[0m\u001b[0mproperty\u001b[0m\u001b[0;34m\u001b[0m\u001b[0;34m\u001b[0m\u001b[0m\n",
            "\u001b[0;32m/usr/local/lib/python3.7/dist-packages/tensorflow/python/eager/function.py\u001b[0m in \u001b[0;36m_call_flat\u001b[0;34m(self, args, captured_inputs, cancellation_manager)\u001b[0m\n\u001b[1;32m   1958\u001b[0m       \u001b[0;31m# No tape is watching; skip to running the function.\u001b[0m\u001b[0;34m\u001b[0m\u001b[0;34m\u001b[0m\u001b[0;34m\u001b[0m\u001b[0m\n\u001b[1;32m   1959\u001b[0m       return self._build_call_outputs(self._inference_function.call(\n\u001b[0;32m-> 1960\u001b[0;31m           ctx, args, cancellation_manager=cancellation_manager))\n\u001b[0m\u001b[1;32m   1961\u001b[0m     forward_backward = self._select_forward_and_backward_functions(\n\u001b[1;32m   1962\u001b[0m         \u001b[0margs\u001b[0m\u001b[0;34m,\u001b[0m\u001b[0;34m\u001b[0m\u001b[0;34m\u001b[0m\u001b[0m\n",
            "\u001b[0;32m/usr/local/lib/python3.7/dist-packages/tensorflow/python/eager/function.py\u001b[0m in \u001b[0;36mcall\u001b[0;34m(self, ctx, args, cancellation_manager)\u001b[0m\n\u001b[1;32m    601\u001b[0m               \u001b[0minputs\u001b[0m\u001b[0;34m=\u001b[0m\u001b[0margs\u001b[0m\u001b[0;34m,\u001b[0m\u001b[0;34m\u001b[0m\u001b[0;34m\u001b[0m\u001b[0m\n\u001b[1;32m    602\u001b[0m               \u001b[0mattrs\u001b[0m\u001b[0;34m=\u001b[0m\u001b[0mattrs\u001b[0m\u001b[0;34m,\u001b[0m\u001b[0;34m\u001b[0m\u001b[0;34m\u001b[0m\u001b[0m\n\u001b[0;32m--> 603\u001b[0;31m               ctx=ctx)\n\u001b[0m\u001b[1;32m    604\u001b[0m         \u001b[0;32melse\u001b[0m\u001b[0;34m:\u001b[0m\u001b[0;34m\u001b[0m\u001b[0;34m\u001b[0m\u001b[0m\n\u001b[1;32m    605\u001b[0m           outputs = execute.execute_with_cancellation(\n",
            "\u001b[0;32m/usr/local/lib/python3.7/dist-packages/tensorflow/python/eager/execute.py\u001b[0m in \u001b[0;36mquick_execute\u001b[0;34m(op_name, num_outputs, inputs, attrs, ctx, name)\u001b[0m\n\u001b[1;32m     57\u001b[0m     \u001b[0mctx\u001b[0m\u001b[0;34m.\u001b[0m\u001b[0mensure_initialized\u001b[0m\u001b[0;34m(\u001b[0m\u001b[0;34m)\u001b[0m\u001b[0;34m\u001b[0m\u001b[0;34m\u001b[0m\u001b[0m\n\u001b[1;32m     58\u001b[0m     tensors = pywrap_tfe.TFE_Py_Execute(ctx._handle, device_name, op_name,\n\u001b[0;32m---> 59\u001b[0;31m                                         inputs, attrs, num_outputs)\n\u001b[0m\u001b[1;32m     60\u001b[0m   \u001b[0;32mexcept\u001b[0m \u001b[0mcore\u001b[0m\u001b[0;34m.\u001b[0m\u001b[0m_NotOkStatusException\u001b[0m \u001b[0;32mas\u001b[0m \u001b[0me\u001b[0m\u001b[0;34m:\u001b[0m\u001b[0;34m\u001b[0m\u001b[0;34m\u001b[0m\u001b[0m\n\u001b[1;32m     61\u001b[0m     \u001b[0;32mif\u001b[0m \u001b[0mname\u001b[0m \u001b[0;32mis\u001b[0m \u001b[0;32mnot\u001b[0m \u001b[0;32mNone\u001b[0m\u001b[0;34m:\u001b[0m\u001b[0;34m\u001b[0m\u001b[0;34m\u001b[0m\u001b[0m\n",
            "\u001b[0;31mKeyboardInterrupt\u001b[0m: "
          ]
        }
      ]
    },
    {
      "cell_type": "code",
      "metadata": {
        "colab": {
          "base_uri": "https://localhost:8080/"
        },
        "id": "s3QGQ58S-NMV",
        "outputId": "f7076d70-52ba-4645-d4d9-b23356c3b6b0"
      },
      "source": [
        "import numpy as np\n",
        "a = np.array([[1, 2, 3]])\n",
        "a = a.reshape(-1)\n",
        "a.shape"
      ],
      "execution_count": null,
      "outputs": [
        {
          "output_type": "execute_result",
          "data": {
            "text/plain": [
              "(3,)"
            ]
          },
          "metadata": {},
          "execution_count": 162
        }
      ]
    },
    {
      "cell_type": "code",
      "metadata": {
        "id": "viGzTAMGCXFd"
      },
      "source": [
        ""
      ],
      "execution_count": null,
      "outputs": []
    }
  ]
}