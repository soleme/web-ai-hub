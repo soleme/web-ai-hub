{
  "nbformat": 4,
  "nbformat_minor": 0,
  "metadata": {
    "colab": {
      "name": "machin_learn1.ipynb",
      "provenance": [],
      "authorship_tag": "ABX9TyMSBL4jsm+fp6KRCqnBzrCH",
      "include_colab_link": true
    },
    "kernelspec": {
      "name": "python3",
      "display_name": "Python 3"
    },
    "language_info": {
      "name": "python"
    }
  },
  "cells": [
    {
      "cell_type": "markdown",
      "metadata": {
        "id": "view-in-github",
        "colab_type": "text"
      },
      "source": [
        "<a href=\"https://colab.research.google.com/github/soleme/web-ai-hub/blob/main/machin_learn1.ipynb\" target=\"_parent\"><img src=\"https://colab.research.google.com/assets/colab-badge.svg\" alt=\"Open In Colab\"/></a>"
      ]
    },
    {
      "cell_type": "code",
      "metadata": {
        "id": "F-0-kWBMfmL1"
      },
      "source": [
        "import matplotlib.pyplot as plt\n",
        "import numpy as np\n",
        "\n",
        "# 닥스훈트의 길이와 높이 데이터\n",
        "dach_length = [75, 77, 83, 81, 73, 99, 72, 83]\n",
        "dach_height = [24, 29, 19, 32, 21, 22, 19, 34]\n",
        "\n",
        "# 사모예드의 길이와 높이 데이터\n",
        "samo_length = [76, 78, 82, 88, 76, 83, 81, 89]\n",
        "samo_height = [55, 58, 53, 54, 61, 52, 57, 64]\n",
        "\n",
        "# 말티즈의 길이와 높이 데이터\n",
        "malti_length = [35, 39, 38, 41, 30, 57, 41, 35]\n",
        "malti_height = [23, 26, 19, 30, 21, 24, 28, 20]"
      ],
      "execution_count": 1,
      "outputs": []
    },
    {
      "cell_type": "code",
      "metadata": {
        "colab": {
          "base_uri": "https://localhost:8080/",
          "height": 295
        },
        "id": "CampJvlFfu7Z",
        "outputId": "5b51d1a7-a6da-4974-f79f-9a3e5e66a1f9"
      },
      "source": [
        "plt.scatter(dach_length, dach_height, c='red', label='Dachshund')\n",
        "plt.scatter(samo_length, samo_height, c='blue', marker='^', label='Samoyed')\n",
        "plt.scatter(malti_length, malti_height, c='green', label='maltese')\n",
        "\n",
        "plt.xlabel('Length')\n",
        "plt.ylabel('Height')\n",
        "plt.title('Dog size')\n",
        "plt.legend(loc='upper left')\n",
        "\n",
        "plt.show()"
      ],
      "execution_count": 2,
      "outputs": [
        {
          "output_type": "display_data",
          "data": {
            "image/png": "[encoded data removed]",
            "text/plain": [
              "<Figure size 432x288 with 1 Axes>"
            ]
          },
          "metadata": {
            "needs_background": "light"
          }
        }
      ]
    },
    {
      "cell_type": "code",
      "metadata": {
        "colab": {
          "base_uri": "https://localhost:8080/",
          "height": 295
        },
        "id": "TXfR2dRtfyVL",
        "outputId": "f9297bf4-799c-4b50-82cd-2a032afe06a7"
      },
      "source": [
        "newdata_length=[79]\n",
        "newdata_height=[35]\n",
        "\n",
        "plt.scatter(dach_length, dach_height, c='red', label='Dachshund')\n",
        "plt.scatter(samo_length, samo_height, c='blue', marker='^', label='Samoyed')\n",
        "plt.scatter(malti_length, malti_height, c='green', label='maltese')\n",
        "plt.scatter(newdata_length, newdata_height, c='black', marker='s', label='newdata')\n",
        "\n",
        "plt.xlabel('Length')\n",
        "plt.ylabel('Height')\n",
        "plt.title('Dog size')\n",
        "plt.legend(loc='upper left')\n",
        "\n",
        "plt.show()"
      ],
      "execution_count": 3,
      "outputs": [
        {
          "output_type": "display_data",
          "data": {
            "image/png": "[encoded data removed]",
            "text/plain": [
              "<Figure size 432x288 with 1 Axes>"
            ]
          },
          "metadata": {
            "needs_background": "light"
          }
        }
      ]
    },
    {
      "cell_type": "code",
      "metadata": {
        "colab": {
          "base_uri": "https://localhost:8080/"
        },
        "id": "cA9_YmfCf1Ak",
        "outputId": "8acbab11-e165-4d2c-862e-b4c27526dbca"
      },
      "source": [
        "d_data = np.column_stack((dach_length, dach_height))\n",
        "d_data"
      ],
      "execution_count": 4,
      "outputs": [
        {
          "output_type": "execute_result",
          "data": {
            "text/plain": [
              "array([[75, 24],\n",
              "       [77, 29],\n",
              "       [83, 19],\n",
              "       [81, 32],\n",
              "       [73, 21],\n",
              "       [99, 22],\n",
              "       [72, 19],\n",
              "       [83, 34]])"
            ]
          },
          "metadata": {},
          "execution_count": 4
        }
      ]
    },
    {
      "cell_type": "code",
      "metadata": {
        "colab": {
          "base_uri": "https://localhost:8080/"
        },
        "id": "o5JyU_8Nf3GV",
        "outputId": "d059a1c0-991e-4969-df33-d39960389f95"
      },
      "source": [
        "d_label = [0]*(len(d_data))\n",
        "d_label"
      ],
      "execution_count": 5,
      "outputs": [
        {
          "output_type": "execute_result",
          "data": {
            "text/plain": [
              "[0, 0, 0, 0, 0, 0, 0, 0]"
            ]
          },
          "metadata": {},
          "execution_count": 5
        }
      ]
    },
    {
      "cell_type": "code",
      "metadata": {
        "id": "BdpN7f4Hf45p"
      },
      "source": [
        "s_data = np.column_stack((samo_length, samo_height))\n",
        "s_label = [1]*(len(s_data))"
      ],
      "execution_count": 6,
      "outputs": []
    },
    {
      "cell_type": "code",
      "metadata": {
        "id": "7Fv-belNf65G"
      },
      "source": [
        "m_data = np.column_stack((malti_length, malti_height))\n",
        "m_label = [2]*(len(m_data))"
      ],
      "execution_count": 7,
      "outputs": []
    },
    {
      "cell_type": "code",
      "metadata": {
        "colab": {
          "base_uri": "https://localhost:8080/"
        },
        "id": "Z7H-jhquf8qU",
        "outputId": "edb1c5e3-b84b-4544-fc9c-bb2b7fa9a702"
      },
      "source": [
        "dogs = np.concatenate((d_data, s_data, m_data))\n",
        "dogs"
      ],
      "execution_count": 8,
      "outputs": [
        {
          "output_type": "execute_result",
          "data": {
            "text/plain": [
              "array([[75, 24],\n",
              "       [77, 29],\n",
              "       [83, 19],\n",
              "       [81, 32],\n",
              "       [73, 21],\n",
              "       [99, 22],\n",
              "       [72, 19],\n",
              "       [83, 34],\n",
              "       [76, 55],\n",
              "       [78, 58],\n",
              "       [82, 53],\n",
              "       [88, 54],\n",
              "       [76, 61],\n",
              "       [83, 52],\n",
              "       [81, 57],\n",
              "       [89, 64],\n",
              "       [35, 23],\n",
              "       [39, 26],\n",
              "       [38, 19],\n",
              "       [41, 30],\n",
              "       [30, 21],\n",
              "       [57, 24],\n",
              "       [41, 28],\n",
              "       [35, 20]])"
            ]
          },
          "metadata": {},
          "execution_count": 8
        }
      ]
    },
    {
      "cell_type": "code",
      "metadata": {
        "colab": {
          "base_uri": "https://localhost:8080/"
        },
        "id": "KRHItbjZhej9",
        "outputId": "9758dc23-9177-44f5-8b3e-22ca57a4cb33"
      },
      "source": [
        "labels = np.concatenate((d_label, s_label, m_label))\n",
        "labels"
      ],
      "execution_count": 9,
      "outputs": [
        {
          "output_type": "execute_result",
          "data": {
            "text/plain": [
              "array([0, 0, 0, 0, 0, 0, 0, 0, 1, 1, 1, 1, 1, 1, 1, 1, 2, 2, 2, 2, 2, 2,\n",
              "       2, 2])"
            ]
          },
          "metadata": {},
          "execution_count": 9
        }
      ]
    },
    {
      "cell_type": "code",
      "metadata": {
        "id": "hHB7bpJbhguQ"
      },
      "source": [
        "dos_classes = {0:'닥스훈트', 1:'사모예드', 2:'말티즈'}"
      ],
      "execution_count": 11,
      "outputs": []
    },
    {
      "cell_type": "code",
      "metadata": {
        "colab": {
          "base_uri": "https://localhost:8080/"
        },
        "id": "OxWHt1aVhjvG",
        "outputId": "7c2b4531-3c6d-4033-b385-e4bc6b1cc12d"
      },
      "source": [
        "from sklearn.neighbors import KNeighborsClassifier\n",
        "k=3\n",
        "knn = KNeighborsClassifier(n_neighbors=k)\n",
        "knn.fit(dogs, labels)\n",
        "pred = knn.predict(dogs)\n",
        "from sklearn.metrics import confusion_matrix\n",
        "confusion_matrix(labels, pred)"
      ],
      "execution_count": 12,
      "outputs": [
        {
          "output_type": "execute_result",
          "data": {
            "text/plain": [
              "array([[8, 0, 0],\n",
              "       [0, 8, 0],\n",
              "       [1, 0, 7]])"
            ]
          },
          "metadata": {},
          "execution_count": 12
        }
      ]
    },
    {
      "cell_type": "code",
      "metadata": {
        "colab": {
          "base_uri": "https://localhost:8080/"
        },
        "id": "zsTAFuvviIp9",
        "outputId": "d44d5535-0308-4d48-9774-68d409cfbff6"
      },
      "source": [
        "def classifier_result(data):\n",
        "  for k in [3,5,7]:\n",
        "    knn = KNeighborsClassifier(n_neighbors=k)\n",
        "    knn.fit(dogs, labels)\n",
        "    pred = knn.predict(data)\n",
        "    print(data, 'k=', k, '일 때', dos_classes[pred[0]])\n",
        "print('A 데이터')\n",
        "A = [[58,30]]\n",
        "classifier_result(A)\n",
        "\n",
        "print('B 데이터')\n",
        "B = [[80,26]]\n",
        "classifier_result(B)\n",
        "\n",
        "print('C 데이터')\n",
        "C = [[80,41]]\n",
        "classifier_result(C)\n",
        "\n",
        "print('D 데이터')\n",
        "D = [[75,55]]\n",
        "classifier_result(D)"
      ],
      "execution_count": 16,
      "outputs": [
        {
          "output_type": "stream",
          "name": "stdout",
          "text": [
            "A 데이터\n",
            "[[58, 30]] k= 3 일 때 말티즈\n",
            "[[58, 30]] k= 5 일 때 말티즈\n",
            "[[58, 30]] k= 7 일 때 닥스훈트\n",
            "B 데이터\n",
            "[[80, 26]] k= 3 일 때 닥스훈트\n",
            "[[80, 26]] k= 5 일 때 닥스훈트\n",
            "[[80, 26]] k= 7 일 때 닥스훈트\n",
            "C 데이터\n",
            "[[80, 41]] k= 3 일 때 닥스훈트\n",
            "[[80, 41]] k= 5 일 때 닥스훈트\n",
            "[[80, 41]] k= 7 일 때 사모예드\n",
            "D 데이터\n",
            "[[75, 55]] k= 3 일 때 사모예드\n",
            "[[75, 55]] k= 5 일 때 사모예드\n",
            "[[75, 55]] k= 7 일 때 사모예드\n"
          ]
        }
      ]
    },
    {
      "cell_type": "code",
      "metadata": {
        "colab": {
          "base_uri": "https://localhost:8080/",
          "height": 295
        },
        "id": "AcnNrOrVkqXj",
        "outputId": "dfd5226e-f006-4b51-86a3-d9dfceb0041d"
      },
      "source": [
        "plt.scatter(dach_length, dach_height, c='red', label='Dachshund')\n",
        "plt.scatter(samo_length, samo_height, c='blue', marker='^', label='Samoyed')\n",
        "plt.scatter(malti_length, malti_height, c='green', label='maltese')\n",
        "\n",
        "plt.scatter(A[0][0], A[0][1], s=200, c='magenta', label='A')\n",
        "plt.scatter(B[0][0], B[0][1], s=200, c='cyan', label='B')\n",
        "plt.scatter(C[0][0], C[0][1], s=200, c='gray', label='C')\n",
        "plt.scatter(D[0][0], D[0][1], s=200, c='black', label='D')\n",
        "\n",
        "plt.xlabel('Length')\n",
        "plt.ylabel('Height')\n",
        "plt.title('Dog size')\n",
        "plt.legend(loc='upper left')\n",
        "\n",
        "plt.show()"
      ],
      "execution_count": 20,
      "outputs": [
        {
          "output_type": "display_data",
          "data": {
            "image/png": "[encoded data removed]",
            "text/plain": [
              "<Figure size 432x288 with 1 Axes>"
            ]
          },
          "metadata": {
            "needs_background": "light"
          }
        }
      ]
    }
  ]
}