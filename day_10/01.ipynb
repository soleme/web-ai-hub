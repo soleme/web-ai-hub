{
 "cells": [
  {
   "cell_type": "markdown",
   "metadata": {},
   "source": [
    "## 이항 검정\n",
    "### 이항분포를 이용한 검정\n",
    "### N개 중에 K개를 맞췄을 떄, 찍어서 맞췄을 가능성"
   ]
  },
  {
   "cell_type": "code",
   "execution_count": 7,
   "metadata": {},
   "outputs": [
    {
     "name": "stdout",
     "output_type": "stream",
     "text": [
      "stats.binom_test(8,10) > 0.109375\n",
      "stats.binom_test(9,10) > 0.021484375\n",
      "stats.binom_test(14,20) > 0.11531829833984375\n",
      "stats.binom_test(15,20) > 0.04138946533203125\n",
      "stats.binom_test(60,100) > 0.05688793364098088\n",
      "stats.binom_test(61,100) > 0.035200200217704855\n"
     ]
    }
   ],
   "source": [
    "from scipy import stats\n",
    "print(\"stats.binom_test(8,10) >\", stats.binom_test(8,10))\n",
    "print(\"stats.binom_test(9,10) >\", stats.binom_test(9,10))\n",
    "print(\"stats.binom_test(14,20) >\", stats.binom_test(14,20))\n",
    "print(\"stats.binom_test(15,20) >\", stats.binom_test(15,20))\n",
    "print(\"stats.binom_test(60,100) >\", stats.binom_test(60,100))\n",
    "print(\"stats.binom_test(61,100) >\", stats.binom_test(61,100))"
   ]
  },
  {
   "cell_type": "markdown",
   "metadata": {},
   "source": [
    "## T검정\n",
    "### T분포를 이용한 검정 (자유도 = 샘플수 -1 )\n",
    "### 두 집단의 숫자가 같은 모집단에서 뽑힌 숫자일 가능성"
   ]
  },
  {
   "cell_type": "code",
   "execution_count": 12,
   "metadata": {},
   "outputs": [
    {
     "name": "stdout",
     "output_type": "stream",
     "text": [
      "Ttest_indResult(statistic=-1.4484839209700326, pvalue=0.15568362443329598)\n",
      "평균:  48.98049999999999 49.888\n",
      "표준편차:  1.825312233564438 2.0313015531919425\n",
      "[49.94 51.25 46.27 51.27 49.28 47.54 47.12 52.08 50.54 51.3  48.2  50.47\n",
      " 48.18 50.72 47.31 49.24 47.64 48.44 46.78 46.04]\n",
      "[50.29 51.22 49.22 52.97 50.02 49.52 50.62 47.87 52.93 52.29 49.3  50.15\n",
      " 50.07 51.89 47.79 50.53 45.17 51.43 48.45 46.03]\n"
     ]
    }
   ],
   "source": [
    "from scipy import stats\n",
    "x1 = stats.norm(50,2).rvs(20).round(2)\n",
    "x2 = stats.norm(49,2).rvs(20).round(2)\n",
    "print(stats.ttest_ind(x1,x2))\n",
    "print(\"평균: \", x1.mean(), x2.mean())\n",
    "print(\"표준편차: \", x1.std(), x2.std())\n",
    "print(x1)\n",
    "print(x2)"
   ]
  },
  {
   "cell_type": "code",
   "execution_count": 46,
   "metadata": {},
   "outputs": [
    {
     "name": "stdout",
     "output_type": "stream",
     "text": [
      "Ttest_indResult(statistic=2.7978042591833203, pvalue=0.006971416636050677)\n",
      "평균:  435.46666666666664 401.1\n",
      "표준편차:  45.26789394507129 48.23301082592018\n",
      "[459. 454. 394. 475. 456. 490. 340. 424. 410. 416. 442. 448. 451. 417.\n",
      " 502. 438. 415. 328. 426. 452. 425. 454. 487. 462. 468. 370. 393. 404.\n",
      " 412. 552.]\n",
      "[461. 380. 319. 355. 419. 476. 486. 393. 438. 363. 380. 354. 401. 380.\n",
      " 397. 384. 319. 315. 390. 415. 389. 463. 365. 418. 425. 404. 527. 430.\n",
      " 398. 389.]\n"
     ]
    }
   ],
   "source": [
    "from scipy import stats\n",
    "x1 = stats.norm(450,50).rvs(30).round(0)\n",
    "x2 = stats.norm(400,50).rvs(30).round(0)\n",
    "print(stats.ttest_ind(x1,x2))\n",
    "print(\"평균: \", x1.mean(), x2.mean())\n",
    "print(\"표준편차: \", x1.std(), x2.std())\n",
    "print(x1)\n",
    "print(x2)"
   ]
  }
 ],
 "metadata": {
  "interpreter": {
   "hash": "aecd030d4c8316a52bf122072e28f84bcc79844c2684e041fef2e3f1d9f59078"
  },
  "kernelspec": {
   "display_name": "Python 3.10.0 64-bit",
   "language": "python",
   "name": "python3"
  },
  "language_info": {
   "codemirror_mode": {
    "name": "ipython",
    "version": 3
   },
   "file_extension": ".py",
   "mimetype": "text/x-python",
   "name": "python",
   "nbconvert_exporter": "python",
   "pygments_lexer": "ipython3",
   "version": "3.10.0"
  },
  "orig_nbformat": 4
 },
 "nbformat": 4,
 "nbformat_minor": 2
}
