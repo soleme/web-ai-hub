{
  "nbformat": 4,
  "nbformat_minor": 0,
  "metadata": {
    "colab": {
      "name": "tensorflow_2.ipynb",
      "provenance": [],
      "collapsed_sections": [],
      "authorship_tag": "ABX9TyN9dKz/gMdlrSVMwGaJQgSl",
      "include_colab_link": true
    },
    "kernelspec": {
      "name": "python3",
      "display_name": "Python 3"
    },
    "language_info": {
      "name": "python"
    }
  },
  "cells": [
    {
      "cell_type": "markdown",
      "metadata": {
        "id": "view-in-github",
        "colab_type": "text"
      },
      "source": [
        "<a href=\"https://colab.research.google.com/github/soleme/web-ai-hub/blob/main/tensorflow_2.ipynb\" target=\"_parent\"><img src=\"https://colab.research.google.com/assets/colab-badge.svg\" alt=\"Open In Colab\"/></a>"
      ]
    },
    {
      "cell_type": "code",
      "metadata": {
        "colab": {
          "base_uri": "https://localhost:8080/",
          "height": 225
        },
        "id": "bQvJTwFGDcoZ",
        "outputId": "56b8b181-5e8a-4c29-ddbd-0485d816d196"
      },
      "source": [
        "import pandas as pd\n",
        "\n",
        "path = \"https://raw.githubusercontent.com/blackdew/ml-tensorflow/master/data/csv/lemonade.csv\"\n",
        "lemon = pd.read_csv(path)\n",
        "print(lemon.shape)\n",
        "lemon.head()"
      ],
      "execution_count": null,
      "outputs": [
        {
          "output_type": "stream",
          "name": "stdout",
          "text": [
            "(6, 2)\n"
          ]
        },
        {
          "output_type": "execute_result",
          "data": {
            "text/html": [
              "<div>\n",
              "<style scoped>\n",
              "    .dataframe tbody tr th:only-of-type {\n",
              "        vertical-align: middle;\n",
              "    }\n",
              "\n",
              "    .dataframe tbody tr th {\n",
              "        vertical-align: top;\n",
              "    }\n",
              "\n",
              "    .dataframe thead th {\n",
              "        text-align: right;\n",
              "    }\n",
              "</style>\n",
              "<table border=\"1\" class=\"dataframe\">\n",
              "  <thead>\n",
              "    <tr style=\"text-align: right;\">\n",
              "      <th></th>\n",
              "      <th>온도</th>\n",
              "      <th>판매량</th>\n",
              "    </tr>\n",
              "  </thead>\n",
              "  <tbody>\n",
              "    <tr>\n",
              "      <th>0</th>\n",
              "      <td>20</td>\n",
              "      <td>40</td>\n",
              "    </tr>\n",
              "    <tr>\n",
              "      <th>1</th>\n",
              "      <td>21</td>\n",
              "      <td>42</td>\n",
              "    </tr>\n",
              "    <tr>\n",
              "      <th>2</th>\n",
              "      <td>22</td>\n",
              "      <td>44</td>\n",
              "    </tr>\n",
              "    <tr>\n",
              "      <th>3</th>\n",
              "      <td>23</td>\n",
              "      <td>46</td>\n",
              "    </tr>\n",
              "    <tr>\n",
              "      <th>4</th>\n",
              "      <td>24</td>\n",
              "      <td>48</td>\n",
              "    </tr>\n",
              "  </tbody>\n",
              "</table>\n",
              "</div>"
            ],
            "text/plain": [
              "   온도  판매량\n",
              "0  20   40\n",
              "1  21   42\n",
              "2  22   44\n",
              "3  23   46\n",
              "4  24   48"
            ]
          },
          "metadata": {},
          "execution_count": 4
        }
      ]
    },
    {
      "cell_type": "code",
      "metadata": {
        "colab": {
          "base_uri": "https://localhost:8080/"
        },
        "id": "E-eAhNPMN-Pc",
        "outputId": "8e854843-cdc3-4abc-d6c7-ebbf858bdffc"
      },
      "source": [
        "독립 = lemon[['온도']]\n",
        "종속 = lemon[['판매량']]\n",
        "\n",
        "print(독립.head(2))\n",
        "print(종속.head(2))"
      ],
      "execution_count": null,
      "outputs": [
        {
          "output_type": "stream",
          "name": "stdout",
          "text": [
            "   온도\n",
            "0  20\n",
            "1  21\n",
            "   판매량\n",
            "0   40\n",
            "1   42\n"
          ]
        }
      ]
    },
    {
      "cell_type": "code",
      "metadata": {
        "colab": {
          "base_uri": "https://localhost:8080/",
          "height": 225
        },
        "id": "OmPamwFqOAsO",
        "outputId": "28137502-61eb-4159-dcd7-f579708055e7"
      },
      "source": [
        "import pandas as pd\n",
        "\n",
        "path = \"https://raw.githubusercontent.com/blackdew/ml-tensorflow/master/data/csv/boston.csv\"\n",
        "boston = pd.read_csv(path)\n",
        "print(boston.shape)\n",
        "boston.head()"
      ],
      "execution_count": null,
      "outputs": [
        {
          "output_type": "stream",
          "name": "stdout",
          "text": [
            "(506, 14)\n"
          ]
        },
        {
          "output_type": "execute_result",
          "data": {
            "text/html": [
              "<div>\n",
              "<style scoped>\n",
              "    .dataframe tbody tr th:only-of-type {\n",
              "        vertical-align: middle;\n",
              "    }\n",
              "\n",
              "    .dataframe tbody tr th {\n",
              "        vertical-align: top;\n",
              "    }\n",
              "\n",
              "    .dataframe thead th {\n",
              "        text-align: right;\n",
              "    }\n",
              "</style>\n",
              "<table border=\"1\" class=\"dataframe\">\n",
              "  <thead>\n",
              "    <tr style=\"text-align: right;\">\n",
              "      <th></th>\n",
              "      <th>crim</th>\n",
              "      <th>zn</th>\n",
              "      <th>indus</th>\n",
              "      <th>chas</th>\n",
              "      <th>nox</th>\n",
              "      <th>rm</th>\n",
              "      <th>age</th>\n",
              "      <th>dis</th>\n",
              "      <th>rad</th>\n",
              "      <th>tax</th>\n",
              "      <th>ptratio</th>\n",
              "      <th>b</th>\n",
              "      <th>lstat</th>\n",
              "      <th>medv</th>\n",
              "    </tr>\n",
              "  </thead>\n",
              "  <tbody>\n",
              "    <tr>\n",
              "      <th>0</th>\n",
              "      <td>0.00632</td>\n",
              "      <td>18.0</td>\n",
              "      <td>2.31</td>\n",
              "      <td>0</td>\n",
              "      <td>0.538</td>\n",
              "      <td>6.575</td>\n",
              "      <td>65.2</td>\n",
              "      <td>4.0900</td>\n",
              "      <td>1</td>\n",
              "      <td>296</td>\n",
              "      <td>15.3</td>\n",
              "      <td>396.90</td>\n",
              "      <td>4.98</td>\n",
              "      <td>24.0</td>\n",
              "    </tr>\n",
              "    <tr>\n",
              "      <th>1</th>\n",
              "      <td>0.02731</td>\n",
              "      <td>0.0</td>\n",
              "      <td>7.07</td>\n",
              "      <td>0</td>\n",
              "      <td>0.469</td>\n",
              "      <td>6.421</td>\n",
              "      <td>78.9</td>\n",
              "      <td>4.9671</td>\n",
              "      <td>2</td>\n",
              "      <td>242</td>\n",
              "      <td>17.8</td>\n",
              "      <td>396.90</td>\n",
              "      <td>9.14</td>\n",
              "      <td>21.6</td>\n",
              "    </tr>\n",
              "    <tr>\n",
              "      <th>2</th>\n",
              "      <td>0.02729</td>\n",
              "      <td>0.0</td>\n",
              "      <td>7.07</td>\n",
              "      <td>0</td>\n",
              "      <td>0.469</td>\n",
              "      <td>7.185</td>\n",
              "      <td>61.1</td>\n",
              "      <td>4.9671</td>\n",
              "      <td>2</td>\n",
              "      <td>242</td>\n",
              "      <td>17.8</td>\n",
              "      <td>392.83</td>\n",
              "      <td>4.03</td>\n",
              "      <td>34.7</td>\n",
              "    </tr>\n",
              "    <tr>\n",
              "      <th>3</th>\n",
              "      <td>0.03237</td>\n",
              "      <td>0.0</td>\n",
              "      <td>2.18</td>\n",
              "      <td>0</td>\n",
              "      <td>0.458</td>\n",
              "      <td>6.998</td>\n",
              "      <td>45.8</td>\n",
              "      <td>6.0622</td>\n",
              "      <td>3</td>\n",
              "      <td>222</td>\n",
              "      <td>18.7</td>\n",
              "      <td>394.63</td>\n",
              "      <td>2.94</td>\n",
              "      <td>33.4</td>\n",
              "    </tr>\n",
              "    <tr>\n",
              "      <th>4</th>\n",
              "      <td>0.06905</td>\n",
              "      <td>0.0</td>\n",
              "      <td>2.18</td>\n",
              "      <td>0</td>\n",
              "      <td>0.458</td>\n",
              "      <td>7.147</td>\n",
              "      <td>54.2</td>\n",
              "      <td>6.0622</td>\n",
              "      <td>3</td>\n",
              "      <td>222</td>\n",
              "      <td>18.7</td>\n",
              "      <td>396.90</td>\n",
              "      <td>5.33</td>\n",
              "      <td>36.2</td>\n",
              "    </tr>\n",
              "  </tbody>\n",
              "</table>\n",
              "</div>"
            ],
            "text/plain": [
              "      crim    zn  indus  chas    nox  ...  tax  ptratio       b  lstat  medv\n",
              "0  0.00632  18.0   2.31     0  0.538  ...  296     15.3  396.90   4.98  24.0\n",
              "1  0.02731   0.0   7.07     0  0.469  ...  242     17.8  396.90   9.14  21.6\n",
              "2  0.02729   0.0   7.07     0  0.469  ...  242     17.8  392.83   4.03  34.7\n",
              "3  0.03237   0.0   2.18     0  0.458  ...  222     18.7  394.63   2.94  33.4\n",
              "4  0.06905   0.0   2.18     0  0.458  ...  222     18.7  396.90   5.33  36.2\n",
              "\n",
              "[5 rows x 14 columns]"
            ]
          },
          "metadata": {},
          "execution_count": 6
        }
      ]
    },
    {
      "cell_type": "code",
      "metadata": {
        "colab": {
          "base_uri": "https://localhost:8080/"
        },
        "id": "imTc1KRdOC4g",
        "outputId": "262088a0-7c96-4e56-9fe1-eceab3e8c363"
      },
      "source": [
        "print(boston.columns)\n",
        "독립 = boston[['crim', 'zn', 'indus', 'chas', 'nox', 'rm', 'age', 'dis', 'rad', 'tax',\n",
        "       'ptratio', 'b', 'lstat']]\n",
        "종속 = boston[['medv']]\n",
        "print(독립.shape, 종속.shape)\n",
        "print(독립.head(2))\n",
        "print(종속.head(2))"
      ],
      "execution_count": null,
      "outputs": [
        {
          "output_type": "stream",
          "name": "stdout",
          "text": [
            "Index(['crim', 'zn', 'indus', 'chas', 'nox', 'rm', 'age', 'dis', 'rad', 'tax',\n",
            "       'ptratio', 'b', 'lstat', 'medv'],\n",
            "      dtype='object')\n",
            "(506, 13) (506, 1)\n",
            "      crim    zn  indus  chas    nox  ...  rad  tax  ptratio      b  lstat\n",
            "0  0.00632  18.0   2.31     0  0.538  ...    1  296     15.3  396.9   4.98\n",
            "1  0.02731   0.0   7.07     0  0.469  ...    2  242     17.8  396.9   9.14\n",
            "\n",
            "[2 rows x 13 columns]\n",
            "   medv\n",
            "0  24.0\n",
            "1  21.6\n"
          ]
        }
      ]
    },
    {
      "cell_type": "code",
      "metadata": {
        "colab": {
          "base_uri": "https://localhost:8080/",
          "height": 225
        },
        "id": "2GzsI0VzOFeF",
        "outputId": "690f0d66-7a8f-4909-eecc-095f7d24ab65"
      },
      "source": [
        "import pandas as pd\n",
        "\n",
        "path = \"https://raw.githubusercontent.com/blackdew/ml-tensorflow/master/data/csv/iris.csv\"\n",
        "iris = pd.read_csv(path)\n",
        "print(iris.shape)\n",
        "iris.head()"
      ],
      "execution_count": null,
      "outputs": [
        {
          "output_type": "stream",
          "name": "stdout",
          "text": [
            "(150, 5)\n"
          ]
        },
        {
          "output_type": "execute_result",
          "data": {
            "text/html": [
              "<div>\n",
              "<style scoped>\n",
              "    .dataframe tbody tr th:only-of-type {\n",
              "        vertical-align: middle;\n",
              "    }\n",
              "\n",
              "    .dataframe tbody tr th {\n",
              "        vertical-align: top;\n",
              "    }\n",
              "\n",
              "    .dataframe thead th {\n",
              "        text-align: right;\n",
              "    }\n",
              "</style>\n",
              "<table border=\"1\" class=\"dataframe\">\n",
              "  <thead>\n",
              "    <tr style=\"text-align: right;\">\n",
              "      <th></th>\n",
              "      <th>꽃잎길이</th>\n",
              "      <th>꽃잎폭</th>\n",
              "      <th>꽃받침길이</th>\n",
              "      <th>꽃받침폭</th>\n",
              "      <th>품종</th>\n",
              "    </tr>\n",
              "  </thead>\n",
              "  <tbody>\n",
              "    <tr>\n",
              "      <th>0</th>\n",
              "      <td>5.1</td>\n",
              "      <td>3.5</td>\n",
              "      <td>1.4</td>\n",
              "      <td>0.2</td>\n",
              "      <td>setosa</td>\n",
              "    </tr>\n",
              "    <tr>\n",
              "      <th>1</th>\n",
              "      <td>4.9</td>\n",
              "      <td>3.0</td>\n",
              "      <td>1.4</td>\n",
              "      <td>0.2</td>\n",
              "      <td>setosa</td>\n",
              "    </tr>\n",
              "    <tr>\n",
              "      <th>2</th>\n",
              "      <td>4.7</td>\n",
              "      <td>3.2</td>\n",
              "      <td>1.3</td>\n",
              "      <td>0.2</td>\n",
              "      <td>setosa</td>\n",
              "    </tr>\n",
              "    <tr>\n",
              "      <th>3</th>\n",
              "      <td>4.6</td>\n",
              "      <td>3.1</td>\n",
              "      <td>1.5</td>\n",
              "      <td>0.2</td>\n",
              "      <td>setosa</td>\n",
              "    </tr>\n",
              "    <tr>\n",
              "      <th>4</th>\n",
              "      <td>5.0</td>\n",
              "      <td>3.6</td>\n",
              "      <td>1.4</td>\n",
              "      <td>0.2</td>\n",
              "      <td>setosa</td>\n",
              "    </tr>\n",
              "  </tbody>\n",
              "</table>\n",
              "</div>"
            ],
            "text/plain": [
              "   꽃잎길이  꽃잎폭  꽃받침길이  꽃받침폭      품종\n",
              "0   5.1  3.5    1.4   0.2  setosa\n",
              "1   4.9  3.0    1.4   0.2  setosa\n",
              "2   4.7  3.2    1.3   0.2  setosa\n",
              "3   4.6  3.1    1.5   0.2  setosa\n",
              "4   5.0  3.6    1.4   0.2  setosa"
            ]
          },
          "metadata": {},
          "execution_count": 8
        }
      ]
    },
    {
      "cell_type": "markdown",
      "metadata": {
        "id": "ZGFF-JvERWWR"
      },
      "source": [
        "## 첫번째 딥러닝 - 레모네이드 판매 예측\n",
        "###\"https://raw.githubusercontent.com/blackdew/ml-tensorflow/master/data/csv/lemonade.csv\""
      ]
    },
    {
      "cell_type": "code",
      "metadata": {
        "colab": {
          "base_uri": "https://localhost:8080/"
        },
        "id": "g1vrRWnDRKhW",
        "outputId": "66315d3a-1409-468a-953b-a4839cec70e5"
      },
      "source": [
        "import tensorflow as tf\n",
        "import pandas as pd\n",
        "# 데이터를 준비합니다.\n",
        "\n",
        "path = \"https://raw.githubusercontent.com/blackdew/ml-tensorflow/master/data/csv/lemonade.csv\"\n",
        "lemon = pd.read_csv(path)\n",
        "\n",
        "x_lemon = lemon[['온도']]\n",
        "y_lemon = lemon[['판매량']]\n",
        "print(x_lemon.shape, y_lemon.shape)"
      ],
      "execution_count": null,
      "outputs": [
        {
          "output_type": "stream",
          "name": "stdout",
          "text": [
            "(6, 1) (6, 1)\n"
          ]
        }
      ]
    },
    {
      "cell_type": "code",
      "metadata": {
        "id": "d5YK86kPRTxA"
      },
      "source": [
        "# 모델을 생성합니다.\n",
        "X = tf.keras.layers.Input(shape=[1])\n",
        "Y = tf.keras.layers.Dense(1)(X)\n",
        "model = tf.keras.models.Model(X,Y)\n",
        "model.compile(loss=\"mse\")"
      ],
      "execution_count": null,
      "outputs": []
    },
    {
      "cell_type": "code",
      "metadata": {
        "colab": {
          "base_uri": "https://localhost:8080/"
        },
        "id": "bVa7mbYnUbp4",
        "outputId": "8275a283-5198-4fec-8a1a-0e408e58132b"
      },
      "source": [
        "model.fit(x_lemon, y_lemon, epochs=1000, verbose=0)\n",
        "model.fit(x_lemon, y_lemon, epochs=10)"
      ],
      "execution_count": null,
      "outputs": [
        {
          "output_type": "stream",
          "name": "stdout",
          "text": [
            "Epoch 1/10\n",
            "1/1 [==============================] - 0s 5ms/step - loss: 6.4308e-04\n",
            "Epoch 2/10\n",
            "1/1 [==============================] - 0s 5ms/step - loss: 6.4256e-04\n",
            "Epoch 3/10\n",
            "1/1 [==============================] - 0s 5ms/step - loss: 6.4229e-04\n",
            "Epoch 4/10\n",
            "1/1 [==============================] - 0s 7ms/step - loss: 6.4197e-04\n",
            "Epoch 5/10\n",
            "1/1 [==============================] - 0s 6ms/step - loss: 6.4160e-04\n",
            "Epoch 6/10\n",
            "1/1 [==============================] - 0s 6ms/step - loss: 6.4118e-04\n",
            "Epoch 7/10\n",
            "1/1 [==============================] - 0s 6ms/step - loss: 6.4062e-04\n",
            "Epoch 8/10\n",
            "1/1 [==============================] - 0s 12ms/step - loss: 6.4008e-04\n",
            "Epoch 9/10\n",
            "1/1 [==============================] - 0s 7ms/step - loss: 6.3955e-04\n",
            "Epoch 10/10\n",
            "1/1 [==============================] - 0s 6ms/step - loss: 6.3899e-04\n"
          ]
        },
        {
          "output_type": "execute_result",
          "data": {
            "text/plain": [
              "<keras.callbacks.History at 0x7f18db0ab090>"
            ]
          },
          "metadata": {},
          "execution_count": 31
        }
      ]
    },
    {
      "cell_type": "code",
      "metadata": {
        "colab": {
          "base_uri": "https://localhost:8080/"
        },
        "id": "LSioZLKsRfAb",
        "outputId": "06901c8e-f8f1-4955-b1ce-cd2515a5b23f"
      },
      "source": [
        "# 모델을 이용합니다.\n",
        "model.predict(x_lemon)"
      ],
      "execution_count": null,
      "outputs": [
        {
          "output_type": "execute_result",
          "data": {
            "text/plain": [
              "array([[40.023785],\n",
              "       [42.010227],\n",
              "       [43.996666],\n",
              "       [45.983105],\n",
              "       [47.969547],\n",
              "       [49.95599 ]], dtype=float32)"
            ]
          },
          "metadata": {},
          "execution_count": 32
        }
      ]
    },
    {
      "cell_type": "code",
      "metadata": {
        "colab": {
          "base_uri": "https://localhost:8080/"
        },
        "id": "2iWHf6dbVMZ9",
        "outputId": "e1527b94-e5f6-4c71-e1e6-e04eaad960d7"
      },
      "source": [
        "model.get_weights()"
      ],
      "execution_count": null,
      "outputs": [
        {
          "output_type": "execute_result",
          "data": {
            "text/plain": [
              "[array([[1.9864407]], dtype=float32), array([0.29497144], dtype=float32)]"
            ]
          },
          "metadata": {},
          "execution_count": 33
        }
      ]
    },
    {
      "cell_type": "code",
      "metadata": {
        "colab": {
          "base_uri": "https://localhost:8080/"
        },
        "id": "s-Q0yeFHVVmf",
        "outputId": "14dc0747-5c35-4b4e-e8ca-d691577e0562"
      },
      "source": [
        "0.22441791 * 20 + 0.03882809"
      ],
      "execution_count": null,
      "outputs": [
        {
          "output_type": "execute_result",
          "data": {
            "text/plain": [
              "4.52718629"
            ]
          },
          "metadata": {},
          "execution_count": 25
        }
      ]
    },
    {
      "cell_type": "markdown",
      "metadata": {
        "id": "qIGsS4Hbe5PN"
      },
      "source": [
        "## 두번째 딥러닝 - 보스턴 집값 예측\n",
        "-\"https://raw.githubusercontent.com/blackdew/ml-tensorflow/master/data/csv/boston.csv\""
      ]
    },
    {
      "cell_type": "code",
      "metadata": {
        "colab": {
          "base_uri": "https://localhost:8080/"
        },
        "id": "U6-MS68ufCEM",
        "outputId": "1705f2ce-ea1f-48b5-ca5c-3770b4572679"
      },
      "source": [
        "import pandas as pd\n",
        "import tensorflow as tf\n",
        "\n",
        "# 데이터를 준비한다\n",
        "path = \"https://raw.githubusercontent.com/blackdew/ml-tensorflow/master/data/csv/boston.csv\"\n",
        "boston = pd.read_csv(path)\n",
        "print(boston.columns)\n",
        "\n",
        "x_boston = boston[['crim', 'zn', 'indus', 'chas', 'nox', 'rm', 'age', 'dis', 'rad', 'tax',\n",
        "       'ptratio', 'b', 'lstat']]\n",
        "y_boston = boston[['medv']]       \n",
        "print(x_boston.shape, y_boston.shape)"
      ],
      "execution_count": null,
      "outputs": [
        {
          "output_type": "stream",
          "name": "stdout",
          "text": [
            "Index(['crim', 'zn', 'indus', 'chas', 'nox', 'rm', 'age', 'dis', 'rad', 'tax',\n",
            "       'ptratio', 'b', 'lstat', 'medv'],\n",
            "      dtype='object')\n",
            "(506, 13) (506, 1)\n"
          ]
        }
      ]
    },
    {
      "cell_type": "code",
      "metadata": {
        "colab": {
          "base_uri": "https://localhost:8080/",
          "height": 440
        },
        "id": "6cTe7LjwfGF6",
        "outputId": "21fc0df4-1f49-4412-a09c-59ed1fb661d3"
      },
      "source": [
        "# 모델을 준비한다\n",
        "X = tf.keras.layers.Input(shape=[13])\n",
        "Y = tf.keras.layers.Dense(1)(X)\n",
        "model = tf.keras.models.Model(X, Y)\n",
        "model.compile(loss=\"mse\")\n",
        "\n",
        "model.summary()\n",
        "tf.keras.utils.plot_model(model, show_shapes=True)"
      ],
      "execution_count": null,
      "outputs": [
        {
          "output_type": "stream",
          "name": "stdout",
          "text": [
            "Model: \"model_5\"\n",
            "_________________________________________________________________\n",
            " Layer (type)                Output Shape              Param #   \n",
            "=================================================================\n",
            " input_6 (InputLayer)        [(None, 13)]              0         \n",
            "                                                                 \n",
            " dense_5 (Dense)             (None, 1)                 14        \n",
            "                                                                 \n",
            "=================================================================\n",
            "Total params: 14\n",
            "Trainable params: 14\n",
            "Non-trainable params: 0\n",
            "_________________________________________________________________\n"
          ]
        },
        {
          "output_type": "execute_result",
          "data": {
            "image/png": "[encoded data removed]",
            "text/plain": [
              "<IPython.core.display.Image object>"
            ]
          },
          "metadata": {},
          "execution_count": 41
        }
      ]
    },
    {
      "cell_type": "code",
      "metadata": {
        "colab": {
          "base_uri": "https://localhost:8080/"
        },
        "id": "RfymzPsmfEN7",
        "outputId": "31712ad0-72f3-422d-a795-8d3a481197bd"
      },
      "source": [
        "# 모델을 데이터로 학습시킨다\n",
        "model.fit(x_boston, y_boston, epochs=1000, verbose=0)\n",
        "model.fit(x_boston, y_boston, epochs=10)"
      ],
      "execution_count": null,
      "outputs": [
        {
          "output_type": "stream",
          "name": "stdout",
          "text": [
            "Epoch 1/10\n",
            "16/16 [==============================] - 0s 2ms/step - loss: 24.9535\n",
            "Epoch 2/10\n",
            "16/16 [==============================] - 0s 2ms/step - loss: 24.7684\n",
            "Epoch 3/10\n",
            "16/16 [==============================] - 0s 2ms/step - loss: 24.7085\n",
            "Epoch 4/10\n",
            "16/16 [==============================] - 0s 1ms/step - loss: 24.8790\n",
            "Epoch 5/10\n",
            "16/16 [==============================] - 0s 2ms/step - loss: 24.5154\n",
            "Epoch 6/10\n",
            "16/16 [==============================] - 0s 1ms/step - loss: 24.6712\n",
            "Epoch 7/10\n",
            "16/16 [==============================] - 0s 1ms/step - loss: 24.5717\n",
            "Epoch 8/10\n",
            "16/16 [==============================] - 0s 1ms/step - loss: 24.7677\n",
            "Epoch 9/10\n",
            "16/16 [==============================] - 0s 2ms/step - loss: 24.6122\n",
            "Epoch 10/10\n",
            "16/16 [==============================] - 0s 2ms/step - loss: 24.9311\n"
          ]
        },
        {
          "output_type": "execute_result",
          "data": {
            "text/plain": [
              "<keras.callbacks.History at 0x7f195ce0cc90>"
            ]
          },
          "metadata": {},
          "execution_count": 44
        }
      ]
    },
    {
      "cell_type": "code",
      "metadata": {
        "colab": {
          "base_uri": "https://localhost:8080/"
        },
        "id": "CsyD4fivfJzN",
        "outputId": "01b4b1fc-53ce-4e4d-fb27-483155c4204e"
      },
      "source": [
        "# 모델을 이용한다\n",
        "model.predict(x_boston[:5])"
      ],
      "execution_count": null,
      "outputs": [
        {
          "output_type": "execute_result",
          "data": {
            "text/plain": [
              "array([[30.034752],\n",
              "       [24.866808],\n",
              "       [31.257698],\n",
              "       [30.170763],\n",
              "       [29.726696]], dtype=float32)"
            ]
          },
          "metadata": {},
          "execution_count": 45
        }
      ]
    },
    {
      "cell_type": "code",
      "metadata": {
        "colab": {
          "base_uri": "https://localhost:8080/"
        },
        "id": "btnyntn5jOmV",
        "outputId": "03c81d36-d60e-4fb2-ee20-502f41ff1c51"
      },
      "source": [
        "model.get_weights()"
      ],
      "execution_count": null,
      "outputs": [
        {
          "output_type": "execute_result",
          "data": {
            "text/plain": [
              "[array([[-0.08748121],\n",
              "        [ 0.0540995 ],\n",
              "        [-0.04336084],\n",
              "        [ 2.9176128 ],\n",
              "        [ 2.0115478 ],\n",
              "        [ 5.023054  ],\n",
              "        [-0.00601643],\n",
              "        [-0.9817363 ],\n",
              "        [ 0.17508905],\n",
              "        [-0.00998509],\n",
              "        [-0.3218031 ],\n",
              "        [ 0.01461662],\n",
              "        [-0.49034646]], dtype=float32), array([3.8051312], dtype=float32)]"
            ]
          },
          "metadata": {},
          "execution_count": 47
        }
      ]
    },
    {
      "cell_type": "markdown",
      "metadata": {
        "id": "OalcjxJ0NYSA"
      },
      "source": [
        "## 세번째 딥러닝. 아이리스 품종 분류\n",
        "-\"https://raw.githubusercontent.com/blackdew/ml-tensorflow/master/data/csv/iris.csv\""
      ]
    },
    {
      "cell_type": "code",
      "metadata": {
        "colab": {
          "base_uri": "https://localhost:8080/"
        },
        "id": "LOzEdwOZNgfu",
        "outputId": "53993938-78aa-462c-82db-57f1117058c3"
      },
      "source": [
        "# 데이터를 준비합니다. \n",
        "import tensorflow as tf\n",
        "import pandas as pd\n",
        "\n",
        "path = \"https://raw.githubusercontent.com/blackdew/ml-tensorflow/master/data/csv/iris.csv\"\n",
        "iris = pd.read_csv(path)\n",
        "iris = pd.get_dummies(iris)\n",
        "print(iris.columns)\n",
        "\n",
        "x_iris = iris[['꽃잎길이', '꽃잎폭', '꽃받침길이', '꽃받침폭']]\n",
        "y_iris = iris[['품종_setosa', '품종_versicolor', '품종_virginica']]\n",
        "\n",
        "print(x_iris.shape, y_iris.shape)\n",
        "print(x_iris.head(1))\n",
        "print(y_iris.head(1))"
      ],
      "execution_count": 2,
      "outputs": [
        {
          "output_type": "stream",
          "name": "stdout",
          "text": [
            "Index(['꽃잎길이', '꽃잎폭', '꽃받침길이', '꽃받침폭', '품종_setosa', '품종_versicolor',\n",
            "       '품종_virginica'],\n",
            "      dtype='object')\n",
            "(150, 4) (150, 3)\n",
            "   꽃잎길이  꽃잎폭  꽃받침길이  꽃받침폭\n",
            "0   5.1  3.5    1.4   0.2\n",
            "   품종_setosa  품종_versicolor  품종_virginica\n",
            "0          1              0             0\n"
          ]
        }
      ]
    },
    {
      "cell_type": "code",
      "metadata": {
        "id": "Eprlx_3ZT3Mt"
      },
      "source": [
        "# 모델을 준비합니다. \n",
        "X = tf.keras.layers.Input(shape=[4])\n",
        "Y = tf.keras.layers.Dense(3, activation=\"softmax\")(X)\n",
        "model = tf.keras.models.Model(X, Y)\n",
        "model.compile(loss=\"categorical_crossentropy\", metrics=\"accuracy\")"
      ],
      "execution_count": 3,
      "outputs": []
    },
    {
      "cell_type": "code",
      "metadata": {
        "colab": {
          "base_uri": "https://localhost:8080/"
        },
        "id": "oC2UZIDgT4lK",
        "outputId": "9c56ea0d-f063-4bc9-d0be-f573d777e841"
      },
      "source": [
        "# 모델에 데이터를 학습시킵니다. \n",
        "model.fit(x_iris, y_iris, epochs=1000, verbose=0)\n",
        "model.fit(x_iris, y_iris, epochs=10)"
      ],
      "execution_count": 4,
      "outputs": [
        {
          "output_type": "stream",
          "name": "stdout",
          "text": [
            "Epoch 1/10\n",
            "5/5 [==============================] - 0s 3ms/step - loss: 0.1499 - accuracy: 0.9800\n",
            "Epoch 2/10\n",
            "5/5 [==============================] - 0s 3ms/step - loss: 0.1498 - accuracy: 0.9800\n",
            "Epoch 3/10\n",
            "5/5 [==============================] - 0s 3ms/step - loss: 0.1500 - accuracy: 0.9800\n",
            "Epoch 4/10\n",
            "5/5 [==============================] - 0s 4ms/step - loss: 0.1497 - accuracy: 0.9800\n",
            "Epoch 5/10\n",
            "5/5 [==============================] - 0s 3ms/step - loss: 0.1495 - accuracy: 0.9800\n",
            "Epoch 6/10\n",
            "5/5 [==============================] - 0s 2ms/step - loss: 0.1491 - accuracy: 0.9800\n",
            "Epoch 7/10\n",
            "5/5 [==============================] - 0s 2ms/step - loss: 0.1495 - accuracy: 0.9800\n",
            "Epoch 8/10\n",
            "5/5 [==============================] - 0s 2ms/step - loss: 0.1493 - accuracy: 0.9800\n",
            "Epoch 9/10\n",
            "5/5 [==============================] - 0s 3ms/step - loss: 0.1489 - accuracy: 0.9800\n",
            "Epoch 10/10\n",
            "5/5 [==============================] - 0s 3ms/step - loss: 0.1491 - accuracy: 0.9800\n"
          ]
        },
        {
          "output_type": "execute_result",
          "data": {
            "text/plain": [
              "<keras.callbacks.History at 0x7f48190c6b90>"
            ]
          },
          "metadata": {},
          "execution_count": 4
        }
      ]
    },
    {
      "cell_type": "code",
      "metadata": {
        "id": "B7EzTQztT7Vc"
      },
      "source": [
        "# 모델을 이용합니다. \n",
        "sample = x_iris.sample(5)\n",
        "pred = model.predict(sample)"
      ],
      "execution_count": 5,
      "outputs": []
    },
    {
      "cell_type": "code",
      "metadata": {
        "colab": {
          "base_uri": "https://localhost:8080/",
          "height": 206
        },
        "id": "uXe6OYr4T9p0",
        "outputId": "c987edf0-6249-4976-ff03-be9aa8747bba"
      },
      "source": [
        "sample"
      ],
      "execution_count": 6,
      "outputs": [
        {
          "output_type": "execute_result",
          "data": {
            "text/html": [
              "<div>\n",
              "<style scoped>\n",
              "    .dataframe tbody tr th:only-of-type {\n",
              "        vertical-align: middle;\n",
              "    }\n",
              "\n",
              "    .dataframe tbody tr th {\n",
              "        vertical-align: top;\n",
              "    }\n",
              "\n",
              "    .dataframe thead th {\n",
              "        text-align: right;\n",
              "    }\n",
              "</style>\n",
              "<table border=\"1\" class=\"dataframe\">\n",
              "  <thead>\n",
              "    <tr style=\"text-align: right;\">\n",
              "      <th></th>\n",
              "      <th>꽃잎길이</th>\n",
              "      <th>꽃잎폭</th>\n",
              "      <th>꽃받침길이</th>\n",
              "      <th>꽃받침폭</th>\n",
              "    </tr>\n",
              "  </thead>\n",
              "  <tbody>\n",
              "    <tr>\n",
              "      <th>56</th>\n",
              "      <td>6.3</td>\n",
              "      <td>3.3</td>\n",
              "      <td>4.7</td>\n",
              "      <td>1.6</td>\n",
              "    </tr>\n",
              "    <tr>\n",
              "      <th>81</th>\n",
              "      <td>5.5</td>\n",
              "      <td>2.4</td>\n",
              "      <td>3.7</td>\n",
              "      <td>1.0</td>\n",
              "    </tr>\n",
              "    <tr>\n",
              "      <th>131</th>\n",
              "      <td>7.9</td>\n",
              "      <td>3.8</td>\n",
              "      <td>6.4</td>\n",
              "      <td>2.0</td>\n",
              "    </tr>\n",
              "    <tr>\n",
              "      <th>116</th>\n",
              "      <td>6.5</td>\n",
              "      <td>3.0</td>\n",
              "      <td>5.5</td>\n",
              "      <td>1.8</td>\n",
              "    </tr>\n",
              "    <tr>\n",
              "      <th>136</th>\n",
              "      <td>6.3</td>\n",
              "      <td>3.4</td>\n",
              "      <td>5.6</td>\n",
              "      <td>2.4</td>\n",
              "    </tr>\n",
              "  </tbody>\n",
              "</table>\n",
              "</div>"
            ],
            "text/plain": [
              "     꽃잎길이  꽃잎폭  꽃받침길이  꽃받침폭\n",
              "56    6.3  3.3    4.7   1.6\n",
              "81    5.5  2.4    3.7   1.0\n",
              "131   7.9  3.8    6.4   2.0\n",
              "116   6.5  3.0    5.5   1.8\n",
              "136   6.3  3.4    5.6   2.4"
            ]
          },
          "metadata": {},
          "execution_count": 6
        }
      ]
    },
    {
      "cell_type": "code",
      "metadata": {
        "colab": {
          "base_uri": "https://localhost:8080/"
        },
        "id": "oq5Afxd4T_Sm",
        "outputId": "7f068156-a126-4370-bd86-e709a3186ca5"
      },
      "source": [
        "pred"
      ],
      "execution_count": 7,
      "outputs": [
        {
          "output_type": "execute_result",
          "data": {
            "text/plain": [
              "array([[2.1105383e-04, 7.8550559e-01, 2.1428339e-01],\n",
              "       [3.8575619e-03, 9.2986625e-01, 6.6276252e-02],\n",
              "       [8.2220708e-07, 3.8503888e-01, 6.1496025e-01],\n",
              "       [1.2981224e-06, 2.2849970e-01, 7.7149898e-01],\n",
              "       [7.2377539e-08, 6.0801681e-02, 9.3919826e-01]], dtype=float32)"
            ]
          },
          "metadata": {},
          "execution_count": 7
        }
      ]
    },
    {
      "cell_type": "code",
      "metadata": {
        "colab": {
          "base_uri": "https://localhost:8080/",
          "height": 206
        },
        "id": "3mKApmQ6UA0I",
        "outputId": "3d85c1b6-14ab-4dcf-8def-542e520169ce"
      },
      "source": [
        "y_iris.loc[[68, 95, 63, 66, 25], :]"
      ],
      "execution_count": 8,
      "outputs": [
        {
          "output_type": "execute_result",
          "data": {
            "text/html": [
              "<div>\n",
              "<style scoped>\n",
              "    .dataframe tbody tr th:only-of-type {\n",
              "        vertical-align: middle;\n",
              "    }\n",
              "\n",
              "    .dataframe tbody tr th {\n",
              "        vertical-align: top;\n",
              "    }\n",
              "\n",
              "    .dataframe thead th {\n",
              "        text-align: right;\n",
              "    }\n",
              "</style>\n",
              "<table border=\"1\" class=\"dataframe\">\n",
              "  <thead>\n",
              "    <tr style=\"text-align: right;\">\n",
              "      <th></th>\n",
              "      <th>품종_setosa</th>\n",
              "      <th>품종_versicolor</th>\n",
              "      <th>품종_virginica</th>\n",
              "    </tr>\n",
              "  </thead>\n",
              "  <tbody>\n",
              "    <tr>\n",
              "      <th>68</th>\n",
              "      <td>0</td>\n",
              "      <td>1</td>\n",
              "      <td>0</td>\n",
              "    </tr>\n",
              "    <tr>\n",
              "      <th>95</th>\n",
              "      <td>0</td>\n",
              "      <td>1</td>\n",
              "      <td>0</td>\n",
              "    </tr>\n",
              "    <tr>\n",
              "      <th>63</th>\n",
              "      <td>0</td>\n",
              "      <td>1</td>\n",
              "      <td>0</td>\n",
              "    </tr>\n",
              "    <tr>\n",
              "      <th>66</th>\n",
              "      <td>0</td>\n",
              "      <td>1</td>\n",
              "      <td>0</td>\n",
              "    </tr>\n",
              "    <tr>\n",
              "      <th>25</th>\n",
              "      <td>1</td>\n",
              "      <td>0</td>\n",
              "      <td>0</td>\n",
              "    </tr>\n",
              "  </tbody>\n",
              "</table>\n",
              "</div>"
            ],
            "text/plain": [
              "    품종_setosa  품종_versicolor  품종_virginica\n",
              "68          0              1             0\n",
              "95          0              1             0\n",
              "63          0              1             0\n",
              "66          0              1             0\n",
              "25          1              0             0"
            ]
          },
          "metadata": {},
          "execution_count": 8
        }
      ]
    },
    {
      "cell_type": "code",
      "metadata": {
        "colab": {
          "base_uri": "https://localhost:8080/"
        },
        "id": "Yse0wN-IUCGJ",
        "outputId": "b7730ac9-93e5-43ad-97a3-5c6e1ff95c60"
      },
      "source": [
        "model.get_weights()"
      ],
      "execution_count": 9,
      "outputs": [
        {
          "output_type": "execute_result",
          "data": {
            "text/plain": [
              "[array([[ 1.0659637 ,  0.6163013 , -1.0201895 ],\n",
              "        [ 2.8780696 ,  0.46651605, -0.93387854],\n",
              "        [-3.8588495 , -0.71491396,  1.683154  ],\n",
              "        [-4.447116  , -0.9085211 ,  1.6142476 ]], dtype=float32),\n",
              " array([ 2.0361872 ,  0.61090857, -1.064274  ], dtype=float32)]"
            ]
          },
          "metadata": {},
          "execution_count": 9
        }
      ]
    },
    {
      "cell_type": "markdown",
      "metadata": {
        "id": "jGC7L2Vdf0ij"
      },
      "source": [
        "### 네번째 딥러닝. 히든레이어\n",
        "-https://raw.githubusercontent.com/blackdew/ml-tensorflow/master/data/csv/lemonade.csv\n",
        "-https://raw.githubusercontent.com/blackdew/ml-tensorflow/master/data/csv/boston.csv\n",
        "-https://raw.githubusercontent.com/blackdew/ml-tensorflow/master/data/csv/iris.csv"
      ]
    },
    {
      "cell_type": "code",
      "metadata": {
        "colab": {
          "base_uri": "https://localhost:8080/"
        },
        "id": "eEGxJLbigNN0",
        "outputId": "e36126e3-1e0b-4d92-e59a-ca70bbd81228"
      },
      "source": [
        "import pandas as pd\n",
        "import tensorflow as tf\n",
        "\n",
        "boston = pd.read_csv(\"https://raw.githubusercontent.com/blackdew/ml-tensorflow/master/data/csv/boston.csv\")\n",
        "print(boston.columns)\n",
        "x_boston = boston[['crim', 'zn', 'indus', 'chas', 'nox', 'rm', 'age', 'dis', 'rad', 'tax',\n",
        "       'ptratio', 'b', 'lstat']]\n",
        "y_boston = boston[['medv']]\n",
        "print(x_boston.shape, y_boston.shape)"
      ],
      "execution_count": 10,
      "outputs": [
        {
          "output_type": "stream",
          "name": "stdout",
          "text": [
            "Index(['crim', 'zn', 'indus', 'chas', 'nox', 'rm', 'age', 'dis', 'rad', 'tax',\n",
            "       'ptratio', 'b', 'lstat', 'medv'],\n",
            "      dtype='object')\n",
            "(506, 13) (506, 1)\n"
          ]
        }
      ]
    },
    {
      "cell_type": "code",
      "metadata": {
        "colab": {
          "base_uri": "https://localhost:8080/"
        },
        "id": "TMA5H2MohHIR",
        "outputId": "480b370b-2ee9-4c4d-91f0-83847aa919b9"
      },
      "source": [
        "# 모델을 준비합니다. \n",
        "X = tf.keras.layers.Input(shape=[13])\n",
        "H = tf.keras.layers.Dense(5, activation='swish')(X)\n",
        "H = tf.keras.layers.Dense(5, activation='swish')(H)\n",
        "H = tf.keras.layers.Dense(5, activation='swish')(H)\n",
        "Y = tf.keras.layers.Dense(1)(H)\n",
        "model = tf.keras.models.Model(X, Y)\n",
        "model.compile(loss='mse')\n",
        "\n",
        "model.summary()"
      ],
      "execution_count": 11,
      "outputs": [
        {
          "output_type": "stream",
          "name": "stdout",
          "text": [
            "Model: \"model_1\"\n",
            "_________________________________________________________________\n",
            " Layer (type)                Output Shape              Param #   \n",
            "=================================================================\n",
            " input_2 (InputLayer)        [(None, 13)]              0         \n",
            "                                                                 \n",
            " dense_1 (Dense)             (None, 5)                 70        \n",
            "                                                                 \n",
            " dense_2 (Dense)             (None, 5)                 30        \n",
            "                                                                 \n",
            " dense_3 (Dense)             (None, 5)                 30        \n",
            "                                                                 \n",
            " dense_4 (Dense)             (None, 1)                 6         \n",
            "                                                                 \n",
            "=================================================================\n",
            "Total params: 136\n",
            "Trainable params: 136\n",
            "Non-trainable params: 0\n",
            "_________________________________________________________________\n"
          ]
        }
      ]
    },
    {
      "cell_type": "code",
      "metadata": {
        "colab": {
          "base_uri": "https://localhost:8080/"
        },
        "id": "9yF2Au6VhIW_",
        "outputId": "6fdeddd2-22d6-4faa-c538-ba447901cd8b"
      },
      "source": [
        "# 모델을 데이터로 학습시킵니다. \n",
        "model.fit(x_boston, y_boston, epochs=500, verbose=0)\n",
        "model.fit(x_boston, y_boston, epochs=10)"
      ],
      "execution_count": 13,
      "outputs": [
        {
          "output_type": "stream",
          "name": "stdout",
          "text": [
            "Epoch 1/10\n",
            "16/16 [==============================] - 0s 2ms/step - loss: 19.9946\n",
            "Epoch 2/10\n",
            "16/16 [==============================] - 0s 2ms/step - loss: 19.6398\n",
            "Epoch 3/10\n",
            "16/16 [==============================] - 0s 2ms/step - loss: 18.8642\n",
            "Epoch 4/10\n",
            "16/16 [==============================] - 0s 1ms/step - loss: 19.9998\n",
            "Epoch 5/10\n",
            "16/16 [==============================] - 0s 2ms/step - loss: 19.2077\n",
            "Epoch 6/10\n",
            "16/16 [==============================] - 0s 2ms/step - loss: 19.9108\n",
            "Epoch 7/10\n",
            "16/16 [==============================] - 0s 2ms/step - loss: 19.2230\n",
            "Epoch 8/10\n",
            "16/16 [==============================] - 0s 2ms/step - loss: 19.0320\n",
            "Epoch 9/10\n",
            "16/16 [==============================] - 0s 2ms/step - loss: 18.6696\n",
            "Epoch 10/10\n",
            "16/16 [==============================] - 0s 2ms/step - loss: 18.2494\n"
          ]
        },
        {
          "output_type": "execute_result",
          "data": {
            "text/plain": [
              "<keras.callbacks.History at 0x7f481c50d990>"
            ]
          },
          "metadata": {},
          "execution_count": 13
        }
      ]
    },
    {
      "cell_type": "markdown",
      "metadata": {
        "id": "w2EUEMrWnQFG"
      },
      "source": [
        "### 아이리스 인공신경망"
      ]
    },
    {
      "cell_type": "code",
      "metadata": {
        "colab": {
          "base_uri": "https://localhost:8080/"
        },
        "id": "OIySRmnOnTEN",
        "outputId": "caaa3814-540c-40bb-bd8e-f1d7ebe67b8e"
      },
      "source": [
        "import pandas as pd\n",
        "import tensorflow as tf\n",
        "\n",
        "# 데이터를 준비합니다. \n",
        "iris = pd.read_csv(\"https://raw.githubusercontent.com/blackdew/ml-tensorflow/master/data/csv/iris.csv\")\n",
        "iris = pd.get_dummies(iris)\n",
        "print(iris.columns)\n",
        "\n",
        "x_iris = iris[['꽃잎길이', '꽃잎폭', '꽃받침길이', '꽃받침폭']]\n",
        "y_iris = iris[['품종_setosa', '품종_versicolor', '품종_virginica']]\n",
        "print(x_iris.shape, y_iris.shape)"
      ],
      "execution_count": 14,
      "outputs": [
        {
          "output_type": "stream",
          "name": "stdout",
          "text": [
            "Index(['꽃잎길이', '꽃잎폭', '꽃받침길이', '꽃받침폭', '품종_setosa', '품종_versicolor',\n",
            "       '품종_virginica'],\n",
            "      dtype='object')\n",
            "(150, 4) (150, 3)\n"
          ]
        }
      ]
    },
    {
      "cell_type": "code",
      "metadata": {
        "colab": {
          "base_uri": "https://localhost:8080/"
        },
        "id": "yOjWB_C0nUa_",
        "outputId": "f75a80ad-b082-495c-b66c-c65363a84ff3"
      },
      "source": [
        "# 모델을 생성합니다. \n",
        "X = tf.keras.layers.Input(shape=[4])\n",
        "H = tf.keras.layers.Dense(8, activation='swish')(X)\n",
        "H = tf.keras.layers.Dense(8, activation='swish')(H)\n",
        "H = tf.keras.layers.Dense(8, activation='swish')(H)\n",
        "Y = tf.keras.layers.Dense(3, activation='softmax')(H)\n",
        "model = tf.keras.models.Model(X, Y)\n",
        "model.compile(loss='categorical_crossentropy', metrics='accuracy')\n",
        "model.summary()"
      ],
      "execution_count": 19,
      "outputs": [
        {
          "output_type": "stream",
          "name": "stdout",
          "text": [
            "Model: \"model_4\"\n",
            "_________________________________________________________________\n",
            " Layer (type)                Output Shape              Param #   \n",
            "=================================================================\n",
            " input_5 (InputLayer)        [(None, 4)]               0         \n",
            "                                                                 \n",
            " dense_13 (Dense)            (None, 9)                 45        \n",
            "                                                                 \n",
            " dense_14 (Dense)            (None, 8)                 80        \n",
            "                                                                 \n",
            " dense_15 (Dense)            (None, 7)                 63        \n",
            "                                                                 \n",
            " dense_16 (Dense)            (None, 3)                 24        \n",
            "                                                                 \n",
            "=================================================================\n",
            "Total params: 212\n",
            "Trainable params: 212\n",
            "Non-trainable params: 0\n",
            "_________________________________________________________________\n"
          ]
        }
      ]
    },
    {
      "cell_type": "code",
      "metadata": {
        "colab": {
          "base_uri": "https://localhost:8080/"
        },
        "id": "-z7iCBeMnVU2",
        "outputId": "8edd1990-305b-4a38-c995-a17401cf61dd"
      },
      "source": [
        "# 모델을 학습합니다. \n",
        "model.fit(x_iris, y_iris, epochs=100)"
      ],
      "execution_count": 20,
      "outputs": [
        {
          "output_type": "stream",
          "name": "stdout",
          "text": [
            "Epoch 1/100\n",
            "5/5 [==============================] - 1s 5ms/step - loss: 0.9877 - accuracy: 0.3333\n",
            "Epoch 2/100\n",
            "5/5 [==============================] - 0s 3ms/step - loss: 0.9262 - accuracy: 0.4933\n",
            "Epoch 3/100\n",
            "5/5 [==============================] - 0s 4ms/step - loss: 0.8796 - accuracy: 0.6667\n",
            "Epoch 4/100\n",
            "5/5 [==============================] - 0s 3ms/step - loss: 0.8379 - accuracy: 0.6667\n",
            "Epoch 5/100\n",
            "5/5 [==============================] - 0s 3ms/step - loss: 0.7991 - accuracy: 0.6667\n",
            "Epoch 6/100\n",
            "5/5 [==============================] - 0s 4ms/step - loss: 0.7651 - accuracy: 0.6667\n",
            "Epoch 7/100\n",
            "5/5 [==============================] - 0s 4ms/step - loss: 0.7354 - accuracy: 0.6667\n",
            "Epoch 8/100\n",
            "5/5 [==============================] - 0s 3ms/step - loss: 0.7031 - accuracy: 0.6800\n",
            "Epoch 9/100\n",
            "5/5 [==============================] - 0s 3ms/step - loss: 0.6781 - accuracy: 0.6867\n",
            "Epoch 10/100\n",
            "5/5 [==============================] - 0s 3ms/step - loss: 0.6513 - accuracy: 0.6933\n",
            "Epoch 11/100\n",
            "5/5 [==============================] - 0s 5ms/step - loss: 0.6287 - accuracy: 0.7000\n",
            "Epoch 12/100\n",
            "5/5 [==============================] - 0s 4ms/step - loss: 0.6053 - accuracy: 0.7133\n",
            "Epoch 13/100\n",
            "5/5 [==============================] - 0s 3ms/step - loss: 0.5833 - accuracy: 0.7133\n",
            "Epoch 14/100\n",
            "5/5 [==============================] - 0s 3ms/step - loss: 0.5652 - accuracy: 0.7267\n",
            "Epoch 15/100\n",
            "5/5 [==============================] - 0s 3ms/step - loss: 0.5461 - accuracy: 0.7133\n",
            "Epoch 16/100\n",
            "5/5 [==============================] - 0s 6ms/step - loss: 0.5298 - accuracy: 0.7200\n",
            "Epoch 17/100\n",
            "5/5 [==============================] - 0s 5ms/step - loss: 0.5116 - accuracy: 0.7533\n",
            "Epoch 18/100\n",
            "5/5 [==============================] - 0s 5ms/step - loss: 0.4953 - accuracy: 0.7933\n",
            "Epoch 19/100\n",
            "5/5 [==============================] - 0s 4ms/step - loss: 0.4792 - accuracy: 0.8067\n",
            "Epoch 20/100\n",
            "5/5 [==============================] - 0s 4ms/step - loss: 0.4650 - accuracy: 0.8133\n",
            "Epoch 21/100\n",
            "5/5 [==============================] - 0s 4ms/step - loss: 0.4522 - accuracy: 0.8400\n",
            "Epoch 22/100\n",
            "5/5 [==============================] - 0s 4ms/step - loss: 0.4381 - accuracy: 0.8533\n",
            "Epoch 23/100\n",
            "5/5 [==============================] - 0s 3ms/step - loss: 0.4243 - accuracy: 0.8800\n",
            "Epoch 24/100\n",
            "5/5 [==============================] - 0s 3ms/step - loss: 0.4154 - accuracy: 0.8867\n",
            "Epoch 25/100\n",
            "5/5 [==============================] - 0s 3ms/step - loss: 0.4063 - accuracy: 0.9333\n",
            "Epoch 26/100\n",
            "5/5 [==============================] - 0s 3ms/step - loss: 0.3932 - accuracy: 0.9133\n",
            "Epoch 27/100\n",
            "5/5 [==============================] - 0s 4ms/step - loss: 0.3834 - accuracy: 0.9400\n",
            "Epoch 28/100\n",
            "5/5 [==============================] - 0s 4ms/step - loss: 0.3783 - accuracy: 0.9400\n",
            "Epoch 29/100\n",
            "5/5 [==============================] - 0s 3ms/step - loss: 0.3660 - accuracy: 0.9600\n",
            "Epoch 30/100\n",
            "5/5 [==============================] - 0s 5ms/step - loss: 0.3588 - accuracy: 0.9600\n",
            "Epoch 31/100\n",
            "5/5 [==============================] - 0s 3ms/step - loss: 0.3505 - accuracy: 0.9333\n",
            "Epoch 32/100\n",
            "5/5 [==============================] - 0s 3ms/step - loss: 0.3412 - accuracy: 0.9667\n",
            "Epoch 33/100\n",
            "5/5 [==============================] - 0s 3ms/step - loss: 0.3375 - accuracy: 0.9467\n",
            "Epoch 34/100\n",
            "5/5 [==============================] - 0s 4ms/step - loss: 0.3268 - accuracy: 0.9600\n",
            "Epoch 35/100\n",
            "5/5 [==============================] - 0s 4ms/step - loss: 0.3240 - accuracy: 0.9600\n",
            "Epoch 36/100\n",
            "5/5 [==============================] - 0s 3ms/step - loss: 0.3131 - accuracy: 0.9667\n",
            "Epoch 37/100\n",
            "5/5 [==============================] - 0s 3ms/step - loss: 0.3063 - accuracy: 0.9533\n",
            "Epoch 38/100\n",
            "5/5 [==============================] - 0s 5ms/step - loss: 0.3001 - accuracy: 0.9667\n",
            "Epoch 39/100\n",
            "5/5 [==============================] - 0s 3ms/step - loss: 0.2934 - accuracy: 0.9600\n",
            "Epoch 40/100\n",
            "5/5 [==============================] - 0s 2ms/step - loss: 0.2856 - accuracy: 0.9533\n",
            "Epoch 41/100\n",
            "5/5 [==============================] - 0s 4ms/step - loss: 0.2804 - accuracy: 0.9667\n",
            "Epoch 42/100\n",
            "5/5 [==============================] - 0s 4ms/step - loss: 0.2728 - accuracy: 0.9667\n",
            "Epoch 43/100\n",
            "5/5 [==============================] - 0s 3ms/step - loss: 0.2666 - accuracy: 0.9667\n",
            "Epoch 44/100\n",
            "5/5 [==============================] - 0s 3ms/step - loss: 0.2604 - accuracy: 0.9667\n",
            "Epoch 45/100\n",
            "5/5 [==============================] - 0s 5ms/step - loss: 0.2539 - accuracy: 0.9733\n",
            "Epoch 46/100\n",
            "5/5 [==============================] - 0s 3ms/step - loss: 0.2475 - accuracy: 0.9733\n",
            "Epoch 47/100\n",
            "5/5 [==============================] - 0s 5ms/step - loss: 0.2456 - accuracy: 0.9733\n",
            "Epoch 48/100\n",
            "5/5 [==============================] - 0s 3ms/step - loss: 0.2376 - accuracy: 0.9667\n",
            "Epoch 49/100\n",
            "5/5 [==============================] - 0s 4ms/step - loss: 0.2324 - accuracy: 0.9600\n",
            "Epoch 50/100\n",
            "5/5 [==============================] - 0s 5ms/step - loss: 0.2273 - accuracy: 0.9600\n",
            "Epoch 51/100\n",
            "5/5 [==============================] - 0s 6ms/step - loss: 0.2220 - accuracy: 0.9733\n",
            "Epoch 52/100\n",
            "5/5 [==============================] - 0s 4ms/step - loss: 0.2202 - accuracy: 0.9733\n",
            "Epoch 53/100\n",
            "5/5 [==============================] - 0s 4ms/step - loss: 0.2093 - accuracy: 0.9667\n",
            "Epoch 54/100\n",
            "5/5 [==============================] - 0s 4ms/step - loss: 0.2070 - accuracy: 0.9600\n",
            "Epoch 55/100\n",
            "5/5 [==============================] - 0s 4ms/step - loss: 0.2034 - accuracy: 0.9733\n",
            "Epoch 56/100\n",
            "5/5 [==============================] - 0s 3ms/step - loss: 0.1989 - accuracy: 0.9667\n",
            "Epoch 57/100\n",
            "5/5 [==============================] - 0s 4ms/step - loss: 0.1929 - accuracy: 0.9667\n",
            "Epoch 58/100\n",
            "5/5 [==============================] - 0s 4ms/step - loss: 0.1902 - accuracy: 0.9733\n",
            "Epoch 59/100\n",
            "5/5 [==============================] - 0s 4ms/step - loss: 0.1820 - accuracy: 0.9667\n",
            "Epoch 60/100\n",
            "5/5 [==============================] - 0s 5ms/step - loss: 0.1790 - accuracy: 0.9667\n",
            "Epoch 61/100\n",
            "5/5 [==============================] - 0s 4ms/step - loss: 0.1772 - accuracy: 0.9667\n",
            "Epoch 62/100\n",
            "5/5 [==============================] - 0s 4ms/step - loss: 0.1765 - accuracy: 0.9533\n",
            "Epoch 63/100\n",
            "5/5 [==============================] - 0s 3ms/step - loss: 0.1657 - accuracy: 0.9600\n",
            "Epoch 64/100\n",
            "5/5 [==============================] - 0s 3ms/step - loss: 0.1638 - accuracy: 0.9667\n",
            "Epoch 65/100\n",
            "5/5 [==============================] - 0s 4ms/step - loss: 0.1665 - accuracy: 0.9667\n",
            "Epoch 66/100\n",
            "5/5 [==============================] - 0s 4ms/step - loss: 0.1573 - accuracy: 0.9667\n",
            "Epoch 67/100\n",
            "5/5 [==============================] - 0s 4ms/step - loss: 0.1536 - accuracy: 0.9667\n",
            "Epoch 68/100\n",
            "5/5 [==============================] - 0s 3ms/step - loss: 0.1492 - accuracy: 0.9733\n",
            "Epoch 69/100\n",
            "5/5 [==============================] - 0s 5ms/step - loss: 0.1536 - accuracy: 0.9600\n",
            "Epoch 70/100\n",
            "5/5 [==============================] - 0s 4ms/step - loss: 0.1424 - accuracy: 0.9600\n",
            "Epoch 71/100\n",
            "5/5 [==============================] - 0s 4ms/step - loss: 0.1390 - accuracy: 0.9667\n",
            "Epoch 72/100\n",
            "5/5 [==============================] - 0s 4ms/step - loss: 0.1377 - accuracy: 0.9600\n",
            "Epoch 73/100\n",
            "5/5 [==============================] - 0s 3ms/step - loss: 0.1348 - accuracy: 0.9667\n",
            "Epoch 74/100\n",
            "5/5 [==============================] - 0s 4ms/step - loss: 0.1364 - accuracy: 0.9600\n",
            "Epoch 75/100\n",
            "5/5 [==============================] - 0s 4ms/step - loss: 0.1323 - accuracy: 0.9733\n",
            "Epoch 76/100\n",
            "5/5 [==============================] - 0s 3ms/step - loss: 0.1271 - accuracy: 0.9600\n",
            "Epoch 77/100\n",
            "5/5 [==============================] - 0s 3ms/step - loss: 0.1272 - accuracy: 0.9733\n",
            "Epoch 78/100\n",
            "5/5 [==============================] - 0s 4ms/step - loss: 0.1201 - accuracy: 0.9733\n",
            "Epoch 79/100\n",
            "5/5 [==============================] - 0s 3ms/step - loss: 0.1202 - accuracy: 0.9667\n",
            "Epoch 80/100\n",
            "5/5 [==============================] - 0s 3ms/step - loss: 0.1167 - accuracy: 0.9667\n",
            "Epoch 81/100\n",
            "5/5 [==============================] - 0s 3ms/step - loss: 0.1189 - accuracy: 0.9733\n",
            "Epoch 82/100\n",
            "5/5 [==============================] - 0s 3ms/step - loss: 0.1155 - accuracy: 0.9600\n",
            "Epoch 83/100\n",
            "5/5 [==============================] - 0s 3ms/step - loss: 0.1194 - accuracy: 0.9533\n",
            "Epoch 84/100\n",
            "5/5 [==============================] - 0s 5ms/step - loss: 0.1089 - accuracy: 0.9733\n",
            "Epoch 85/100\n",
            "5/5 [==============================] - 0s 3ms/step - loss: 0.1118 - accuracy: 0.9667\n",
            "Epoch 86/100\n",
            "5/5 [==============================] - 0s 4ms/step - loss: 0.1076 - accuracy: 0.9733\n",
            "Epoch 87/100\n",
            "5/5 [==============================] - 0s 4ms/step - loss: 0.1042 - accuracy: 0.9800\n",
            "Epoch 88/100\n",
            "5/5 [==============================] - 0s 3ms/step - loss: 0.1137 - accuracy: 0.9600\n",
            "Epoch 89/100\n",
            "5/5 [==============================] - 0s 3ms/step - loss: 0.1000 - accuracy: 0.9800\n",
            "Epoch 90/100\n",
            "5/5 [==============================] - 0s 3ms/step - loss: 0.1064 - accuracy: 0.9600\n",
            "Epoch 91/100\n",
            "5/5 [==============================] - 0s 3ms/step - loss: 0.1004 - accuracy: 0.9667\n",
            "Epoch 92/100\n",
            "5/5 [==============================] - 0s 3ms/step - loss: 0.0973 - accuracy: 0.9667\n",
            "Epoch 93/100\n",
            "5/5 [==============================] - 0s 3ms/step - loss: 0.1017 - accuracy: 0.9733\n",
            "Epoch 94/100\n",
            "5/5 [==============================] - 0s 3ms/step - loss: 0.0953 - accuracy: 0.9800\n",
            "Epoch 95/100\n",
            "5/5 [==============================] - 0s 3ms/step - loss: 0.1131 - accuracy: 0.9600\n",
            "Epoch 96/100\n",
            "5/5 [==============================] - 0s 3ms/step - loss: 0.0935 - accuracy: 0.9733\n",
            "Epoch 97/100\n",
            "5/5 [==============================] - 0s 3ms/step - loss: 0.0981 - accuracy: 0.9800\n",
            "Epoch 98/100\n",
            "5/5 [==============================] - 0s 3ms/step - loss: 0.0940 - accuracy: 0.9600\n",
            "Epoch 99/100\n",
            "5/5 [==============================] - 0s 3ms/step - loss: 0.0931 - accuracy: 0.9733\n",
            "Epoch 100/100\n",
            "5/5 [==============================] - 0s 3ms/step - loss: 0.0931 - accuracy: 0.9800\n"
          ]
        },
        {
          "output_type": "execute_result",
          "data": {
            "text/plain": [
              "<keras.callbacks.History at 0x7f481c0bab50>"
            ]
          },
          "metadata": {},
          "execution_count": 20
        }
      ]
    },
    {
      "cell_type": "markdown",
      "metadata": {
        "id": "qZPZVtH54gAq"
      },
      "source": [
        "### 딥러닝 예제"
      ]
    },
    {
      "cell_type": "code",
      "metadata": {
        "id": "Cd95eZ5O4iFv"
      },
      "source": [
        "import tensorflow as tf\n",
        "x_train = [[0, 0],\n",
        "           [0, 1],\n",
        "           [1, 0],\n",
        "           [1, 1]]\n",
        "y_train = [[0],\n",
        "           [0],\n",
        "           [0],\n",
        "           [1]]"
      ],
      "execution_count": 35,
      "outputs": []
    },
    {
      "cell_type": "code",
      "metadata": {
        "id": "ZgsgZd5H5sw0"
      },
      "source": [
        "X = tf.keras.layers.Input(shape=[2])\n",
        "Y = tf.keras.layers.Dense(2, activation=\"sigmoid\")(X)\n",
        "model = tf.keras.models.Model(X, Y)\n",
        "model.compile(loss=\"binary_crossentropy\", metrics=\"accuracy\")"
      ],
      "execution_count": 36,
      "outputs": []
    },
    {
      "cell_type": "code",
      "metadata": {
        "colab": {
          "base_uri": "https://localhost:8080/"
        },
        "id": "9c9wmJ9H8WEE",
        "outputId": "86195e1a-60c5-4f78-b98e-5a57fcb5ff38"
      },
      "source": [
        "# 데이터 준비하기\n",
        "x_input = [\n",
        "    [1, 2],\n",
        "    [1, 5],\n",
        "    [2, 2],\n",
        "    [2, 9],\n",
        "    [3, 1],\n",
        "    [3, 7],\n",
        "    [4, 3],\n",
        "    [4, 8],\n",
        "    [5, 8],\n",
        "    [5, 3],\n",
        "    [6, 5],\n",
        "    [6, 9],\n",
        "    [7, 3],\n",
        "    [7, 1],\n",
        "    [8, 5],\n",
        "    [8, 8],\n",
        "    [9, 4],\n",
        "    [9, 3],\n",
        "]\n",
        "y_label = [[sum(e)] for e in x_input]\n",
        "y_label"
      ],
      "execution_count": 39,
      "outputs": [
        {
          "output_type": "execute_result",
          "data": {
            "text/plain": [
              "[[3],\n",
              " [6],\n",
              " [4],\n",
              " [11],\n",
              " [4],\n",
              " [10],\n",
              " [7],\n",
              " [12],\n",
              " [13],\n",
              " [8],\n",
              " [11],\n",
              " [15],\n",
              " [10],\n",
              " [8],\n",
              " [13],\n",
              " [16],\n",
              " [13],\n",
              " [12]]"
            ]
          },
          "metadata": {},
          "execution_count": 39
        }
      ]
    },
    {
      "cell_type": "code",
      "metadata": {
        "id": "sm7yGGui8YNN"
      },
      "source": [
        "X = tf.keras.layers.Input(shape=[2])\n",
        "H = tf.keras.layers.Dense(8, activation=\"swish\")(X)\n",
        "H = tf.keras.layers.Dense(8, activation=\"swish\")(H)\n",
        "H = tf.keras.layers.Dense(8, activation=\"swish\")(H)\n",
        "Y = tf.keras.layers.Dense(1)(H)\n",
        "model = tf.keras.models.Model(X, Y)\n",
        "model.compile(loss=\"mse\", metrics=\"accuracy\")"
      ],
      "execution_count": 40,
      "outputs": []
    },
    {
      "cell_type": "code",
      "metadata": {
        "colab": {
          "base_uri": "https://localhost:8080/"
        },
        "id": "P_jDjYRj8Z4l",
        "outputId": "c6db8a95-6a0f-4142-8b20-65797a4ae248"
      },
      "source": [
        "model.fit(x_input, y_label, epochs=1000, verbose=0)\n",
        "model.fit(x_input, y_label, epochs=10)"
      ],
      "execution_count": 43,
      "outputs": [
        {
          "output_type": "stream",
          "name": "stdout",
          "text": [
            "Epoch 1/10\n",
            "1/1 [==============================] - 0s 6ms/step - loss: 0.0042 - accuracy: 0.0000e+00\n",
            "Epoch 2/10\n",
            "1/1 [==============================] - 0s 6ms/step - loss: 0.0042 - accuracy: 0.0000e+00\n",
            "Epoch 3/10\n",
            "1/1 [==============================] - 0s 6ms/step - loss: 0.0042 - accuracy: 0.0000e+00\n",
            "Epoch 4/10\n",
            "1/1 [==============================] - 0s 7ms/step - loss: 0.0042 - accuracy: 0.0000e+00\n",
            "Epoch 5/10\n",
            "1/1 [==============================] - 0s 6ms/step - loss: 0.0042 - accuracy: 0.0000e+00\n",
            "Epoch 6/10\n",
            "1/1 [==============================] - 0s 6ms/step - loss: 0.0042 - accuracy: 0.0000e+00\n",
            "Epoch 7/10\n",
            "1/1 [==============================] - 0s 21ms/step - loss: 0.0042 - accuracy: 0.0000e+00\n",
            "Epoch 8/10\n",
            "1/1 [==============================] - 0s 11ms/step - loss: 0.0042 - accuracy: 0.0000e+00\n",
            "Epoch 9/10\n",
            "1/1 [==============================] - 0s 11ms/step - loss: 0.0042 - accuracy: 0.0000e+00\n",
            "Epoch 10/10\n",
            "1/1 [==============================] - 0s 12ms/step - loss: 0.0042 - accuracy: 0.0000e+00\n"
          ]
        },
        {
          "output_type": "execute_result",
          "data": {
            "text/plain": [
              "<keras.callbacks.History at 0x7f4818eb5c10>"
            ]
          },
          "metadata": {},
          "execution_count": 43
        }
      ]
    },
    {
      "cell_type": "code",
      "metadata": {
        "colab": {
          "base_uri": "https://localhost:8080/"
        },
        "id": "WgJGmgZV8igY",
        "outputId": "607cbd7b-b026-4188-b234-e3d88447c098"
      },
      "source": [
        "model.predict([[12, 11]])"
      ],
      "execution_count": 44,
      "outputs": [
        {
          "output_type": "execute_result",
          "data": {
            "text/plain": [
              "array([[22.603065]], dtype=float32)"
            ]
          },
          "metadata": {},
          "execution_count": 44
        }
      ]
    }
  ]
}