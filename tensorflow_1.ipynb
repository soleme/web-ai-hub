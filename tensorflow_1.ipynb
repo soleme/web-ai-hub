{
  "nbformat": 4,
  "nbformat_minor": 0,
  "metadata": {
    "colab": {
      "name": "Untitled3.ipynb",
      "provenance": [],
      "collapsed_sections": [],
      "authorship_tag": "ABX9TyP5YMScJv83wdXraHGuuCqh",
      "include_colab_link": true
    },
    "kernelspec": {
      "name": "python3",
      "display_name": "Python 3"
    },
    "language_info": {
      "name": "python"
    }
  },
  "cells": [
    {
      "cell_type": "markdown",
      "metadata": {
        "id": "view-in-github",
        "colab_type": "text"
      },
      "source": [
        "<a href=\"https://colab.research.google.com/github/soleme/web-ai-hub/blob/main/tensorflow_1.ipynb\" target=\"_parent\"><img src=\"https://colab.research.google.com/assets/colab-badge.svg\" alt=\"Open In Colab\"/></a>"
      ]
    },
    {
      "cell_type": "code",
      "metadata": {
        "colab": {
          "base_uri": "https://localhost:8080/",
          "height": 225
        },
        "id": "bQvJTwFGDcoZ",
        "outputId": "56b8b181-5e8a-4c29-ddbd-0485d816d196"
      },
      "source": [
        "import pandas as pd\n",
        "\n",
        "path = \"https://raw.githubusercontent.com/blackdew/ml-tensorflow/master/data/csv/lemonade.csv\"\n",
        "lemon = pd.read_csv(path)\n",
        "print(lemon.shape)\n",
        "lemon.head()"
      ],
      "execution_count": 4,
      "outputs": [
        {
          "output_type": "stream",
          "name": "stdout",
          "text": [
            "(6, 2)\n"
          ]
        },
        {
          "output_type": "execute_result",
          "data": {
            "text/html": [
              "<div>\n",
              "<style scoped>\n",
              "    .dataframe tbody tr th:only-of-type {\n",
              "        vertical-align: middle;\n",
              "    }\n",
              "\n",
              "    .dataframe tbody tr th {\n",
              "        vertical-align: top;\n",
              "    }\n",
              "\n",
              "    .dataframe thead th {\n",
              "        text-align: right;\n",
              "    }\n",
              "</style>\n",
              "<table border=\"1\" class=\"dataframe\">\n",
              "  <thead>\n",
              "    <tr style=\"text-align: right;\">\n",
              "      <th></th>\n",
              "      <th>온도</th>\n",
              "      <th>판매량</th>\n",
              "    </tr>\n",
              "  </thead>\n",
              "  <tbody>\n",
              "    <tr>\n",
              "      <th>0</th>\n",
              "      <td>20</td>\n",
              "      <td>40</td>\n",
              "    </tr>\n",
              "    <tr>\n",
              "      <th>1</th>\n",
              "      <td>21</td>\n",
              "      <td>42</td>\n",
              "    </tr>\n",
              "    <tr>\n",
              "      <th>2</th>\n",
              "      <td>22</td>\n",
              "      <td>44</td>\n",
              "    </tr>\n",
              "    <tr>\n",
              "      <th>3</th>\n",
              "      <td>23</td>\n",
              "      <td>46</td>\n",
              "    </tr>\n",
              "    <tr>\n",
              "      <th>4</th>\n",
              "      <td>24</td>\n",
              "      <td>48</td>\n",
              "    </tr>\n",
              "  </tbody>\n",
              "</table>\n",
              "</div>"
            ],
            "text/plain": [
              "   온도  판매량\n",
              "0  20   40\n",
              "1  21   42\n",
              "2  22   44\n",
              "3  23   46\n",
              "4  24   48"
            ]
          },
          "metadata": {},
          "execution_count": 4
        }
      ]
    },
    {
      "cell_type": "code",
      "metadata": {
        "colab": {
          "base_uri": "https://localhost:8080/"
        },
        "id": "E-eAhNPMN-Pc",
        "outputId": "8e854843-cdc3-4abc-d6c7-ebbf858bdffc"
      },
      "source": [
        "독립 = lemon[['온도']]\n",
        "종속 = lemon[['판매량']]\n",
        "\n",
        "print(독립.head(2))\n",
        "print(종속.head(2))"
      ],
      "execution_count": 5,
      "outputs": [
        {
          "output_type": "stream",
          "name": "stdout",
          "text": [
            "   온도\n",
            "0  20\n",
            "1  21\n",
            "   판매량\n",
            "0   40\n",
            "1   42\n"
          ]
        }
      ]
    },
    {
      "cell_type": "code",
      "metadata": {
        "colab": {
          "base_uri": "https://localhost:8080/",
          "height": 225
        },
        "id": "OmPamwFqOAsO",
        "outputId": "28137502-61eb-4159-dcd7-f579708055e7"
      },
      "source": [
        "import pandas as pd\n",
        "\n",
        "path = \"https://raw.githubusercontent.com/blackdew/ml-tensorflow/master/data/csv/boston.csv\"\n",
        "boston = pd.read_csv(path)\n",
        "print(boston.shape)\n",
        "boston.head()"
      ],
      "execution_count": 6,
      "outputs": [
        {
          "output_type": "stream",
          "name": "stdout",
          "text": [
            "(506, 14)\n"
          ]
        },
        {
          "output_type": "execute_result",
          "data": {
            "text/html": [
              "<div>\n",
              "<style scoped>\n",
              "    .dataframe tbody tr th:only-of-type {\n",
              "        vertical-align: middle;\n",
              "    }\n",
              "\n",
              "    .dataframe tbody tr th {\n",
              "        vertical-align: top;\n",
              "    }\n",
              "\n",
              "    .dataframe thead th {\n",
              "        text-align: right;\n",
              "    }\n",
              "</style>\n",
              "<table border=\"1\" class=\"dataframe\">\n",
              "  <thead>\n",
              "    <tr style=\"text-align: right;\">\n",
              "      <th></th>\n",
              "      <th>crim</th>\n",
              "      <th>zn</th>\n",
              "      <th>indus</th>\n",
              "      <th>chas</th>\n",
              "      <th>nox</th>\n",
              "      <th>rm</th>\n",
              "      <th>age</th>\n",
              "      <th>dis</th>\n",
              "      <th>rad</th>\n",
              "      <th>tax</th>\n",
              "      <th>ptratio</th>\n",
              "      <th>b</th>\n",
              "      <th>lstat</th>\n",
              "      <th>medv</th>\n",
              "    </tr>\n",
              "  </thead>\n",
              "  <tbody>\n",
              "    <tr>\n",
              "      <th>0</th>\n",
              "      <td>0.00632</td>\n",
              "      <td>18.0</td>\n",
              "      <td>2.31</td>\n",
              "      <td>0</td>\n",
              "      <td>0.538</td>\n",
              "      <td>6.575</td>\n",
              "      <td>65.2</td>\n",
              "      <td>4.0900</td>\n",
              "      <td>1</td>\n",
              "      <td>296</td>\n",
              "      <td>15.3</td>\n",
              "      <td>396.90</td>\n",
              "      <td>4.98</td>\n",
              "      <td>24.0</td>\n",
              "    </tr>\n",
              "    <tr>\n",
              "      <th>1</th>\n",
              "      <td>0.02731</td>\n",
              "      <td>0.0</td>\n",
              "      <td>7.07</td>\n",
              "      <td>0</td>\n",
              "      <td>0.469</td>\n",
              "      <td>6.421</td>\n",
              "      <td>78.9</td>\n",
              "      <td>4.9671</td>\n",
              "      <td>2</td>\n",
              "      <td>242</td>\n",
              "      <td>17.8</td>\n",
              "      <td>396.90</td>\n",
              "      <td>9.14</td>\n",
              "      <td>21.6</td>\n",
              "    </tr>\n",
              "    <tr>\n",
              "      <th>2</th>\n",
              "      <td>0.02729</td>\n",
              "      <td>0.0</td>\n",
              "      <td>7.07</td>\n",
              "      <td>0</td>\n",
              "      <td>0.469</td>\n",
              "      <td>7.185</td>\n",
              "      <td>61.1</td>\n",
              "      <td>4.9671</td>\n",
              "      <td>2</td>\n",
              "      <td>242</td>\n",
              "      <td>17.8</td>\n",
              "      <td>392.83</td>\n",
              "      <td>4.03</td>\n",
              "      <td>34.7</td>\n",
              "    </tr>\n",
              "    <tr>\n",
              "      <th>3</th>\n",
              "      <td>0.03237</td>\n",
              "      <td>0.0</td>\n",
              "      <td>2.18</td>\n",
              "      <td>0</td>\n",
              "      <td>0.458</td>\n",
              "      <td>6.998</td>\n",
              "      <td>45.8</td>\n",
              "      <td>6.0622</td>\n",
              "      <td>3</td>\n",
              "      <td>222</td>\n",
              "      <td>18.7</td>\n",
              "      <td>394.63</td>\n",
              "      <td>2.94</td>\n",
              "      <td>33.4</td>\n",
              "    </tr>\n",
              "    <tr>\n",
              "      <th>4</th>\n",
              "      <td>0.06905</td>\n",
              "      <td>0.0</td>\n",
              "      <td>2.18</td>\n",
              "      <td>0</td>\n",
              "      <td>0.458</td>\n",
              "      <td>7.147</td>\n",
              "      <td>54.2</td>\n",
              "      <td>6.0622</td>\n",
              "      <td>3</td>\n",
              "      <td>222</td>\n",
              "      <td>18.7</td>\n",
              "      <td>396.90</td>\n",
              "      <td>5.33</td>\n",
              "      <td>36.2</td>\n",
              "    </tr>\n",
              "  </tbody>\n",
              "</table>\n",
              "</div>"
            ],
            "text/plain": [
              "      crim    zn  indus  chas    nox  ...  tax  ptratio       b  lstat  medv\n",
              "0  0.00632  18.0   2.31     0  0.538  ...  296     15.3  396.90   4.98  24.0\n",
              "1  0.02731   0.0   7.07     0  0.469  ...  242     17.8  396.90   9.14  21.6\n",
              "2  0.02729   0.0   7.07     0  0.469  ...  242     17.8  392.83   4.03  34.7\n",
              "3  0.03237   0.0   2.18     0  0.458  ...  222     18.7  394.63   2.94  33.4\n",
              "4  0.06905   0.0   2.18     0  0.458  ...  222     18.7  396.90   5.33  36.2\n",
              "\n",
              "[5 rows x 14 columns]"
            ]
          },
          "metadata": {},
          "execution_count": 6
        }
      ]
    },
    {
      "cell_type": "code",
      "metadata": {
        "colab": {
          "base_uri": "https://localhost:8080/"
        },
        "id": "imTc1KRdOC4g",
        "outputId": "262088a0-7c96-4e56-9fe1-eceab3e8c363"
      },
      "source": [
        "print(boston.columns)\n",
        "독립 = boston[['crim', 'zn', 'indus', 'chas', 'nox', 'rm', 'age', 'dis', 'rad', 'tax',\n",
        "       'ptratio', 'b', 'lstat']]\n",
        "종속 = boston[['medv']]\n",
        "print(독립.shape, 종속.shape)\n",
        "print(독립.head(2))\n",
        "print(종속.head(2))"
      ],
      "execution_count": 7,
      "outputs": [
        {
          "output_type": "stream",
          "name": "stdout",
          "text": [
            "Index(['crim', 'zn', 'indus', 'chas', 'nox', 'rm', 'age', 'dis', 'rad', 'tax',\n",
            "       'ptratio', 'b', 'lstat', 'medv'],\n",
            "      dtype='object')\n",
            "(506, 13) (506, 1)\n",
            "      crim    zn  indus  chas    nox  ...  rad  tax  ptratio      b  lstat\n",
            "0  0.00632  18.0   2.31     0  0.538  ...    1  296     15.3  396.9   4.98\n",
            "1  0.02731   0.0   7.07     0  0.469  ...    2  242     17.8  396.9   9.14\n",
            "\n",
            "[2 rows x 13 columns]\n",
            "   medv\n",
            "0  24.0\n",
            "1  21.6\n"
          ]
        }
      ]
    },
    {
      "cell_type": "code",
      "metadata": {
        "colab": {
          "base_uri": "https://localhost:8080/",
          "height": 225
        },
        "id": "2GzsI0VzOFeF",
        "outputId": "690f0d66-7a8f-4909-eecc-095f7d24ab65"
      },
      "source": [
        "import pandas as pd\n",
        "\n",
        "path = \"https://raw.githubusercontent.com/blackdew/ml-tensorflow/master/data/csv/iris.csv\"\n",
        "iris = pd.read_csv(path)\n",
        "print(iris.shape)\n",
        "iris.head()"
      ],
      "execution_count": 8,
      "outputs": [
        {
          "output_type": "stream",
          "name": "stdout",
          "text": [
            "(150, 5)\n"
          ]
        },
        {
          "output_type": "execute_result",
          "data": {
            "text/html": [
              "<div>\n",
              "<style scoped>\n",
              "    .dataframe tbody tr th:only-of-type {\n",
              "        vertical-align: middle;\n",
              "    }\n",
              "\n",
              "    .dataframe tbody tr th {\n",
              "        vertical-align: top;\n",
              "    }\n",
              "\n",
              "    .dataframe thead th {\n",
              "        text-align: right;\n",
              "    }\n",
              "</style>\n",
              "<table border=\"1\" class=\"dataframe\">\n",
              "  <thead>\n",
              "    <tr style=\"text-align: right;\">\n",
              "      <th></th>\n",
              "      <th>꽃잎길이</th>\n",
              "      <th>꽃잎폭</th>\n",
              "      <th>꽃받침길이</th>\n",
              "      <th>꽃받침폭</th>\n",
              "      <th>품종</th>\n",
              "    </tr>\n",
              "  </thead>\n",
              "  <tbody>\n",
              "    <tr>\n",
              "      <th>0</th>\n",
              "      <td>5.1</td>\n",
              "      <td>3.5</td>\n",
              "      <td>1.4</td>\n",
              "      <td>0.2</td>\n",
              "      <td>setosa</td>\n",
              "    </tr>\n",
              "    <tr>\n",
              "      <th>1</th>\n",
              "      <td>4.9</td>\n",
              "      <td>3.0</td>\n",
              "      <td>1.4</td>\n",
              "      <td>0.2</td>\n",
              "      <td>setosa</td>\n",
              "    </tr>\n",
              "    <tr>\n",
              "      <th>2</th>\n",
              "      <td>4.7</td>\n",
              "      <td>3.2</td>\n",
              "      <td>1.3</td>\n",
              "      <td>0.2</td>\n",
              "      <td>setosa</td>\n",
              "    </tr>\n",
              "    <tr>\n",
              "      <th>3</th>\n",
              "      <td>4.6</td>\n",
              "      <td>3.1</td>\n",
              "      <td>1.5</td>\n",
              "      <td>0.2</td>\n",
              "      <td>setosa</td>\n",
              "    </tr>\n",
              "    <tr>\n",
              "      <th>4</th>\n",
              "      <td>5.0</td>\n",
              "      <td>3.6</td>\n",
              "      <td>1.4</td>\n",
              "      <td>0.2</td>\n",
              "      <td>setosa</td>\n",
              "    </tr>\n",
              "  </tbody>\n",
              "</table>\n",
              "</div>"
            ],
            "text/plain": [
              "   꽃잎길이  꽃잎폭  꽃받침길이  꽃받침폭      품종\n",
              "0   5.1  3.5    1.4   0.2  setosa\n",
              "1   4.9  3.0    1.4   0.2  setosa\n",
              "2   4.7  3.2    1.3   0.2  setosa\n",
              "3   4.6  3.1    1.5   0.2  setosa\n",
              "4   5.0  3.6    1.4   0.2  setosa"
            ]
          },
          "metadata": {},
          "execution_count": 8
        }
      ]
    },
    {
      "cell_type": "markdown",
      "metadata": {
        "id": "ZGFF-JvERWWR"
      },
      "source": [
        "## 첫번째 딥러닝 - 레모네이드 판매 예측\n",
        "###\"https://raw.githubusercontent.com/blackdew/ml-tensorflow/master/data/csv/lemonade.csv\""
      ]
    },
    {
      "cell_type": "code",
      "metadata": {
        "colab": {
          "base_uri": "https://localhost:8080/"
        },
        "id": "g1vrRWnDRKhW",
        "outputId": "66315d3a-1409-468a-953b-a4839cec70e5"
      },
      "source": [
        "import tensorflow as tf\n",
        "import pandas as pd\n",
        "# 데이터를 준비합니다.\n",
        "\n",
        "path = \"https://raw.githubusercontent.com/blackdew/ml-tensorflow/master/data/csv/lemonade.csv\"\n",
        "lemon = pd.read_csv(path)\n",
        "\n",
        "x_lemon = lemon[['온도']]\n",
        "y_lemon = lemon[['판매량']]\n",
        "print(x_lemon.shape, y_lemon.shape)"
      ],
      "execution_count": 14,
      "outputs": [
        {
          "output_type": "stream",
          "name": "stdout",
          "text": [
            "(6, 1) (6, 1)\n"
          ]
        }
      ]
    },
    {
      "cell_type": "code",
      "metadata": {
        "id": "d5YK86kPRTxA"
      },
      "source": [
        "# 모델을 생성합니다.\n",
        "X = tf.keras.layers.Input(shape=[1])\n",
        "Y = tf.keras.layers.Dense(1)(X)\n",
        "model = tf.keras.models.Model(X,Y)\n",
        "model.compile(loss=\"mse\")"
      ],
      "execution_count": 17,
      "outputs": []
    },
    {
      "cell_type": "code",
      "metadata": {
        "colab": {
          "base_uri": "https://localhost:8080/"
        },
        "id": "bVa7mbYnUbp4",
        "outputId": "8275a283-5198-4fec-8a1a-0e408e58132b"
      },
      "source": [
        "model.fit(x_lemon, y_lemon, epochs=1000, verbose=0)\n",
        "model.fit(x_lemon, y_lemon, epochs=10)"
      ],
      "execution_count": 31,
      "outputs": [
        {
          "output_type": "stream",
          "name": "stdout",
          "text": [
            "Epoch 1/10\n",
            "1/1 [==============================] - 0s 5ms/step - loss: 6.4308e-04\n",
            "Epoch 2/10\n",
            "1/1 [==============================] - 0s 5ms/step - loss: 6.4256e-04\n",
            "Epoch 3/10\n",
            "1/1 [==============================] - 0s 5ms/step - loss: 6.4229e-04\n",
            "Epoch 4/10\n",
            "1/1 [==============================] - 0s 7ms/step - loss: 6.4197e-04\n",
            "Epoch 5/10\n",
            "1/1 [==============================] - 0s 6ms/step - loss: 6.4160e-04\n",
            "Epoch 6/10\n",
            "1/1 [==============================] - 0s 6ms/step - loss: 6.4118e-04\n",
            "Epoch 7/10\n",
            "1/1 [==============================] - 0s 6ms/step - loss: 6.4062e-04\n",
            "Epoch 8/10\n",
            "1/1 [==============================] - 0s 12ms/step - loss: 6.4008e-04\n",
            "Epoch 9/10\n",
            "1/1 [==============================] - 0s 7ms/step - loss: 6.3955e-04\n",
            "Epoch 10/10\n",
            "1/1 [==============================] - 0s 6ms/step - loss: 6.3899e-04\n"
          ]
        },
        {
          "output_type": "execute_result",
          "data": {
            "text/plain": [
              "<keras.callbacks.History at 0x7f18db0ab090>"
            ]
          },
          "metadata": {},
          "execution_count": 31
        }
      ]
    },
    {
      "cell_type": "code",
      "metadata": {
        "colab": {
          "base_uri": "https://localhost:8080/"
        },
        "id": "LSioZLKsRfAb",
        "outputId": "06901c8e-f8f1-4955-b1ce-cd2515a5b23f"
      },
      "source": [
        "# 모델을 이용합니다.\n",
        "model.predict(x_lemon)"
      ],
      "execution_count": 32,
      "outputs": [
        {
          "output_type": "execute_result",
          "data": {
            "text/plain": [
              "array([[40.023785],\n",
              "       [42.010227],\n",
              "       [43.996666],\n",
              "       [45.983105],\n",
              "       [47.969547],\n",
              "       [49.95599 ]], dtype=float32)"
            ]
          },
          "metadata": {},
          "execution_count": 32
        }
      ]
    },
    {
      "cell_type": "code",
      "metadata": {
        "colab": {
          "base_uri": "https://localhost:8080/"
        },
        "id": "2iWHf6dbVMZ9",
        "outputId": "e1527b94-e5f6-4c71-e1e6-e04eaad960d7"
      },
      "source": [
        "model.get_weights()"
      ],
      "execution_count": 33,
      "outputs": [
        {
          "output_type": "execute_result",
          "data": {
            "text/plain": [
              "[array([[1.9864407]], dtype=float32), array([0.29497144], dtype=float32)]"
            ]
          },
          "metadata": {},
          "execution_count": 33
        }
      ]
    },
    {
      "cell_type": "code",
      "metadata": {
        "colab": {
          "base_uri": "https://localhost:8080/"
        },
        "id": "s-Q0yeFHVVmf",
        "outputId": "14dc0747-5c35-4b4e-e8ca-d691577e0562"
      },
      "source": [
        "0.22441791 * 20 + 0.03882809"
      ],
      "execution_count": 25,
      "outputs": [
        {
          "output_type": "execute_result",
          "data": {
            "text/plain": [
              "4.52718629"
            ]
          },
          "metadata": {},
          "execution_count": 25
        }
      ]
    },
    {
      "cell_type": "markdown",
      "metadata": {
        "id": "qIGsS4Hbe5PN"
      },
      "source": [
        "## 두번째 딥러닝 - 보스턴 집값 예측\n",
        "-\"https://raw.githubusercontent.com/blackdew/ml-tensorflow/master/data/csv/boston.csv\""
      ]
    },
    {
      "cell_type": "code",
      "metadata": {
        "colab": {
          "base_uri": "https://localhost:8080/"
        },
        "id": "U6-MS68ufCEM",
        "outputId": "1705f2ce-ea1f-48b5-ca5c-3770b4572679"
      },
      "source": [
        "import pandas as pd\n",
        "import tensorflow as tf\n",
        "\n",
        "# 데이터를 준비한다\n",
        "path = \"https://raw.githubusercontent.com/blackdew/ml-tensorflow/master/data/csv/boston.csv\"\n",
        "boston = pd.read_csv(path)\n",
        "print(boston.columns)\n",
        "\n",
        "x_boston = boston[['crim', 'zn', 'indus', 'chas', 'nox', 'rm', 'age', 'dis', 'rad', 'tax',\n",
        "       'ptratio', 'b', 'lstat']]\n",
        "y_boston = boston[['medv']]       \n",
        "print(x_boston.shape, y_boston.shape)"
      ],
      "execution_count": 37,
      "outputs": [
        {
          "output_type": "stream",
          "name": "stdout",
          "text": [
            "Index(['crim', 'zn', 'indus', 'chas', 'nox', 'rm', 'age', 'dis', 'rad', 'tax',\n",
            "       'ptratio', 'b', 'lstat', 'medv'],\n",
            "      dtype='object')\n",
            "(506, 13) (506, 1)\n"
          ]
        }
      ]
    },
    {
      "cell_type": "code",
      "metadata": {
        "colab": {
          "base_uri": "https://localhost:8080/",
          "height": 440
        },
        "id": "6cTe7LjwfGF6",
        "outputId": "21fc0df4-1f49-4412-a09c-59ed1fb661d3"
      },
      "source": [
        "# 모델을 준비한다\n",
        "X = tf.keras.layers.Input(shape=[13])\n",
        "Y = tf.keras.layers.Dense(1)(X)\n",
        "model = tf.keras.models.Model(X, Y)\n",
        "model.compile(loss=\"mse\")\n",
        "\n",
        "model.summary()\n",
        "tf.keras.utils.plot_model(model, show_shapes=True)"
      ],
      "execution_count": 41,
      "outputs": [
        {
          "output_type": "stream",
          "name": "stdout",
          "text": [
            "Model: \"model_5\"\n",
            "_________________________________________________________________\n",
            " Layer (type)                Output Shape              Param #   \n",
            "=================================================================\n",
            " input_6 (InputLayer)        [(None, 13)]              0         \n",
            "                                                                 \n",
            " dense_5 (Dense)             (None, 1)                 14        \n",
            "                                                                 \n",
            "=================================================================\n",
            "Total params: 14\n",
            "Trainable params: 14\n",
            "Non-trainable params: 0\n",
            "_________________________________________________________________\n"
          ]
        },
        {
          "output_type": "execute_result",
          "data": {
            "image/png": "[encoded data removed]",
            "text/plain": [
              "<IPython.core.display.Image object>"
            ]
          },
          "metadata": {},
          "execution_count": 41
        }
      ]
    },
    {
      "cell_type": "code",
      "metadata": {
        "colab": {
          "base_uri": "https://localhost:8080/"
        },
        "id": "RfymzPsmfEN7",
        "outputId": "31712ad0-72f3-422d-a795-8d3a481197bd"
      },
      "source": [
        "# 모델을 데이터로 학습시킨다\n",
        "model.fit(x_boston, y_boston, epochs=1000, verbose=0)\n",
        "model.fit(x_boston, y_boston, epochs=10)"
      ],
      "execution_count": 44,
      "outputs": [
        {
          "output_type": "stream",
          "name": "stdout",
          "text": [
            "Epoch 1/10\n",
            "16/16 [==============================] - 0s 2ms/step - loss: 24.9535\n",
            "Epoch 2/10\n",
            "16/16 [==============================] - 0s 2ms/step - loss: 24.7684\n",
            "Epoch 3/10\n",
            "16/16 [==============================] - 0s 2ms/step - loss: 24.7085\n",
            "Epoch 4/10\n",
            "16/16 [==============================] - 0s 1ms/step - loss: 24.8790\n",
            "Epoch 5/10\n",
            "16/16 [==============================] - 0s 2ms/step - loss: 24.5154\n",
            "Epoch 6/10\n",
            "16/16 [==============================] - 0s 1ms/step - loss: 24.6712\n",
            "Epoch 7/10\n",
            "16/16 [==============================] - 0s 1ms/step - loss: 24.5717\n",
            "Epoch 8/10\n",
            "16/16 [==============================] - 0s 1ms/step - loss: 24.7677\n",
            "Epoch 9/10\n",
            "16/16 [==============================] - 0s 2ms/step - loss: 24.6122\n",
            "Epoch 10/10\n",
            "16/16 [==============================] - 0s 2ms/step - loss: 24.9311\n"
          ]
        },
        {
          "output_type": "execute_result",
          "data": {
            "text/plain": [
              "<keras.callbacks.History at 0x7f195ce0cc90>"
            ]
          },
          "metadata": {},
          "execution_count": 44
        }
      ]
    },
    {
      "cell_type": "code",
      "metadata": {
        "colab": {
          "base_uri": "https://localhost:8080/"
        },
        "id": "CsyD4fivfJzN",
        "outputId": "01b4b1fc-53ce-4e4d-fb27-483155c4204e"
      },
      "source": [
        "# 모델을 이용한다\n",
        "model.predict(x_boston[:5])"
      ],
      "execution_count": 45,
      "outputs": [
        {
          "output_type": "execute_result",
          "data": {
            "text/plain": [
              "array([[30.034752],\n",
              "       [24.866808],\n",
              "       [31.257698],\n",
              "       [30.170763],\n",
              "       [29.726696]], dtype=float32)"
            ]
          },
          "metadata": {},
          "execution_count": 45
        }
      ]
    },
    {
      "cell_type": "code",
      "metadata": {
        "colab": {
          "base_uri": "https://localhost:8080/"
        },
        "id": "btnyntn5jOmV",
        "outputId": "03c81d36-d60e-4fb2-ee20-502f41ff1c51"
      },
      "source": [
        "model.get_weights()"
      ],
      "execution_count": 47,
      "outputs": [
        {
          "output_type": "execute_result",
          "data": {
            "text/plain": [
              "[array([[-0.08748121],\n",
              "        [ 0.0540995 ],\n",
              "        [-0.04336084],\n",
              "        [ 2.9176128 ],\n",
              "        [ 2.0115478 ],\n",
              "        [ 5.023054  ],\n",
              "        [-0.00601643],\n",
              "        [-0.9817363 ],\n",
              "        [ 0.17508905],\n",
              "        [-0.00998509],\n",
              "        [-0.3218031 ],\n",
              "        [ 0.01461662],\n",
              "        [-0.49034646]], dtype=float32), array([3.8051312], dtype=float32)]"
            ]
          },
          "metadata": {},
          "execution_count": 47
        }
      ]
    }
  ]
}